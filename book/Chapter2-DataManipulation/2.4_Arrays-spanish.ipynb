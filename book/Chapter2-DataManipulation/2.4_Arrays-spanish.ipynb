{
 "cells": [
  {
   "cell_type": "markdown",
   "id": "28c5e04d",
   "metadata": {},
   "source": [
    "# 2.4 Matrices de datos\n",
    "\n",
    "Esta lección presenta las matrices\n",
    "\n",
    "Esta sección introduce:\n",
    "- Nivel 1: **Numpy** paquete que proporciona herramientas fundamentales de python para arrays de datos\n",
    "- Nivel 2: **Xarrays** matrices N-dimensionales\n",
    "- Nivel 3: **Pytorch Tensor**, arrays N-dimensionales para pytorch.\n",
    "\n",
    "En todos los niveles, practicaremos\n",
    "- **Matplotlib** paquete de python que proporciona funcionalidades básicas para graficar.\n",
    "\n"
   ]
  },
  {
   "cell_type": "markdown",
   "id": "47124ce9",
   "metadata": {},
   "source": [
    "## 1 Matrices Numpy\n",
    "\n",
    "Las secuencias de datos se pueden almacenar en *listas* de python. Las listas son muy flexibles; datos de idéntico tipo pueden ser añadidos a la lista sobre la marcha.\n",
    "\n",
    "Los arrays Numpy son objetos multidimensionales de tipos de datos específicos (flotantes, cadenas, enteros, ...). ¡! Las matrices Numpy deben declararse en primer lugar. Asignar la memoria de los datos con antelación puede ahorrar tiempo de cálculo. Las matrices Numpy soportan operaciones aritméticas.\n",
    "Existen numerosos tutoriales para obtener ayuda.\n",
    "https://www.earthdatascience.org/courses/intro-to-earth-data-science/scientific-data-structures-python/numpy-arrays/"
   ]
  },
  {
   "cell_type": "code",
   "execution_count": null,
   "id": "86fc68b4",
   "metadata": {},
   "outputs": [],
   "source": [
    "# importar módulo\n",
    "import numpy as np\n",
    "\n",
    "# define un array de dimensión uno de.\n",
    "#esta es una lista de flotantes:\n",
    "a=[0.7 , 0.75, 1.85]\n",
    "#convierte una lista en un array numpy\n",
    "a_nparray = np.array(a)"
   ]
  },
  {
   "cell_type": "markdown",
   "id": "30fba6ef",
   "metadata": {},
   "source": [
    "### 1.1 Matrices 1D en Numpy\n",
    "Las matrices 1-D también se llaman ``vectores``. La función ``arange`` de Numpy creará valores espaciados regularmente dentro de un rango específico. Es similar a la función ``range`` de python.\n"
   ]
  },
  {
   "cell_type": "code",
   "execution_count": null,
   "id": "f8f04ca2",
   "metadata": {},
   "outputs": [],
   "source": [
    "# crear matrices 1D\n",
    "N=100\n",
    "x_int = np.arange(N)# esto hará un vector de enteros de 0 a N-1\n",
    "print(x_int)"
   ]
  },
  {
   "cell_type": "code",
   "execution_count": null,
   "id": "27e7a216",
   "metadata": {},
   "outputs": [],
   "source": [
    "N = 100 # número de puntos\n",
    "\n",
    "# vectores linealmente espaciados\n",
    "x_lat = np.linspace(39,50,N)# esto hará un vector de flotantes de min a max valores espaciados uniformemente\n",
    "x_lon = np.linspace(-128,-125,N)# lo mismo para la longitud\n",
    "print(x_lat)\n",
    "print(x_lon)\n",
    "\n",
    "\n",
    "# vectores de tiempo\n",
    "x_t = np.linspace(0,100,N)\n",
    "dt=x_t[1]\n",
    "print(dt)\n",
    "\n",
    "# vectores logarítmicos\n",
    "# 10^(-1) -> 10^(1) => 0.1 - 1\n",
    "x_tl = np.logspace(-1,1,N)\n",
    "\n",
    "print(x_tl)\n"
   ]
  },
  {
   "cell_type": "markdown",
   "id": "23aa62bc",
   "metadata": {},
   "source": [
    "### Indexación de matrices Numpy\n",
    "\n",
    "El acceso a elementos individuales se realiza mediante corchetes ``[]``. El primer elemento se indexa en ``0``, el último elemento se indexa en ``-1``.\n"
   ]
  },
  {
   "cell_type": "code",
   "execution_count": null,
   "id": "a0dd1c01",
   "metadata": {},
   "outputs": [],
   "source": [
    "arr = np.arange(5)\n",
    "\n",
    "# Accede al primer elemento (índice 0)\n",
    "elemento = arr[0]\n",
    "print(elemento) # Salida: 1\n",
    "\n",
    "# Accede al cuarto elemento (índice 3)\n",
    "elemento = arr[3]\n",
    "print(elemento) # Salida: 4\n",
    "\n",
    "\n",
    "# Accede al último elemento (índice 5)\n",
    "elemento = arr[4]\n",
    "print(elemento) # Salida: 5\n",
    "\n",
    "# Accede al último elemento (índice 5)\n",
    "elemento = arr[-1]\n",
    "print(elemento) # Salida: 5\n"
   ]
  },
  {
   "cell_type": "markdown",
   "id": "a7386d91",
   "metadata": {},
   "source": [
    "## Rebanado\n",
    "\n",
    "Podemos cortar matrices utilizando la sintaxis básica ``start:stop:step``:"
   ]
  },
  {
   "cell_type": "code",
   "execution_count": null,
   "id": "778e2928",
   "metadata": {},
   "outputs": [],
   "source": [
    "x=np.arange(10)\n",
    "\n",
    "# selecciona las submatrices entre los índices 3 y 6\n",
    "x1 = x[2:5]\n",
    "print(x1)"
   ]
  },
  {
   "cell_type": "markdown",
   "id": "aca4b17d",
   "metadata": {},
   "source": [
    "Crear una matriz que seleccione cada dos elementos"
   ]
  },
  {
   "cell_type": "code",
   "execution_count": null,
   "id": "84f6785c",
   "metadata": {},
   "outputs": [],
   "source": [
    "# Respuesta aquí"
   ]
  },
  {
   "cell_type": "markdown",
   "id": "8f5a75e5",
   "metadata": {},
   "source": [
    "Crea una matriz con índices ordenados inversamente:"
   ]
  },
  {
   "cell_type": "code",
   "execution_count": null,
   "id": "e264262f",
   "metadata": {},
   "outputs": [],
   "source": [
    "# Respuesta aquí"
   ]
  },
  {
   "cell_type": "markdown",
   "id": "178b20ce",
   "metadata": {},
   "source": [
    "### 1.2 Introducción a Matplotlib\n",
    "\n",
    "**Some tips from Sofware-Carpentry**\n",
    "\n",
    "- Make sure your text is **large** enough to read. Use el parámtro fontsize en  <code>xlabel</code>, <code> ylabel</code>, <code>title</code>, y <code>legend</code>, y <code>tick_params</code> with labelsize to increase the text size of the numbers on your axes.\n",
    "\n",
    "- Del mismo modo, debe hacer que los elementos de su gráfico sean fáciles de ver. Utilice ``s`` para aumentar el tamaño de los marcadores de dispersión y el ancho de línea para aumentar el tamaño de las líneas del gráfico.\n",
    "\n",
    "- El uso del color (y nada más) para distinguir entre los diferentes elementos de la trama hará que sus tramas sean ilegibles para cualquier persona daltónica o que tenga una impresora de oficina en blanco y negro. Para las líneas, el parámetro estilo de línea le permite utilizar diferentes tipos de líneas. Para los gráficos de dispersión, el marcador permite cambiar la forma de los puntos. Si no está seguro de los colores, puede utilizar Coblis o Color Oracle para simular el aspecto que tendrían sus gráficos para las personas daltónicas."
   ]
  },
  {
   "cell_type": "code",
   "execution_count": null,
   "id": "323f29fc",
   "metadata": {},
   "outputs": [],
   "source": [
    "# hacer que los gráficos aparezcan en el cuaderno\n",
    "%matplotlib inline\n",
    "import matplotlib.pyplot as plt\n",
    "# import matplotlib.pylab as pylab\n",
    "\n",
    "# establecer parámetros por defecto\n",
    "params = {'legend.fontsize': 14, \\\n",
    "          'xtick.labelsize':14, \\\n",
    "          'ytick.labelsize':14, \\\n",
    "          'font.size':14}\n",
    "plt.rcParams.update(params)"
   ]
  },
  {
   "cell_type": "code",
   "execution_count": null,
   "id": "d9451b3e",
   "metadata": {},
   "outputs": [],
   "source": [
    "fig, (ax1,ax2) = plt.subplots(1,2, figsize=(10,5))  # 1 fila, 2 columna\n",
    "ax1.plot(x_t,'.')\n",
    "ax2.plot(x_tl,'r.');ax2.set_yscale('log')\n",
    "ax2.set_xlabel('Indice del vector')\n",
    "ax1.set_xlabel('Indice del vector')\n",
    "ax2.set_ylabel('Tiempo (s)')\n",
    "ax1.set_ylabel('Tiempo (s)')\n",
    "ax1.set_title('Mi primer gráfico!')\n",
    "ax2.set_title('Mi segundo gráfico!')\n",
    "ax1.grid(True)\n",
    "ax2.grid(True)\n",
    "plt.savefig('plot_test.png')"
   ]
  },
  {
   "cell_type": "markdown",
   "id": "e156ec89",
   "metadata": {},
   "source": [
    "### 1.3 Matrices aleatorias\n",
    "\n",
    "Crear matrices sintéticas a partir de distribuciones estadísticas de datos.\n",
    "\n",
    "Encontrar alguna función básica de las funciones estadísticas en Numpy:\n",
    "https://numpy.org/doc/stable/reference/routines.statistics.html"
   ]
  },
  {
   "cell_type": "code",
   "execution_count": null,
   "id": "e3938d8a",
   "metadata": {},
   "outputs": [],
   "source": [
    "# generar campos aleatorios\n",
    "from numpy import random\n",
    "\n",
    "N=10000 # número de muestras\n",
    "# distribución uniforme\n",
    "x1=2*random.rand(N)-1 # distribución uniforme centrada en 0, variando entre -1 y 2.\n",
    "# distribución gaussiana\n",
    "x2=random.randn(N) # distribución Gaussiana con una desviación estándar de 1\n",
    "# Ley de potencia\n",
    "a=2 # potencia de la distribución\n",
    "x3=random.power(a,N)\n",
    "# poisson\n",
    "aa=4\n",
    "x4=random.poisson(aa,N)"
   ]
  },
  {
   "cell_type": "code",
   "execution_count": null,
   "id": "449dfc8b",
   "metadata": {},
   "outputs": [],
   "source": [
    "# compare ahora esta distribución con la distribución Gaussiana\n",
    "fig1, (ax1,ax2,ax3,ax4) = plt.subplots(1,4, figsize=(15,5))  # 1 fila, 2 columnas\n",
    "ax1.plot(x1);ax1.set_title('Uniforme')\n",
    "ax2.plot(x2);ax2.set_title('Gaussiana')\n",
    "ax3.plot(x3);ax3.set_title('Potencia')\n",
    "ax4.plot(x4);ax4.set_title('Poisson')\n",
    "\n",
    "\n",
    "# Gráfico los 2 histogramas\n",
    "fig2, (ax11,ax12,ax13,ax14) = plt.subplots(1,4, figsize=(15,5))  # 1 fila, 2 columnas\n",
    "ax11.hist(x1,bins=100);ax11.set_title('Uniforme')\n",
    "ax12.hist(x2,bins=100);ax12.set_title('Gaussiana')\n",
    "ax13.hist(x3,bins=100);ax13.set_title('Potencia')\n",
    "ax14.hist(x4,bins=100);ax14.set_title('Poisson')"
   ]
  },
  {
   "cell_type": "code",
   "execution_count": null,
   "id": "c74db68b",
   "metadata": {},
   "outputs": [],
   "source": [
    "# numpy tiene funciones incorporadas para calcular propiedades estadísticas básicas de matrices numpy\n",
    "print(\"media de x1\", \"desviación estándar de x1\", \"media de x2\", \"desviación estándar de x2\",)\n",
    "print(np.mean(x1),np.std(x1),np.mean(x2),np.std(x2))"
   ]
  },
  {
   "cell_type": "markdown",
   "id": "d5d9add8",
   "metadata": {},
   "source": [
    "### 1.4 2D matrices en Numpy\n",
    "\n",
    "Ahora crearemos matrices 2D aleatorias"
   ]
  },
  {
   "cell_type": "code",
   "execution_count": null,
   "id": "c97eb3cd",
   "metadata": {
    "scrolled": true
   },
   "outputs": [],
   "source": [
    "N=1000 # número de muestras\n",
    "# crear\n",
    "# distribución uniforme\n",
    "x1=2*random.rand(N,N)-1 # distribución uniforme centrada en 0, variando entre -1 y 2.\n",
    "# distribución gaussiana\n",
    "x2=random.randn(N,N) # distribución gaussiana con una desviación estándar de 1\n",
    "# ley de potencia\n",
    "a=2 # potencia de la distribución\n",
    "x3=random.power(a,[N,N])\n",
    "# poisson\n",
    "aa=4\n",
    "x4=random.poisson(aa,[N,N])\n",
    "\n",
    "# ahora compara esta distribución con la distribución Gaussiana\n",
    "fig, (ax1,ax2,ax3,ax4) = plt.subplots(1,4, figsize=(26,4))  # 1 fila, 2 columnas\n",
    "ax1.pcolor(x1,vmin=-1, vmax=1)\n",
    "ax2.pcolor(x2,vmin=-1, vmax=1)\n",
    "ax3.pcolor(x3,vmin=-1, vmax=1)\n",
    "ax4.pcolor(x4,vmin=0, vmax=10)"
   ]
  },
  {
   "cell_type": "markdown",
   "id": "2639b0e1",
   "metadata": {},
   "source": [
    "### 1.5 Normas de las matrices\n",
    "\n",
    "$L_2$ norma de una matriz $X$:\n",
    "\n",
    "$||X||_2 = \\sqrt{\\sum_i^N \\left(X_i^2\\right) / N} $\n",
    "En numpy es la norma por defecto del módulo de álgebra lineal linalg: <code> np.linalg.norm(X) </code>\n",
    "\n",
    "Podemos normalizar una matriz y nos centraremos en qué dimensión se normaliza la matriz."
   ]
  },
  {
   "cell_type": "markdown",
   "id": "5afc4417",
   "metadata": {},
   "source": [
    "### 1.6 Medidas de distancia\n",
    "Comparar datos a menudo significa calcular una distancia o disimilitud entre los dos datos. La similitud equivale a la proximidad de dos datos.\n",
    "\n",
    "**Distancia Euclidiana**\n",
    "\n",
    "$L_2$ norma del residuo entre 2 vectores:\n",
    "\n",
    "$d = ||X -Y||_2 = \\sqrt{\\sum_i^N \\left(X_i^2 - Y_i^2 \\right) / N} $\n",
    "En numpy es la norma por defecto del módulo de álgebra lineal linalg: <code> d=np.linalg.norm(X-Y) </code>\n",
    "\n",
    "**Distancia de variación total**\n",
    "\n",
    "Es la $L_1$-norma equivalente a la distancia euclidiana:  <code> d=np.linalg.norm(X-Y,ord=1) </code>\n",
    "\n",
    "\n",
    "**Coeficiente de Pearson (también conocido como coeficiente de correlación)**\n",
    "\n",
    "$ P(X,Y) = \\frac{cov(X,Y)}{std(X)std(Y)} $\n",
    "\n",
    "$ P(X,Y) = \\frac{  \\sum{ (X_i-mean(X)) (Y_i-mean(Y)}}{\\sqrt{\\sum{ (X_i-mean(X))^2 } \\sum{ (Y_i-mean(Y))^2 } }} $"
   ]
  },
  {
   "cell_type": "code",
   "execution_count": null,
   "id": "7d820c3a",
   "metadata": {},
   "outputs": [],
   "source": [
    "# correlación cruzada 2 vectores:\n",
    "\n",
    "x2=random.randn(N) # Distribución gaussiana \n",
    "x3=random.randn(N) # Distribución gaussiana \n",
    "\n",
    "# Distancia euclidiana:\n",
    "d2=np.linalg.norm(x3-x2)\n",
    "# Distancia de variación total:\n",
    "d1=np.linalg.norm(x3-x2,ord=1)\n",
    "# Coeficiente de Pearson\n",
    "r = np.corrcoef(x2,x3)[0,1]\n",
    "\n",
    "print(\"las tres distancias son:\")\n",
    "print(d2,d1,r)\n",
    "\n",
    "plt.plot(x2,x3,'o');plt.grid(True)\n",
    "plt.xlabel('X2');plt.ylabel('X3')\n"
   ]
  },
  {
   "cell_type": "markdown",
   "id": "8de40708",
   "metadata": {},
   "source": [
    "# 2 Xarrays\n",
    "\n",
    "## 1.1  fundamentos Xarray\n",
    "\n",
    "Este tutorial ha sido copiado y modificado de los tutoriales del paquete Xarray.\n",
    "\n",
    "Los datos geocientíficos vienen acompañados de complejos metadatos que describen el significado y el contexto de las matrices de datos. Xarrays permite adjuntar metadatos a las matrices de datos, facilitando el seguimiento de las variables, sus unidades, sistemas de coordenadas y otros atributos importantes de los datos. Dado que los datos geocientíficos suelen ser multidimensionales, la integración de dimensiones como el tiempo y las coordenadas espaciales permite a los usuarios manipular, transformar y realizar operaciones complejas con las matrices de datos.\n",
    "\n",
    "Los Xarrays están bien integrados con la computación de alto rendimiento, como Dask, y el almacenamiento, como el almacenamiento HPC mediante ``NetCDF`` y el almacenamiento en la nube con ``Zarr``.\n",
    "\n",
    "Xarrays se diseñó para facilitar la manipulación de datos geocientíficos.\n",
    "\n",
    "\n",
    "Los Xarrays son matrices multidimensionales (\"tensores\") que pueden tener varios atributos y dimensiones. La estructura principal es ``DataArray``, la matriz de N dimensiones que es similar a un ``pandas.Series``. La segunda es ``Dataset``, una base de datos multidimensional en memoria. Es un diccionario como contenedor de ``DataArray``, el equivalente a ``pandas.DataFrame``.\n",
    "\n",
    "Xarrrays se puede leer desde netCDF y desde Zarr.\n",
    "\n",
    "Encontrará muchos tutoriales útiles del proyecto Xarray, como por ejemplo [Este](https://docs.xarray.dev/en/stable/getting-started-guide/quick-overview.html). \n",
    "\n",
    "[Aquí](https://tutorial.xarray.dev/fundamentals/01_datastructures.html) es el libro tutorial de Xarray que introduzca Xarray desde la estructura de datos hasta la visualización. En general, Xarray envuelve Numpy y Pandas y se comporta de manera similar a Pandas. La transición para adoptar Xarray debería ser suave si ya estás familiarizado con Numpy y Pandas."
   ]
  },
  {
   "cell_type": "code",
   "execution_count": null,
   "id": "f618954c",
   "metadata": {},
   "outputs": [],
   "source": [
    "import matplotlib.pyplot as plt\n",
    "import numpy as np\n",
    "import xarray as xr\n",
    "import pooch\n",
    "\n",
    "%matplotlib inline\n",
    "%config InlineBackend.figure_format='retina'"
   ]
  },
  {
   "cell_type": "code",
   "execution_count": null,
   "id": "9495b831",
   "metadata": {},
   "outputs": [],
   "source": [
    "ds = xr.tutorial.load_dataset(\"air_temperature\")\n",
    "ds"
   ]
  },
  {
   "cell_type": "markdown",
   "id": "2b1d2986",
   "metadata": {},
   "source": [
    "¿Cuáles son las claves/atributos del conjunto de datos?"
   ]
  },
  {
   "cell_type": "markdown",
   "id": "617e4b69",
   "metadata": {},
   "source": [
    "Encuentra dos formas de imprimir los valores del atributo ``air``"
   ]
  },
  {
   "cell_type": "code",
   "execution_count": null,
   "id": "6ab28ee2",
   "metadata": {},
   "outputs": [],
   "source": [
    "ds[\"air\"]"
   ]
  },
  {
   "cell_type": "code",
   "execution_count": null,
   "id": "4f06469e",
   "metadata": {},
   "outputs": [],
   "source": [
    "ds.air"
   ]
  },
  {
   "cell_type": "code",
   "execution_count": null,
   "id": "9e1d9642",
   "metadata": {},
   "outputs": [],
   "source": [
    "with xr.set_options(display_style=\"html\"):\n",
    "    display(ds)"
   ]
  },
  {
   "cell_type": "markdown",
   "id": "049748ad",
   "metadata": {},
   "source": [
    "La matriz de datos tiene una dimensión con nombre:"
   ]
  },
  {
   "cell_type": "code",
   "execution_count": null,
   "id": "fb1478fa",
   "metadata": {},
   "outputs": [],
   "source": [
    "ds.air.dims"
   ]
  },
  {
   "cell_type": "markdown",
   "id": "9b3e67ae",
   "metadata": {},
   "source": [
    "y las coordenadas se guardan en ``.coord``:"
   ]
  },
  {
   "cell_type": "code",
   "execution_count": null,
   "id": "6bdd64e2",
   "metadata": {},
   "outputs": [],
   "source": [
    "ds.air.coords"
   ]
  },
  {
   "cell_type": "code",
   "execution_count": null,
   "id": "1f0cf574",
   "metadata": {},
   "outputs": [],
   "source": [
    "ds.air.attrs"
   ]
  },
  {
   "cell_type": "markdown",
   "id": "cd59ba8a",
   "metadata": {},
   "source": [
    "Añadir nuevos atributos"
   ]
  },
  {
   "cell_type": "code",
   "execution_count": null,
   "id": "8fd6ee7a",
   "metadata": {},
   "outputs": [],
   "source": [
    "# ¡asigna tus propios atributos!\n",
    "ds.air.attrs[\"who_is_awesome\"] = \"xarray\"\n",
    "ds.air.attrs"
   ]
  },
  {
   "cell_type": "markdown",
   "id": "0f5cd594",
   "metadata": {},
   "source": [
    "Los datos subyacentes son una matriz numpy"
   ]
  },
  {
   "cell_type": "code",
   "execution_count": null,
   "id": "03115c04",
   "metadata": {},
   "outputs": [],
   "source": [
    "print(type(ds.air.data))\n",
    "print(ds.air.data)"
   ]
  },
  {
   "cell_type": "markdown",
   "id": "da30af75",
   "metadata": {},
   "source": [
    "### 2.2 Extracción de datos\n",
    "\n",
    "Cómo extraer datos:\n",
    "\n",
    "* Indexación por etiquetas con ``.sel``.\n",
    "\n",
    "* indexación basada en la posición mediante ``.isel``."
   ]
  },
  {
   "cell_type": "code",
   "execution_count": null,
   "id": "3c974037",
   "metadata": {},
   "outputs": [],
   "source": [
    "ds.air.isel(time=1).plot(x=\"lon\")"
   ]
  },
  {
   "cell_type": "markdown",
   "id": "90dc8663",
   "metadata": {},
   "source": [
    "Observará que la temperatura del aire está en grados Kelvin. Podemos convertirla a Celsius eliminando 273.15 y cambiando los atributos ``units``."
   ]
  },
  {
   "cell_type": "code",
   "execution_count": null,
   "id": "d4b308b4",
   "metadata": {},
   "outputs": [],
   "source": [
    "ds2=ds\n",
    "ds2['air']=ds['air']-273.15\n",
    "ds2['air']['units']='degC'"
   ]
  },
  {
   "cell_type": "markdown",
   "id": "ac3a193e",
   "metadata": {},
   "source": [
    "También queremos mostrar las longitudes en dirección oeste eliminando 360$^\\circ$."
   ]
  },
  {
   "cell_type": "code",
   "execution_count": null,
   "id": "b54ff7de",
   "metadata": {},
   "outputs": [],
   "source": [
    "ds2.coords[\"lon\"]=ds2.coords[\"lon\"]-360"
   ]
  },
  {
   "cell_type": "markdown",
   "id": "02f024be",
   "metadata": {},
   "source": [
    "Mostrar la temperatura media"
   ]
  },
  {
   "cell_type": "code",
   "execution_count": null,
   "id": "08f78964",
   "metadata": {},
   "outputs": [],
   "source": [
    "ds2.air.mean(\"time\").plot()"
   ]
  },
  {
   "cell_type": "code",
   "execution_count": null,
   "id": "d91f82f1",
   "metadata": {},
   "outputs": [],
   "source": [
    "ds2.sel(time=\"2013-05\")"
   ]
  },
  {
   "cell_type": "code",
   "execution_count": null,
   "id": "359b47cb",
   "metadata": {},
   "outputs": [],
   "source": [
    "# demonstrar el rebanado\n",
    "ds.sel(time=slice(\"2013-05\", \"2013-07\"))"
   ]
  },
  {
   "cell_type": "code",
   "execution_count": null,
   "id": "f740cd3a",
   "metadata": {},
   "outputs": [],
   "source": [
    "# \"indexación más próxima en varios puntos\"\n",
    "ds.sel(lon=[240.125-360, 234-360], lat=[40.3, 50.3], method=\"nearest\")"
   ]
  },
  {
   "cell_type": "markdown",
   "id": "0265dc81",
   "metadata": {},
   "source": [
    "### 2.3 Computación de alto nivel\n",
    "\n",
    "* agruparpor : Agrupa y reduce los datos\n",
    "\n",
    "* remuestrear : Groupby especializado para ejes temporales. Reduzca o aumente la muestra de sus datos.\n",
    "\n",
    "* rodando : Operar en ventanas móviles de sus datos, por ejemplo, media móvil.\n",
    "\n",
    "* engrosar: reduce la muestra de sus datos.\n",
    "\n",
    "* ponderado : Ponderar los datos antes de reducirlos"
   ]
  },
  {
   "cell_type": "code",
   "execution_count": null,
   "id": "53f54258",
   "metadata": {},
   "outputs": [],
   "source": [
    "# groupos estacionales\n",
    "ds.groupby(\"time.season\")"
   ]
  },
  {
   "cell_type": "code",
   "execution_count": null,
   "id": "fc9ee06b",
   "metadata": {},
   "outputs": [],
   "source": [
    "# hacer una media estacional\n",
    "seasonal_mean = ds.groupby(\"time.season\").mean()\n",
    "seasonal_mean = seasonal_mean.sel(season=[\"DJF\", \"MAM\", \"JJA\", \"SON\"])\n",
    "seasonal_mean"
   ]
  },
  {
   "cell_type": "code",
   "execution_count": null,
   "id": "725fb273",
   "metadata": {},
   "outputs": [],
   "source": [
    "# remuestreo a frecuencia mensual\n",
    "ds.resample(time=\"M\").mean()"
   ]
  },
  {
   "cell_type": "code",
   "execution_count": null,
   "id": "fe77f30d",
   "metadata": {},
   "outputs": [],
   "source": [
    "# faceta la media_estacional\n",
    "seasonal_mean.air.plot(col=\"season\")"
   ]
  },
  {
   "cell_type": "markdown",
   "id": "afbc355e",
   "metadata": {},
   "source": [
    "Seleccionar datos entre dos fechas y reducir el tamaño del Xarray"
   ]
  },
  {
   "cell_type": "code",
   "execution_count": null,
   "id": "60da43a6",
   "metadata": {},
   "outputs": [],
   "source": [
    "# escribir en netCDF\n",
    "%timeit ds.to_netcdf(\"my-example-dataset.nc\")\n",
    "!ls -lh my-example-dataset.nc"
   ]
  },
  {
   "cell_type": "code",
   "execution_count": null,
   "id": "4cbef219",
   "metadata": {},
   "outputs": [],
   "source": [
    "\n",
    "%timeit ds.to_zarr(store=\"./my-example-dataset.zarr\",mode=\"w\")\n",
    "!du -sh ./my-example-dataset.zarr"
   ]
  },
  {
   "cell_type": "markdown",
   "id": "c2f06647",
   "metadata": {},
   "source": [
    "# 3. Tensores Pytorch\n",
    "\n",
    "Este material está extraído de los materiales del paquete Pytorch y de Dive into Deep Learning\n",
    "\n",
    "La clase ``tensor`` en Pytorch es similar a un ``ndarray`` en Numpy, con las características añadidas de que: 1) tiene diferenciación automática y 2) funciona en CPUs y GPUs."
   ]
  },
  {
   "cell_type": "code",
   "execution_count": null,
   "id": "e472e4bc",
   "metadata": {},
   "outputs": [],
   "source": [
    "import torch"
   ]
  },
  {
   "cell_type": "markdown",
   "id": "d5cb6a88",
   "metadata": {},
   "source": [
    "Podemos definir un tensor básico que será por defecto un array 1-D (vector) y se ejecutará en la CPU"
   ]
  },
  {
   "cell_type": "code",
   "execution_count": null,
   "id": "9a9e3489",
   "metadata": {},
   "outputs": [],
   "source": [
    "x = torch.arange(12, dtype=torch.float32)\n",
    "x"
   ]
  },
  {
   "cell_type": "markdown",
   "id": "f6ebd0d7",
   "metadata": {},
   "source": [
    "Cada valor se denomina ``elemento``. Podemos extraer la longitud del vector utilizando el **método** ``numel()`` (un método se aplica con ``()``) y su **atributo** shape se encuentra aplicando``shape``."
   ]
  },
  {
   "cell_type": "code",
   "execution_count": null,
   "id": "4b6698bd",
   "metadata": {},
   "outputs": [],
   "source": [
    "x.numel()"
   ]
  },
  {
   "cell_type": "code",
   "execution_count": null,
   "id": "8bc6c2e4",
   "metadata": {},
   "outputs": [],
   "source": [
    "x.shape"
   ]
  },
  {
   "cell_type": "markdown",
   "id": "873908fd",
   "metadata": {},
   "source": [
    "Podemos remodelar un tensor y voltear las dimensiones"
   ]
  },
  {
   "cell_type": "code",
   "execution_count": null,
   "id": "7f365f57",
   "metadata": {},
   "outputs": [],
   "source": [
    "x.reshape(12,1).shape"
   ]
  },
  {
   "cell_type": "code",
   "execution_count": null,
   "id": "58e11e8e",
   "metadata": {},
   "outputs": [],
   "source": [
    "x2=x.reshape(3,4)\n",
    "x2.shape"
   ]
  },
  {
   "cell_type": "markdown",
   "id": "f0fa8074",
   "metadata": {},
   "source": [
    "Podemos crear un tensor aleatorio"
   ]
  },
  {
   "cell_type": "code",
   "execution_count": null,
   "id": "6dbdc945",
   "metadata": {},
   "outputs": [],
   "source": [
    "x3=torch.randn(3, 4)"
   ]
  },
  {
   "cell_type": "markdown",
   "id": "3236b54d",
   "metadata": {},
   "source": [
    "Podemos aplicar operaciones **element-wise** sobre el tensor simplemente como métodos. He aquí un ejemplo aplicando la función ``exp`` a todos los elementos del tensor aleatorio x3."
   ]
  },
  {
   "cell_type": "code",
   "execution_count": null,
   "id": "303e9be8",
   "metadata": {},
   "outputs": [],
   "source": [
    "x3.exp()"
   ]
  },
  {
   "cell_type": "markdown",
   "id": "0a080ef1",
   "metadata": {},
   "source": [
    "Podemos manipular 2 matrices de la **misma** forma"
   ]
  },
  {
   "cell_type": "code",
   "execution_count": null,
   "id": "b2a869da",
   "metadata": {},
   "outputs": [],
   "source": [
    "x = torch.tensor([1.0, 2, 4, 8])\n",
    "y = torch.tensor([2, 2, 2, 2])\n",
    "x + y, x - y, x * y, x / y, x ** y"
   ]
  },
  {
   "cell_type": "markdown",
   "id": "18490b36",
   "metadata": {},
   "source": [
    "Podemos normalizar el tensor con su norma L2. Prueba a continuación"
   ]
  },
  {
   "cell_type": "code",
   "execution_count": null,
   "id": "8a8ffe0d",
   "metadata": {},
   "outputs": [],
   "source": [
    "x /=np.linalg.norm(x)"
   ]
  },
  {
   "cell_type": "code",
   "execution_count": null,
   "id": "83248d95",
   "metadata": {},
   "outputs": [],
   "source": [
    "x"
   ]
  },
  {
   "cell_type": "markdown",
   "id": "16a836da",
   "metadata": {},
   "source": [
    "Podemos convertir una matriz de numpy en un tensor Pytorch"
   ]
  },
  {
   "cell_type": "code",
   "execution_count": null,
   "id": "3733a51f",
   "metadata": {},
   "outputs": [],
   "source": [
    "a=x.numpy()\n",
    "print(type(a))\n",
    "print(type(x))"
   ]
  },
  {
   "cell_type": "markdown",
   "id": "84d9bbe5",
   "metadata": {},
   "source": [
    "Mover un array de CPU a GPU cambiando el atributo ``device``"
   ]
  },
  {
   "cell_type": "code",
   "execution_count": null,
   "id": "abb523b3",
   "metadata": {},
   "outputs": [],
   "source": [
    "device = torch.device(\"cpu\")\n",
    "print(device)"
   ]
  },
  {
   "cell_type": "markdown",
   "id": "2036d202",
   "metadata": {},
   "source": [
    "A continuación, vamos a realizar una regresión para escribir una función seno como una función"
   ]
  },
  {
   "cell_type": "code",
   "execution_count": null,
   "id": "fb5dc0d3",
   "metadata": {},
   "outputs": [],
   "source": [
    "import torch\n",
    "import math\n",
    "\n",
    "\n",
    "dtype = torch.float\n",
    "device = torch.device(\"cpu\")\n",
    "# device = torch.device(\"cuda:0\") # # Descomenta esto para ejecutar en GPU\n",
    "\n",
    "# Crear datos aleatorios de entrada y salida\n",
    "x = torch.linspace(-math.pi, math.pi, 2000, device=dispositivo, dtype=dtype)\n",
    "y = torch.sin(x)\n",
    "\n",
    "# Inicializar pesos aleatoriamente\n",
    "a = torch.randn((), device=device, dtype=dtype)\n",
    "b = torch.randn((), device=device, dtype=dtype)\n",
    "c = torch.randn((), device=device, dtype=dtype)\n",
    "d = torch.randn((), device=device, dtype=dtype)\n",
    "\n",
    "learning_rate = 1e-6\n",
    "for t in range(2000):\n",
    "    # Paso anterior: cálculo de la predicción de y\n",
    "    y_pred = a + b * x + c * x ** 2 + d * x ** 3\n",
    "\n",
    "    # Calcular e imprimir loss\n",
    "    loss = (y_pred - y).pow(2).sum().item()\n",
    "    si t % 100 == 99\n",
    "        print(t, loss)\n",
    "\n",
    "    # Backprop para calcular los gradientes de a, b, c, d con respecto a loss\n",
    "    grad_y_pred = 2.0 * (y_pred - y)\n",
    "    grad_a = grad_y_pred.sum()\n",
    "    grad_b = (grad_y_pred * x).sum()\n",
    "    grad_c = (grad_y_pred * x ** 2).sum()\n",
    "    grad_d = (grad_y_pred * x ** 3).sum()\n",
    "\n",
    "    # Actualizar los pesos mediante el descenso por gradiente\n",
    "    a -= learning_rate * grad_a\n",
    "    b -= learning_rate * grad_b\n",
    "    c -= learning_rate * grad_c\n",
    "    d -= learning_rate * grad_d\n",
    "\n",
    "\n",
    "print(f'Result: y = {a.item()} + {b.item()} x + {c.item()} x^2 + {d.item()} x^3')"
   ]
  }
 ],
 "metadata": {
  "kernelspec": {
   "display_name": "Python 3 (ipykernel)",
   "language": "python",
   "name": "python3"
  },
  "language_info": {
   "codemirror_mode": {
    "name": "ipython",
    "version": 3
   },
   "file_extension": ".py",
   "mimetype": "text/x-python",
   "name": "python",
   "nbconvert_exporter": "python",
   "pygments_lexer": "ipython3",
   "version": "3.8.8"
  },
  "vscode": {
   "interpreter": {
    "hash": "1c2df93b363d800c8a9b94963221f1be1d8deaf6a76f83b6b9a486ad05d69583"
   }
  }
 },
 "nbformat": 4,
 "nbformat_minor": 5
}
