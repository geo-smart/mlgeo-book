{
 "cells": [
  {
   "cell_type": "markdown",
   "id": "061499b1",
   "metadata": {},
   "source": [
    "# 2.2 Pandas, mapeo básico\n",
    "\n",
    "Esta sección tiene como objetivo proporcionar nuevas habilidades en python para manejar datos estructurados en \"tablas\". \n",
    "\n",
    "Resultado del aprendizaje:\n",
    "- Manipulación de marcos de datos (describir, filtrar, ...) \n",
    "- Aprender sobre funciones Lambda\n",
    "- Introducción a los objetos datetime\n",
    "- Trazado de datos a partir de marcos de datos (histogramas y mapas)\n",
    "- Introducción a Plotly\n",
    "- Introducción a CSV y Parquet\n",
    "\n",
    "\n",
    "Trabajaremos con varios conjuntos de datos estructurados: metadatos de sensores, producto de datos sísmicos (catálogo de terremotos).\n",
    "\n",
    "En primer lugar, importamos todos los módulos que necesitamos:"
   ]
  },
  {
   "cell_type": "code",
   "execution_count": null,
   "id": "28d926f9",
   "metadata": {},
   "outputs": [],
   "source": [
    "import numpy as np\n",
    "import pandas as pd\n",
    "import io\n",
    "import requests\n",
    "import time\n",
    "from datetime import datetime, timedelta\n",
    "\n",
    "import plotly.express as px\n",
    "import plotly.io as pio\n",
    "# pio.renderers.default = 'vscode' # escribe como html independiente, \n",
    "# pio.renderers.default = 'iframe' # escribe archivos como html independiente, \n",
    "# pio.renderers.default = 'png' # escribe archivos como independientes pnl, \n",
    "# try notebook, jupyterlab, png, vscode, iframe\n"
   ]
  },
  {
   "cell_type": "markdown",
   "id": "3f1829a3",
   "metadata": {},
   "source": [
    "# Fundamentos de Pandas \n",
    "\n",
    "Los Pandas se componen de ``Series`` y ``DataFrame``. Las ``Series`` son columnas con atributos o claves. El ``DataFrame`` es una tabla multidimensional compuesta por ``Series``.\n",
    "\n",
    "Podemos crear un DataFrame compuesto por series desde cero utilizando el diccionario de Python:"
   ]
  },
  {
   "cell_type": "code",
   "execution_count": null,
   "id": "3cdfc90e",
   "metadata": {},
   "outputs": [],
   "source": [
    "data = {\n",
    "    'temperature' : [36,37,30,50],\n",
    "    'precipitation':[3,1,0,0]\n",
    "}\n",
    "my_pd = pd.DataFrame(data)\n",
    "print(my_pd)"
   ]
  },
  {
   "cell_type": "markdown",
   "id": "8e041ce5",
   "metadata": {},
   "source": [
    "Cada elemento (key,value) del marco de datos corresponde a un valor de ``datos``. Para obtener las claves del marco de datos, escriba:"
   ]
  },
  {
   "cell_type": "code",
   "execution_count": null,
   "id": "fb8d9c69",
   "metadata": {},
   "outputs": [],
   "source": [
    "my_pd.keys()"
   ]
  },
  {
   "cell_type": "markdown",
   "id": "ff7935a4",
   "metadata": {},
   "source": [
    "obtener una ``Serie`` específica (diferente de la matriz)"
   ]
  },
  {
   "cell_type": "code",
   "execution_count": null,
   "id": "c5d734fd",
   "metadata": {},
   "outputs": [],
   "source": [
    "print(my_pd.temperature[:])\n",
    "print(type(my_pd.temperature[:]))"
   ]
  },
  {
   "cell_type": "markdown",
   "id": "1f5f2426",
   "metadata": {},
   "source": [
    "para obtener el _valor_ de una clave específica (por ejemplo, temperatura), en un tipo de índice específico (por ejemplo, 2):"
   ]
  },
  {
   "cell_type": "code",
   "execution_count": null,
   "id": "2ab0ad9d",
   "metadata": {},
   "outputs": [],
   "source": [
    "print(my_pd.temperature[2])\n",
    "print(type(my_pd.temperature[2]))"
   ]
  },
  {
   "cell_type": "markdown",
   "id": "9fca0cf5",
   "metadata": {},
   "source": [
    "# Lectura de un Marco de datos desde un fichero CSV\n",
    "\n",
    "Podemos leer un pandas directamente desde un fichero estándar. Aquí leeremos un catálogo de terremotos."
   ]
  },
  {
   "cell_type": "code",
   "execution_count": null,
   "id": "f029ed84",
   "metadata": {},
   "outputs": [],
   "source": [
    "quake = pd.read_csv(\"Global_Quakes_IRIS.csv\")"
   ]
  },
  {
   "cell_type": "markdown",
   "id": "62e31c2c",
   "metadata": {},
   "source": [
    "Ahora utiliza la función ``head`` para mostrar lo que hay en el archivo"
   ]
  },
  {
   "cell_type": "code",
   "execution_count": 1,
   "id": "ed565400",
   "metadata": {},
   "outputs": [
    {
     "ename": "NameError",
     "evalue": "name 'quake' is not defined",
     "output_type": "error",
     "traceback": [
      "\u001b[0;31m---------------------------------------------------------------------------\u001b[0m",
      "\u001b[0;31mNameError\u001b[0m                                 Traceback (most recent call last)",
      "Cell \u001b[0;32mIn[1], line 2\u001b[0m\n\u001b[1;32m      1\u001b[0m \u001b[38;5;66;03m# entregue su respuesta aquí\u001b[39;00m\n\u001b[0;32m----> 2\u001b[0m \u001b[43mquake\u001b[49m\u001b[38;5;241m.\u001b[39mhead()\n",
      "\u001b[0;31mNameError\u001b[0m: name 'quake' is not defined"
     ]
    }
   ],
   "source": [
    "# entregue su respuesta aquí\n",
    "quake.head()"
   ]
  },
  {
   "cell_type": "markdown",
   "id": "73bfcd15",
   "metadata": {},
   "source": [
    "Mostrar la profundidad utilizando dos formas de utilizar el objeto pandas"
   ]
  },
  {
   "cell_type": "code",
   "execution_count": null,
   "id": "9b01ce51",
   "metadata": {},
   "outputs": [],
   "source": [
    "print(quake.depth)\n",
    "print(quake['depth'])"
   ]
  },
  {
   "cell_type": "markdown",
   "id": "9c623644",
   "metadata": {},
   "source": [
    "Calcule las estadísticas básicas de los datos utilizando la función ``describe``."
   ]
  },
  {
   "cell_type": "code",
   "execution_count": null,
   "id": "2b9f083e",
   "metadata": {},
   "outputs": [],
   "source": [
    "quake.describe()"
   ]
  },
  {
   "cell_type": "markdown",
   "id": "8b54218c",
   "metadata": {},
   "source": [
    "Calcular media y mediana de ``Series`` específicas, por ejemplo profundidad."
   ]
  },
  {
   "cell_type": "code",
   "execution_count": null,
   "id": "83f21ca3",
   "metadata": {},
   "outputs": [],
   "source": [
    "# responda aquí\n",
    "print(quake.depth.mean())\n",
    "print(quake.depth.median())\n"
   ]
  },
  {
   "cell_type": "markdown",
   "id": "591f8d33",
   "metadata": {},
   "source": [
    "## Funciones sencillas de Python\n",
    "Ahora practicaremos cómo modificar el contenido del marco de datos utilizando funciones. Tomaremos el ejemplo de que queremos cambiar los valores de profundidad de metros a kilómetros. Primero podemos definir esta operación como una función"
   ]
  },
  {
   "cell_type": "code",
   "execution_count": 2,
   "id": "5b4f94b4",
   "metadata": {},
   "outputs": [],
   "source": [
    "# esta función convierte un valor en metros a un valor en kilómetros\n",
    "m2km = 1000 # esto se define como una variable global\n",
    "def meters2kilometers(x):\n",
    "    return x/m2km\n"
   ]
  },
  {
   "cell_type": "code",
   "execution_count": 3,
   "id": "16cb70b9",
   "metadata": {},
   "outputs": [
    {
     "ename": "NameError",
     "evalue": "name 'metros2kilómetros' is not defined",
     "output_type": "error",
     "traceback": [
      "\u001b[0;31m---------------------------------------------------------------------------\u001b[0m",
      "\u001b[0;31mNameError\u001b[0m                                 Traceback (most recent call last)",
      "Cell \u001b[0;32mIn[3], line 2\u001b[0m\n\u001b[1;32m      1\u001b[0m \u001b[38;5;66;03m# ahora pruébalo usando el primer elemento del marco de datos del terremoto\u001b[39;00m\n\u001b[0;32m----> 2\u001b[0m \u001b[43mmetros2kilómetros\u001b[49m(terremoto\u001b[38;5;241m.\u001b[39mprofundidad[\u001b[38;5;241m0\u001b[39m])\n",
      "\u001b[0;31mNameError\u001b[0m: name 'metros2kilómetros' is not defined"
     ]
    }
   ],
   "source": [
    "# ahora pruébalo usando el primer elemento del marco de datos del terremoto\n",
    "metros2kilómetros(terremoto.profundidad[0])"
   ]
  },
  {
   "cell_type": "markdown",
   "id": "aa52810b",
   "metadata": {},
   "source": [
    "Definamos otra función que utilice una variable local en lugar de global"
   ]
  },
  {
   "cell_type": "code",
   "execution_count": 4,
   "id": "d8e21ea1",
   "metadata": {},
   "outputs": [],
   "source": [
    "def metros2kilometros2(x):\n",
    "    m2km2=1000\n",
    "    return x/m2km2\n",
    "# m2km2 es una variable local y no puede ser llamada fuera de la función. Pruébalo a continuación preguntando su valor en la siguiente celda."
   ]
  },
  {
   "cell_type": "code",
   "execution_count": null,
   "id": "34ec93ea",
   "metadata": {},
   "outputs": [],
   "source": [
    "print(m2km2)"
   ]
  },
  {
   "cell_type": "markdown",
   "id": "f6db26f1",
   "metadata": {},
   "source": [
    "Ahora hablaremos de las funciones **lambda**."
   ]
  },
  {
   "cell_type": "code",
   "execution_count": 5,
   "id": "a2713d55",
   "metadata": {},
   "outputs": [
    {
     "ename": "NameError",
     "evalue": "name 'metros2kilometros' is not defined",
     "output_type": "error",
     "traceback": [
      "\u001b[0;31m---------------------------------------------------------------------------\u001b[0m",
      "\u001b[0;31mNameError\u001b[0m                                 Traceback (most recent call last)",
      "Cell \u001b[0;32mIn[5], line 2\u001b[0m\n\u001b[1;32m      1\u001b[0m \u001b[38;5;66;03m# ahora lo aplicamos sobre toda la Serie\u001b[39;00m\n\u001b[0;32m----> 2\u001b[0m \u001b[43mmetros2kilometros\u001b[49m(terremoto\u001b[38;5;241m.\u001b[39mprofundidad)\n",
      "\u001b[0;31mNameError\u001b[0m: name 'metros2kilometros' is not defined"
     ]
    }
   ],
   "source": [
    "# ahora lo aplicamos sobre toda la Serie\n",
    "metros2kilometros(terremoto.profundidad)"
   ]
  },
  {
   "cell_type": "markdown",
   "id": "5b296ab5",
   "metadata": {},
   "source": [
    "También podemos definir esta función tan básica como una función **lambda**. Hay varias formas de realizar una operación en todas las filas de una columna. La primera opción es utilizar la función map.\n",
    "\n",
    "Si no estás familiarizado con la función lambda en Python, mira en:\n",
    "\n",
    "https://realpython.com/python-lambda/\n",
    "\n",
    "Vamos a practicar un poco las funciones lambda\n",
    "\n"
   ]
  },
  {
   "cell_type": "code",
   "execution_count": 6,
   "id": "cbb26a36",
   "metadata": {},
   "outputs": [],
   "source": [
    "# Ahora el equivalente en lambda es\n",
    "lambda_metros2kilometros = lambda x:x/1000\n",
    "# x es la variable"
   ]
  },
  {
   "cell_type": "code",
   "execution_count": null,
   "id": "7d94f6a8",
   "metadata": {},
   "outputs": [],
   "source": [
    "# aplicarlo a toda la serie\n",
    "lambda_metros2kilometros(terremoto.profundidad)"
   ]
  },
  {
   "cell_type": "code",
   "execution_count": null,
   "id": "caad68a3",
   "metadata": {},
   "outputs": [],
   "source": [
    "# puedes añadir varias variables en funciones lambda\n",
    "remove_anything = lambda x,y:x-y\n",
    "remove_anything(3,2)"
   ]
  },
  {
   "cell_type": "markdown",
   "id": "a6da00e2",
   "metadata": {},
   "source": [
    "Esto no afectó a los valores del Marco de datos, compruébalo:"
   ]
  },
  {
   "cell_type": "code",
   "execution_count": null,
   "id": "40367bfb",
   "metadata": {},
   "outputs": [],
   "source": [
    "quake.depth"
   ]
  },
  {
   "cell_type": "markdown",
   "id": "ed149895",
   "metadata": {},
   "source": [
    "En su lugar, podrías sobreescribir ``quake.depth=X``. Prueba dos enfoques, ¡pero hazlo sólo una vez!"
   ]
  },
  {
   "cell_type": "code",
   "execution_count": null,
   "id": "8a1da18f",
   "metadata": {},
   "outputs": [],
   "source": [
    "#escriba la repsuesta abajo\n",
    "quake.depth=quake.depth.map(lambda x:x/1000)"
   ]
  },
  {
   "cell_type": "code",
   "execution_count": 7,
   "id": "ec3420af",
   "metadata": {},
   "outputs": [],
   "source": [
    "# o así\n",
    "# quake.depth=quake.depth.apply(lambda x:x/1000)"
   ]
  },
  {
   "cell_type": "markdown",
   "id": "fa66b4e8",
   "metadata": {},
   "source": [
    "Graficar un histograma de las distribuciones de profundidad utilizando matplotlib función ``hist``."
   ]
  },
  {
   "cell_type": "code",
   "execution_count": null,
   "id": "ae368fd4",
   "metadata": {},
   "outputs": [],
   "source": [
    "# respuesta aquí\n",
    "plt.hist(quake.depth,100)\n",
    "plt.grid(True)\n",
    "plt.xlabel('Quake depth (km)')\n",
    "plt.show()"
   ]
  },
  {
   "cell_type": "markdown",
   "id": "8bb58e3c",
   "metadata": {},
   "source": [
    "Puede utilizar el paquete de trazado interactivo Plotly. En primer lugar vamos a mostrar un histograma de la profundidad del evento utilizando la función ``histogram``."
   ]
  },
  {
   "cell_type": "code",
   "execution_count": null,
   "id": "5f07dc52",
   "metadata": {},
   "outputs": [],
   "source": [
    "fig = px.histogram(terremoto, #especificar qué marco de datos utilizar\n",
    "             x=\"depth\", #especificar la variable para el histograma \n",
    "             nbins=50, #número de bins para el histograma \n",
    "             height=400, #dimensiones de la figura\n",
    "             width=600);\n",
    "fig.show()"
   ]
  },
  {
   "cell_type": "markdown",
   "id": "b87c6c42",
   "metadata": {},
   "source": [
    "Ahora haremos un nuevo gráfico de la localización de los terremotos. Utilizaremos la herramienta Plotly. \n",
    "\n",
    "El tamaño del marcador se escalará con la magnitud del terremoto. Para ello, añadimos una serie ``marker_size`` en el DataFrame"
   ]
  },
  {
   "cell_type": "code",
   "execution_count": null,
   "id": "d9cb41c3",
   "metadata": {},
   "outputs": [],
   "source": [
    "quake['marker_size'] =np.fix(np.exp(quake['magnitude'])) # # añade el tamaño del marcador como exp(mag)\n",
    "quake['magnitude bin'] = 0.5*np.fix(2*quake['magnitude']) # añade el tamaño del marcador como exp(mag)"
   ]
  },
  {
   "cell_type": "markdown",
   "id": "f004df73",
   "metadata": {},
   "source": [
    "## Gráfico de mapas con Plotly\n",
    "\n",
    "Ahora vamos a trazar las localizaciones de los terremotos en un mapa utilizando el paquete Plotly. Más tutoriales en [Plotly](https://plotly.com/). La entrada de la función en la función es auto-explicativo y típico de la función de Python. El código [documentation](https://plotly.com/python/scatter-plots-on-maps/) de Plotly scatter_geo enumera las variables."
   ]
  },
  {
   "cell_type": "code",
   "execution_count": null,
   "id": "ff53045a",
   "metadata": {},
   "outputs": [],
   "source": [
    "fig = px.scatter_geo(quake,\n",
    "                     lat='latitude',lon='longitude', \n",
    "                     range_color=(6,9),\n",
    "                     height=600, width=600,\n",
    "                     size='marker_size', color='magnitude',\n",
    "                     hover_name=\"description\",\n",
    "                     hover_data=['description','magnitude','depth']);\n",
    "fig.update_geos(resolution=110, showcountries=True)\n",
    "fig.update_geos(resolution=110, showcountries=True,projection_type=\"orthographic\")\n"
   ]
  },
  {
   "cell_type": "markdown",
   "id": "69b7c97f",
   "metadata": {},
   "source": [
    "Los datos estaban ordenados por tiempo. Ahora queremos ordenar y mostrar los datos por magnitud. Usamos la función de pandas ``sort`` para crear un nuevo marco de datos con los valores ordenados."
   ]
  },
  {
   "cell_type": "code",
   "execution_count": null,
   "id": "7738e4d0",
   "metadata": {},
   "outputs": [],
   "source": [
    "quakes2plot=quake.sort_values(by='magnitude bin')\n",
    "\n",
    "quakes2plot.head()"
   ]
  },
  {
   "cell_type": "markdown",
   "id": "dcf7472d",
   "metadata": {},
   "source": [
    "Ahora vamos a graficar de nuevo utilizando Plotly"
   ]
  },
  {
   "cell_type": "code",
   "execution_count": null,
   "id": "c21ce4ea",
   "metadata": {},
   "outputs": [],
   "source": [
    "fig = px.scatter_geo(quakes2plot,\n",
    "                     lat='latitude',lon='longitude', \n",
    "                     range_color=(6,9),\n",
    "                     height=600, width=600,\n",
    "                     size='marker_size', color='magnitude',\n",
    "                     hover_name=\"description\",\n",
    "                     hover_data=['description','magnitude','depth']);\n",
    "fig.update_geos(resolution=110, showcountries=True)\n",
    "# fig.update_geos(resolution=110, showcountries=True,projection_type=\"orthographic\")\n"
   ]
  },
  {
   "cell_type": "markdown",
   "id": "3355fe19",
   "metadata": {},
   "source": [
    "## Crear un Pandas a partir de un fichero de texto.\n",
    "\n",
    "El paquete pandas de python es muy útil para leer ficheros csv, pero también muchos ficheros de texto que están más o menos formados como una observación por fila y una columna para cada característica.\n",
    "\n",
    "Como ejemplo, vamos a ver la lista de estaciones sísmicas de la red sísmica del Norte de California, disponible [aquí](http://ncedc.org/ftp/pub/doc/NC.info/NC.channel.summary.day):\n",
    "\n"
   ]
  },
  {
   "cell_type": "code",
   "execution_count": null,
   "id": "ef9f302d",
   "metadata": {},
   "outputs": [],
   "source": [
    "url = 'http://ncedc.org/ftp/pub/doc/NC.info/NC.channel.summary.day'"
   ]
  },
  {
   "cell_type": "code",
   "execution_count": null,
   "id": "3a60ef42",
   "metadata": {},
   "outputs": [],
   "source": [
    "# esto obtiene el archivo enlazado en la página URL y lo convierte en una cadena\n",
    "s = requests.get(url).content"
   ]
  },
  {
   "cell_type": "code",
   "execution_count": 8,
   "id": "9edd0bf5",
   "metadata": {},
   "outputs": [
    {
     "ename": "SyntaxError",
     "evalue": "invalid syntax (790791909.py, line 4)",
     "output_type": "error",
     "traceback": [
      "\u001b[0;36m  Cell \u001b[0;32mIn[8], line 4\u001b[0;36m\u001b[0m\n\u001b[0;31m    data.columns = ['estación', 'red', 'canal', 'ubicación', 'tasa', 'hora_inicio', 'hora_fin', 'latitud', 'longitud', 'elevación', 'profundidad', 'inclinación', 'azimut'].\u001b[0m\n\u001b[0m                                                                                                                                                                            ^\u001b[0m\n\u001b[0;31mSyntaxError\u001b[0m\u001b[0;31m:\u001b[0m invalid syntax\n"
     ]
    }
   ],
   "source": [
    "\n",
    "# esto convertirá la cadena, la decodificará y la convertirá en una tabla\n",
    "data = pd.read_csv(io.StringIO(s.decode('utf-8')), header=None, skiprows=2, sep='\\s+', usecols=list(range(0, 13)))\n",
    "# como las columnas/claves no estaban asignadas, asígnalas ahora\n",
    "data.columns = ['station', 'network', 'channel', 'location', 'rate', 'start_time', 'end_time', 'latitude', 'longitude', 'elevation', 'depth', 'dip', 'azimuth']"
   ]
  },
  {
   "cell_type": "markdown",
   "id": "b2def912",
   "metadata": {},
   "source": [
    "Veamos los datos. Ahora están almacenados en un marco de datos pandas."
   ]
  },
  {
   "cell_type": "code",
   "execution_count": null,
   "id": "448b69ab",
   "metadata": {},
   "outputs": [],
   "source": [
    "data.head()"
   ]
  },
  {
   "cell_type": "markdown",
   "id": "d05055aa",
   "metadata": {},
   "source": [
    "Podemos obtener el primer elemento del marco de datos:"
   ]
  },
  {
   "cell_type": "code",
   "execution_count": null,
   "id": "51971cde",
   "metadata": {},
   "outputs": [],
   "source": [
    "data.iloc[0]"
   ]
  },
  {
   "cell_type": "code",
   "execution_count": null,
   "id": "b3cc09c6",
   "metadata": {},
   "outputs": [],
   "source": [
    "data.iloc[:, 0]"
   ]
  },
  {
   "cell_type": "markdown",
   "id": "a201c0e9",
   "metadata": {},
   "source": [
    "El DataFrame puede tener valores erróneos. Una limpieza de datos típica consiste en eliminar Nan y Ceros, por ejemplo."
   ]
  },
  {
   "cell_type": "markdown",
   "id": "fc8219f0",
   "metadata": {},
   "source": [
    "Utiliza Plotly para mapear las estaciones."
   ]
  },
  {
   "cell_type": "code",
   "execution_count": null,
   "id": "78c75b19",
   "metadata": {},
   "outputs": [],
   "source": [
    "data.dropna(inplace=True)\n",
    "data=data[data.longitude!=0]"
   ]
  },
  {
   "cell_type": "code",
   "execution_count": null,
   "id": "7f3533db",
   "metadata": {},
   "outputs": [],
   "source": [
    "fig = px.scatter_geo(data,\n",
    "                     lat='latitude',lon='longitude', \n",
    "                     range_color=(6,9),\n",
    "                     height=600, width=600,\n",
    "                     hover_name=\"station\",\n",
    "                     hover_data=['network','station','channel','rate']);\n",
    "fig.update_geos(resolution=110, showcountries=True)\n"
   ]
  },
  {
   "cell_type": "code",
   "execution_count": null,
   "id": "819da3ef",
   "metadata": {},
   "outputs": [],
   "source": [
    "fig = px.scatter_mapbox(data,\n",
    "                     lat='latitude',lon='longitude', \n",
    "                     range_color=(6,9),mapbox_style=\"carto-positron\",\n",
    "                     height=600, width=500,\n",
    "                     hover_name=\"station\",\n",
    "                     hover_data=['network','station','channel','rate']);\n",
    "fig.update_layout(title=\"Northern California Seismic Network\")\n",
    "fig.show()"
   ]
  },
  {
   "cell_type": "markdown",
   "id": "373751b7",
   "metadata": {},
   "source": [
    "## Pandas: selección de datos\n",
    "Podemos filtrar los datos con el valor que toma una columna dada:"
   ]
  },
  {
   "cell_type": "code",
   "execution_count": null,
   "id": "d28d4e95",
   "metadata": {},
   "outputs": [],
   "source": [
    "data.loc[data.station=='KCPB']"
   ]
  },
  {
   "cell_type": "code",
   "execution_count": null,
   "id": "cb5561d5",
   "metadata": {},
   "outputs": [],
   "source": [
    "# Selecciona dos estaciones, usa el típico \"OR\" |\n",
    "data.loc[(data.station=='KCPB') | (data.station=='KHBB')]"
   ]
  },
  {
   "cell_type": "code",
   "execution_count": 9,
   "id": "ebba2b90",
   "metadata": {},
   "outputs": [
    {
     "ename": "NameError",
     "evalue": "name 'data' is not defined",
     "output_type": "error",
     "traceback": [
      "\u001b[0;31m---------------------------------------------------------------------------\u001b[0m",
      "\u001b[0;31mNameError\u001b[0m                                 Traceback (most recent call last)",
      "Cell \u001b[0;32mIn[9], line 2\u001b[0m\n\u001b[1;32m      1\u001b[0m \u001b[38;5;66;03m# Selecciona dos estaciones, usa el típico \"AND\" &\u001b[39;00m\n\u001b[0;32m----> 2\u001b[0m \u001b[43mdata\u001b[49m\u001b[38;5;241m.\u001b[39mloc[(data\u001b[38;5;241m.\u001b[39mstation\u001b[38;5;241m==\u001b[39m\u001b[38;5;124m'\u001b[39m\u001b[38;5;124mKCPB\u001b[39m\u001b[38;5;124m'\u001b[39m) \u001b[38;5;241m&\u001b[39m (data\u001b[38;5;241m.\u001b[39mchannel\u001b[38;5;241m==\u001b[39m\u001b[38;5;124m'\u001b[39m\u001b[38;5;124mHNZ\u001b[39m\u001b[38;5;124m'\u001b[39m)]\n",
      "\u001b[0;31mNameError\u001b[0m: name 'data' is not defined"
     ]
    }
   ],
   "source": [
    "# Selecciona dos estaciones, usa el típico \"AND\" &\n",
    "data.loc[(data.station=='KCPB') & (data.channel=='HNZ')]"
   ]
  },
  {
   "cell_type": "code",
   "execution_count": null,
   "id": "561aecf9",
   "metadata": {},
   "outputs": [],
   "source": [
    "# o así\n",
    "data.loc[data.station.isin(['KCPB', 'KHBB'])]"
   ]
  },
  {
   "cell_type": "markdown",
   "id": "590a68f6",
   "metadata": {},
   "source": [
    "Podemos filtrar los datos con el valor que toma una columna determinada:"
   ]
  },
  {
   "cell_type": "code",
   "execution_count": null,
   "id": "f75f626c",
   "metadata": {},
   "outputs": [],
   "source": [
    "data.loc[data.station=='KCPB']"
   ]
  },
  {
   "cell_type": "markdown",
   "id": "c7707667",
   "metadata": {},
   "source": [
    "Podemos acceder a un breve resumen de los datos:"
   ]
  },
  {
   "cell_type": "code",
   "execution_count": null,
   "id": "e4a33d52",
   "metadata": {},
   "outputs": [],
   "source": [
    "data.station.describe()"
   ]
  },
  {
   "cell_type": "code",
   "execution_count": null,
   "id": "51dd7dc7",
   "metadata": {},
   "outputs": [],
   "source": [
    "data.elevation.describe()"
   ]
  },
  {
   "cell_type": "markdown",
   "id": "1aa0ad85",
   "metadata": {},
   "source": [
    "Podemos realizar operaciones estándar en todo el conjunto de datos:"
   ]
  },
  {
   "cell_type": "code",
   "execution_count": null,
   "id": "1b787869",
   "metadata": {},
   "outputs": [],
   "source": [
    "data.mean()"
   ]
  },
  {
   "cell_type": "markdown",
   "id": "f5d93eb9",
   "metadata": {},
   "source": [
    "En el caso de una variable categórica, podemos obtener la lista de posibles valores que puede tomar esta variable:"
   ]
  },
  {
   "cell_type": "code",
   "execution_count": null,
   "id": "51c58c07",
   "metadata": {},
   "outputs": [],
   "source": [
    "data.channel.unique()"
   ]
  },
  {
   "cell_type": "markdown",
   "id": "bf4ec82e",
   "metadata": {},
   "source": [
    "y obtener el número de veces que se toma cada valor:"
   ]
  },
  {
   "cell_type": "code",
   "execution_count": null,
   "id": "031731dd",
   "metadata": {},
   "outputs": [],
   "source": [
    "data.station.value_counts()"
   ]
  },
  {
   "cell_type": "markdown",
   "id": "8ff6d551",
   "metadata": {},
   "source": [
    "La segunda opción es utilizar la función aplicar:"
   ]
  },
  {
   "cell_type": "code",
   "execution_count": null,
   "id": "610141ba",
   "metadata": {},
   "outputs": [],
   "source": [
    "data_elevation_mean=data.elevation.unique().mean()\n",
    "def remean_elevation(row):\n",
    "    row.elevation = row.elevation - data_elevation_mean\n",
    "    return row\n",
    "data.apply(remean_elevation, axis='columns')"
   ]
  },
  {
   "cell_type": "markdown",
   "id": "4193d83c",
   "metadata": {},
   "source": [
    "También podemos realizar operaciones sencillas sobre columnas, siempre que tengan sentido."
   ]
  },
  {
   "cell_type": "code",
   "execution_count": null,
   "id": "e02b7ee4",
   "metadata": {},
   "outputs": [],
   "source": [
    "data.network + ' - ' + data.station"
   ]
  },
  {
   "cell_type": "markdown",
   "id": "c6e15985",
   "metadata": {},
   "source": [
    "Una función útil es agrupar las filas en función del valor de una variable categórica y, a continuación, aplicar la misma operación a todos los grupos. Por ejemplo, quiero saber cuántas veces aparece cada estación en el fichero:"
   ]
  },
  {
   "cell_type": "code",
   "execution_count": null,
   "id": "cdf44701",
   "metadata": {},
   "outputs": [],
   "source": [
    "data.groupby('station').station.count()"
   ]
  },
  {
   "cell_type": "markdown",
   "id": "9ab5d024",
   "metadata": {},
   "source": [
    "Podemos acceder al tipo de datos de cada columna:"
   ]
  },
  {
   "cell_type": "code",
   "execution_count": null,
   "id": "1cc71f38",
   "metadata": {},
   "outputs": [],
   "source": [
    "data.dtypes"
   ]
  },
  {
   "cell_type": "markdown",
   "id": "141ac2c1",
   "metadata": {},
   "source": [
    "Aquí, pandas no reconoce las columnas start_time y end_time como un formato datetime, por lo que no podemos usar operaciones datetime sobre ellas. Primero necesitamos convertir estas columnas a un formato datetime:"
   ]
  },
  {
   "cell_type": "code",
   "execution_count": null,
   "id": "02663a77",
   "metadata": {},
   "outputs": [],
   "source": [
    "data.start_time.values()"
   ]
  },
  {
   "cell_type": "code",
   "execution_count": null,
   "id": "62d6937c",
   "metadata": {},
   "outputs": [],
   "source": [
    "type(data['start_time'][0])"
   ]
  },
  {
   "cell_type": "code",
   "execution_count": null,
   "id": "afaf1851",
   "metadata": {},
   "outputs": [],
   "source": [
    "# Transformar la columna de cadena a formato datetime\n",
    "startdate = pd.to_datetime(data['start_time'], format='%Y/%m/%d,%H:%M:%S')\n",
    "data['hora_inicio'] = fecha_inicio\n",
    "print(datos['hora_inicio'] )\n",
    "type(datos['hora_inicio'][0])"
   ]
  },
  {
   "cell_type": "code",
   "execution_count": null,
   "id": "78278bab",
   "metadata": {},
   "outputs": [],
   "source": [
    "print(data['end_time'])"
   ]
  },
  {
   "cell_type": "code",
   "execution_count": null,
   "id": "bae00773",
   "metadata": {},
   "outputs": [],
   "source": [
    "# hacer lo mismo para las horas finales\n",
    "# Evitar el error 'OutOfBoundsDatetime' con el año 3000\n",
    "enddate = data['hora_final'].str.replace('3000', '2025')\n",
    "enddate = pd.to_datetime(enddate, format='%Y/%m/%d,%H:%M:%S')\n",
    "data['end_time'] = enddate"
   ]
  },
  {
   "cell_type": "markdown",
   "id": "f00ce758",
   "metadata": {},
   "source": [
    "Ahora podemos ver cuándo se instaló cada estación sísmica:"
   ]
  },
  {
   "cell_type": "code",
   "execution_count": null,
   "id": "a0cc2a86",
   "metadata": {},
   "outputs": [],
   "source": [
    "data.groupby('station').apply(lambda df: df.start_time.min())"
   ]
  },
  {
   "cell_type": "markdown",
   "id": "f1d61170",
   "metadata": {},
   "source": [
    "La función ``agg`` permite realizar varias operaciones a cada grupo de filas:"
   ]
  },
  {
   "cell_type": "code",
   "execution_count": null,
   "id": "fd80a620",
   "metadata": {},
   "outputs": [],
   "source": [
    "data.groupby(['station']).elevation.agg(['min', 'max'])"
   ]
  },
  {
   "cell_type": "markdown",
   "id": "5183304a",
   "metadata": {},
   "source": [
    "Seleccione las estaciones que se desplegaron en primer lugar y se recuperaron en último lugar"
   ]
  },
  {
   "cell_type": "code",
   "execution_count": null,
   "id": "7e7b38a0",
   "metadata": {},
   "outputs": [],
   "source": [
    "data.groupby(['station']).agg({'start_time':lambda x: min(x), 'end_time':lambda x: max(x)})"
   ]
  },
  {
   "cell_type": "markdown",
   "id": "28ec3c28",
   "metadata": {},
   "source": [
    "También podemos hacer grupos seleccionando los valores de dos variables categóricas:"
   ]
  },
  {
   "cell_type": "code",
   "execution_count": null,
   "id": "b5aacd39",
   "metadata": {},
   "outputs": [],
   "source": [
    "data.groupby(['station', 'channel']).agg({'start_time':lambda x: min(x), 'end_time':lambda x: max(x)})"
   ]
  },
  {
   "cell_type": "markdown",
   "id": "9eaaa490",
   "metadata": {},
   "source": [
    "Antes nos limitábamos a imprimir la salida, pero también podemos almacenarla en una nueva variable:"
   ]
  },
  {
   "cell_type": "code",
   "execution_count": null,
   "id": "14adf61e",
   "metadata": {},
   "outputs": [],
   "source": [
    "data_grouped = data.groupby(['station', 'channel']).agg({'start_time':lambda x: min(x), 'end_time':lambda x: max(x)})"
   ]
  },
  {
   "cell_type": "code",
   "execution_count": null,
   "id": "2dcccafe",
   "metadata": {},
   "outputs": [],
   "source": [
    "data_grouped.head()"
   ]
  },
  {
   "cell_type": "markdown",
   "id": "755f691b",
   "metadata": {},
   "source": [
    "Cuando seleccionamos sólo algunas filas, el índice no se resetea automáticamente para empezar en 0. Podemos hacerlo manualmente. Muchas funciones en pandas tienen también una opción para restablecer el índice, y la opción de transformar el marco de datos en su lugar, en lugar de guardar los resultados en otra variable."
   ]
  },
  {
   "cell_type": "code",
   "execution_count": null,
   "id": "e41c6f08",
   "metadata": {},
   "outputs": [],
   "source": [
    "data_grouped.reset_index()"
   ]
  },
  {
   "cell_type": "markdown",
   "id": "48a33bd8",
   "metadata": {},
   "source": [
    "También es posible ordenar el conjunto de datos por valor"
   ]
  },
  {
   "cell_type": "code",
   "execution_count": null,
   "id": "d5d91ecb",
   "metadata": {},
   "outputs": [],
   "source": [
    "data_grouped.sort_values(by='start_time')"
   ]
  },
  {
   "cell_type": "markdown",
   "id": "29c0b9b5",
   "metadata": {},
   "source": [
    "Podemos aplicar la ordenación a varias columnas:"
   ]
  },
  {
   "cell_type": "code",
   "execution_count": null,
   "id": "5cf427b0",
   "metadata": {},
   "outputs": [],
   "source": [
    "data_grouped.sort_values(by=['start_time', 'end_time'])"
   ]
  },
  {
   "cell_type": "markdown",
   "id": "c5c38796",
   "metadata": {},
   "source": [
    "## CSV vs Parquet\n",
    "\n",
    "Parquet es un formato de datos comprimido que almacena y comprime las columnas. Es rápido para I/O y compacto.\n",
    "\n",
    "Guarda ``datos`` en un fichero CSV:"
   ]
  },
  {
   "cell_type": "code",
   "execution_count": null,
   "id": "f20f5de3",
   "metadata": {},
   "outputs": [],
   "source": [
    "%timeit data.to_csv(\"my_metadata.csv\")\n",
    "!ls -lh my_metadata.csv"
   ]
  },
  {
   "cell_type": "markdown",
   "id": "4b5dd078",
   "metadata": {},
   "source": [
    "Prueba y guarda en Parquet, compara tiempo y memoria"
   ]
  },
  {
   "cell_type": "code",
   "execution_count": null,
   "id": "0952eb9f",
   "metadata": {},
   "outputs": [],
   "source": [
    "%timeit data.to_parquet(\"my_metadata.pq\")\n",
    "!ls -lh my_metadata.pq"
   ]
  }
 ],
 "metadata": {
  "kernelspec": {
   "display_name": "Python 3 (ipykernel)",
   "language": "python",
   "name": "python3"
  },
  "language_info": {
   "codemirror_mode": {
    "name": "ipython",
    "version": 3
   },
   "file_extension": ".py",
   "mimetype": "text/x-python",
   "name": "python",
   "nbconvert_exporter": "python",
   "pygments_lexer": "ipython3",
   "version": "3.8.8"
  },
  "vscode": {
   "interpreter": {
    "hash": "1c2df93b363d800c8a9b94963221f1be1d8deaf6a76f83b6b9a486ad05d69583"
   }
  }
 },
 "nbformat": 4,
 "nbformat_minor": 5
}
