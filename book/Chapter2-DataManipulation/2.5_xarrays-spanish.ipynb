{
 "cells": [
  {
   "cell_type": "markdown",
   "metadata": {},
   "source": [
    "# 2.5 Xarrays\n",
    "\n",
    "Este tutorial ha sido copiado y modificado de los tutoriales del paquete Xarray.\n",
    "\n",
    "Los Xarrays son matrices multidimensionales (\"tensores\") que pueden tener varios atributos y dimensiones. La estructura principal es ``DataArray``, el array de N dimensiones que es similar a un ``pandas.Series``. La segunda es ``Dataset``, una base de datos multidimensional en memoria. Es un diccionario como contenedor de ``DataArray``, el equivalente a ``pandas.DataFrame``.\n",
    "\n",
    "Los Xarrrays pueden leerse desde netCDF y desde Zarr.\n",
    "\n",
    "Encontrará muchos tutoriales útiles en el proyecto Xarray, como por ejemplo [Esto](https://docs.xarray.dev/en/stable/getting-started-guide/quick-overview.html). \n",
    "\n",
    "[Aquí](https://tutorial.xarray.dev/fundamentals/01_datastructures.html) está el libro tutorial de Xarray que introduce Xarray desde la estructura de datos hasta la visualización. En general, Xarray envuelve Numpy y Pandas y se comporta de manera similar a Pandas. La transición para adoptar Xarray debería ser suave si ya estás familiarizado con Numpy y Pandas."
   ]
  },
  {
   "cell_type": "code",
   "execution_count": null,
   "metadata": {},
   "outputs": [],
   "source": [
    "import matplotlib.pyplot as plt\n",
    "import numpy as np\n",
    "import xarray as xr\n",
    "import pooch\n",
    "\n",
    "%matplotlib inline\n",
    "%config InlineBackend.figure_format='retina'"
   ]
  },
  {
   "cell_type": "code",
   "execution_count": null,
   "metadata": {},
   "outputs": [],
   "source": [
    "ds = xr.tutorial.load_dataset(\"air_temperature\")\n",
    "ds"
   ]
  },
  {
   "cell_type": "markdown",
   "metadata": {},
   "source": [
    "¿Cuáles son las claves/atributos del conjunto de datos?"
   ]
  },
  {
   "cell_type": "code",
   "execution_count": null,
   "metadata": {},
   "outputs": [],
   "source": []
  },
  {
   "cell_type": "markdown",
   "metadata": {},
   "source": [
    "Encuentra dos formas de imprimir los valores del atributo ``air``"
   ]
  },
  {
   "cell_type": "code",
   "execution_count": null,
   "metadata": {},
   "outputs": [],
   "source": [
    "ds[\"air\"]"
   ]
  },
  {
   "cell_type": "code",
   "execution_count": null,
   "metadata": {},
   "outputs": [],
   "source": [
    "ds.air"
   ]
  },
  {
   "cell_type": "code",
   "execution_count": null,
   "metadata": {},
   "outputs": [],
   "source": [
    "with xr.set_options(display_style=\"html\"):\n",
    "    display(ds)"
   ]
  },
  {
   "cell_type": "markdown",
   "metadata": {},
   "source": [
    "El DataArray tiene una dimensión con nombre"
   ]
  },
  {
   "cell_type": "code",
   "execution_count": null,
   "metadata": {},
   "outputs": [],
   "source": [
    "ds.air.dims"
   ]
  },
  {
   "cell_type": "markdown",
   "metadata": {},
   "source": [
    "y las coordenadas se guardan en ``.coord``:"
   ]
  },
  {
   "cell_type": "code",
   "execution_count": null,
   "metadata": {},
   "outputs": [],
   "source": [
    "ds.air.coords"
   ]
  },
  {
   "cell_type": "markdown",
   "metadata": {},
   "source": [
    "Los DataArrays pueden guardar atributos"
   ]
  },
  {
   "cell_type": "code",
   "execution_count": null,
   "metadata": {},
   "outputs": [],
   "source": [
    "ds.air.attrs"
   ]
  },
  {
   "cell_type": "markdown",
   "metadata": {},
   "source": [
    "Agrega nuevos atributos"
   ]
  },
  {
   "cell_type": "code",
   "execution_count": null,
   "metadata": {},
   "outputs": [],
   "source": [
    "# asigna tus propios atributos!\n",
    "ds.air.attrs[\"who_is_awesome\"] = \"xarray\"\n",
    "ds.air.attrs"
   ]
  },
  {
   "cell_type": "markdown",
   "metadata": {},
   "source": [
    "Los datos subyacentes son una matriz numpy"
   ]
  },
  {
   "cell_type": "code",
   "execution_count": null,
   "metadata": {},
   "outputs": [],
   "source": [
    "print(type(ds.air.data))\n",
    "print(ds.air.data)"
   ]
  },
  {
   "cell_type": "markdown",
   "metadata": {},
   "source": [
    "\n",
    "\n",
    "Cómo extraer datos:\n",
    "\n",
    "* Indexación por etiquetas con ``.sel``.\n",
    "\n",
    "* Indexación basada en la posición mediante ``.isel``."
   ]
  },
  {
   "cell_type": "code",
   "execution_count": null,
   "metadata": {},
   "outputs": [],
   "source": [
    "ds.air.isel(time=1).plot(x=\"lon\")"
   ]
  },
  {
   "cell_type": "markdown",
   "metadata": {},
   "source": [
    "Observará que la temperatura del aire está en grados Kelvin. Podemos convertirla a Celsius eliminando 273.15 y cambiando los atributos ``units``."
   ]
  },
  {
   "cell_type": "code",
   "execution_count": null,
   "metadata": {},
   "outputs": [],
   "source": [
    "ds2=ds\n",
    "ds2['air']=ds['air']-273.15\n",
    "ds2['air']['units']='degC'"
   ]
  },
  {
   "cell_type": "markdown",
   "metadata": {},
   "source": [
    "También queremos mostrar las longitudes en dirección oeste eliminando 360$^\\circ$."
   ]
  },
  {
   "cell_type": "code",
   "execution_count": null,
   "metadata": {},
   "outputs": [],
   "source": [
    "ds2.coords[\"lon\"]=ds2.coords[\"lon\"]-360"
   ]
  },
  {
   "cell_type": "markdown",
   "metadata": {},
   "source": [
    "Muestra el promedio de la temperatura"
   ]
  },
  {
   "cell_type": "code",
   "execution_count": null,
   "metadata": {},
   "outputs": [],
   "source": [
    "ds2.air.mean(\"time\").plot()"
   ]
  },
  {
   "cell_type": "code",
   "execution_count": null,
   "metadata": {},
   "outputs": [],
   "source": [
    "ds2.sel(time=\"2013-05\")"
   ]
  },
  {
   "cell_type": "markdown",
   "metadata": {},
   "source": [
    "Selecciona los datos entre dos fechas y reduce el tamaño del Xarray"
   ]
  },
  {
   "cell_type": "code",
   "execution_count": null,
   "metadata": {},
   "outputs": [],
   "source": [
    "# demostrar el corte\n",
    "ds.sel(time=slice(\"2013-05\", \"2013-07\"))"
   ]
  },
  {
   "cell_type": "code",
   "execution_count": null,
   "metadata": {},
   "outputs": [],
   "source": [
    "# \"indexación más próxima en varios puntos\"\n",
    "ds.sel(lon=[240.125-360, 234-360], lat=[40.3, 50.3], method=\"nearest\")"
   ]
  },
  {
   "cell_type": "markdown",
   "metadata": {},
   "source": [
    "### Computación de alto nivel\n",
    "\n",
    "* agruparpor : Agrupa y reduce los datos\n",
    "\n",
    "* remuestrear : Groupby especializado para ejes temporales. Reduzca o aumente la muestra de sus datos.\n",
    "\n",
    "* rodando : Operar en ventanas móviles de sus datos, por ejemplo, media móvil.\n",
    "\n",
    "* engrosar: reduce la muestra de sus datos.\n",
    "\n",
    "* ponderado : Ponderar los datos antes de reducirlos"
   ]
  },
  {
   "cell_type": "code",
   "execution_count": null,
   "metadata": {},
   "outputs": [],
   "source": [
    "# grupos estacionales\n",
    "ds.groupby(\"time.season\")"
   ]
  },
  {
   "cell_type": "code",
   "execution_count": null,
   "metadata": {},
   "outputs": [],
   "source": [
    "# hacer una media estacional\n",
    "seasonal_mean = ds.groupby(\"time.season\").mean()\n",
    "seasonal_mean = seasonal_mean.sel(season=[\"DJF\", \"MAM\", \"JJA\", \"SON\"])\n",
    "seasonal_mean"
   ]
  },
  {
   "cell_type": "code",
   "execution_count": null,
   "metadata": {},
   "outputs": [],
   "source": [
    "# remuestreo a frecuencia mensual\n",
    "ds.resample(time=\"M\").mean()"
   ]
  },
  {
   "cell_type": "code",
   "execution_count": null,
   "metadata": {},
   "outputs": [],
   "source": [
    "# faceta la media_estacional\n",
    "seasonal_mean.air.plot(col=\"season\")"
   ]
  },
  {
   "cell_type": "markdown",
   "metadata": {},
   "source": [
    "Podemos guardar Xarrays en archivos NetCDF y Zarr"
   ]
  },
  {
   "cell_type": "code",
   "execution_count": null,
   "metadata": {},
   "outputs": [],
   "source": [
    "# escribir en netCDF\n",
    "%timeit ds.to_netcdf(\"my-example-dataset.nc\")\n",
    "!ls -lh my-example-dataset.nc"
   ]
  },
  {
   "cell_type": "code",
   "execution_count": null,
   "metadata": {},
   "outputs": [],
   "source": [
    "\n",
    "%timeit ds.to_zarr(store=\"./my-example-dataset.zarr\",mode=\"w\")\n",
    "!du -sh ./my-example-dataset.zarr"
   ]
  }
 ],
 "metadata": {
  "kernelspec": {
   "display_name": "Python 3 (ipykernel)",
   "language": "python",
   "name": "python3"
  },
  "language_info": {
   "codemirror_mode": {
    "name": "ipython",
    "version": 3
   },
   "file_extension": ".py",
   "mimetype": "text/x-python",
   "name": "python",
   "nbconvert_exporter": "python",
   "pygments_lexer": "ipython3",
   "version": "3.8.8"
  },
  "vscode": {
   "interpreter": {
    "hash": "31f2aee4e71d21fbe5cf8b01ff0e069b9275f58929596ceb00d14d90e3e16cd6"
   }
  }
 },
 "nbformat": 4,
 "nbformat_minor": 2
}
