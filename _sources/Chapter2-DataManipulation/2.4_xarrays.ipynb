{
 "cells": [
  {
   "attachments": {},
   "cell_type": "markdown",
   "metadata": {},
   "source": [
    "# 2.4 Xarrays\n",
    "\n",
    "Xarrays are multi-dimensional arrays (\"tensors\") that can have several attributes and dimensions. The core structure is ``DataArray``, the N dimensional array that is similar to a ``pandas.Series``. The second is the ``Dataset`` that is a multi-dimensional, in-memory array database. It is a dictionary like container of ``DataArray``, the equivalent to ``pandas.DataFrame``.\n",
    "\n",
    "Xarrrays can be read from netCDF and from Zarr.\n",
    "\n",
    "You will find plenty of useful tutorials from the Xarray project, such as [this](https://docs.xarray.dev/en/stable/getting-started-guide/quick-overview.html). \n",
    "\n",
    "Also [here](https://tutorial.xarray.dev/fundamentals/01_datastructures.html) is the Xarray tutorial book to introduce Xarray from data structure to visualization. Generally, students can use Xarray in similar way as they do in Pandas. The transition to adopt Xarray should be smooth if you are familiar with Numpy and Pandas already. \n"
   ]
  }
 ],
 "metadata": {
  "kernelspec": {
   "display_name": "Python 3.8.5 ('base')",
   "language": "python",
   "name": "python3"
  },
  "language_info": {
   "name": "python",
   "version": "3.8.5"
  },
  "orig_nbformat": 4,
  "vscode": {
   "interpreter": {
    "hash": "bf1c1ab31e530e60b58e3d6ad0457a0c579c03efa8f6c28b6cdd125835b5a825"
   }
  }
 },
 "nbformat": 4,
 "nbformat_minor": 2
}
