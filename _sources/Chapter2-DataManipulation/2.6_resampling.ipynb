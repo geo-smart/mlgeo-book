{
 "cells": [
  {
   "attachments": {},
   "cell_type": "markdown",
   "metadata": {},
   "source": [
    "# 2.6 Resampling Methods \n",
    "\n",
    "Data have natural variability, which we often have to account for. \n",
    "\n",
    "Among other applications (e.g., uncertainity propagation or assigning confidence intervals to some statistic), **resampling methods** can help us explore this varaibility. \n",
    "\n",
    "Broadly, resampling refers to any technique where we repeatedly draw observations from some sample.\n",
    "\n",
    "<!---\n",
    "Note that the follow statement is specific to resampling for model evaluation:\n",
    "    Resampling methods involve repeatedly drawing samples from a training set  and re-fitting a model. The collection of best-fit models provides confidence in model fitting.\n",
    "More broadly, resampling methods refer to any technique where we repeatedly draw observations from some sample. We should use the more broad definition at the introduction of this section.\n",
    "--->\n",
    "\n",
    "The lecture introduces resampling techniques in several ways. We explore various fundamental examples of resampling (Level 1) and demonstrate how resampling can be used for model inference of a linear regression (Level 2).\n",
    "\n",
    "First of all, import some useful modules:"
   ]
  },
  {
   "cell_type": "code",
   "execution_count": 233,
   "metadata": {},
   "outputs": [],
   "source": [
    "import requests, zipfile, io, gzip, glob, os\n",
    "import matplotlib.pyplot as plt\n",
    "import numpy as np\n",
    "import pandas as pd\n",
    "%matplotlib inline"
   ]
  },
  {
   "cell_type": "code",
   "execution_count": 234,
   "metadata": {},
   "outputs": [],
   "source": [
    "# fix the random seed for reproducibility. Place it on the top to reproduce the entire notebook exactly once. But use it in every cell to re-run each cells independently.\n",
    "np.random.seed(42)"
   ]
  },
  {
   "cell_type": "code",
   "execution_count": 235,
   "metadata": {},
   "outputs": [],
   "source": [
    "# We define a random generator\n",
    "rng = np.random.default_rng()"
   ]
  },
  {
   "cell_type": "code",
   "execution_count": 236,
   "metadata": {},
   "outputs": [
    {
     "data": {
      "text/plain": [
       "Generator(PCG64) at 0x318353900"
      ]
     },
     "execution_count": 236,
     "metadata": {},
     "output_type": "execute_result"
    }
   ],
   "source": [
    "rng"
   ]
  },
  {
   "cell_type": "markdown",
   "metadata": {},
   "source": [
    "## 1. Examples of resampling techniques (Level 1)\n",
    "\n",
    "### 1.1 Randomization\n",
    "\n",
    "As we introduced in class: \n",
    "\n",
    "Given two datasets, $A$ and $B$, and a parameter, $x$, we can randomly assign observations to either $A$ or $B$, calculate some statistic (e.g., $x_A - x_B$), and repeat to build a distribution of that statistic."
   ]
  },
  {
   "cell_type": "code",
   "execution_count": 237,
   "metadata": {},
   "outputs": [
    {
     "name": "stdout",
     "output_type": "stream",
     "text": [
      "The means of A and B are, 4.874325971290356 and 5.473420405447642, respectively.\n",
      "The difference of means is, -0.5990944341572852.\n"
     ]
    }
   ],
   "source": [
    "# We begin with two datasets, A and B\n",
    "np.random.seed(42)\n",
    "rng = np.random.default_rng(seed=42)\n",
    "A = rng.normal(5, 2.5, 100)\n",
    "B = rng.normal(5.5, 2.5, 100)\n",
    "\n",
    "# We then calculate the means of each dataset\n",
    "mean_A = np.mean(A)\n",
    "mean_B = np.mean(B)\n",
    "\n",
    "print('The means of A and B are, ' + str(mean_A) + ' and ' + str(mean_B) + ', respectively.')\n",
    "\n",
    "# And, for the sake of illustration, also calculate the difference between these means\n",
    "\n",
    "diff_means = mean_A - mean_B\n",
    "\n",
    "print('The difference of means is, ' + str(diff_means) + '.')"
   ]
  },
  {
   "cell_type": "markdown",
   "metadata": {},
   "source": [
    "Now, we will want to resample."
   ]
  },
  {
   "cell_type": "code",
   "execution_count": 238,
   "metadata": {},
   "outputs": [],
   "source": [
    "# First, how many times do we want to resample?\n",
    "number_runs = 10000"
   ]
  },
  {
   "cell_type": "code",
   "execution_count": 239,
   "metadata": {},
   "outputs": [],
   "source": [
    "# Next, we create an array that will store the difference of means\n",
    "array_of_diffs = np.zeros([number_runs, 1])\n",
    "# To ease computational burden, let's declare some variables\n",
    "# A combined list of A and B\n",
    "combined = np.concatenate((A, B))\n",
    "# Length of A and B\n",
    "length_A = len(A)"
   ]
  },
  {
   "cell_type": "markdown",
   "metadata": {},
   "source": [
    "For each time we resample, we recalculate the mean and recalculate the difference "
   ]
  },
  {
   "cell_type": "code",
   "execution_count": 240,
   "metadata": {},
   "outputs": [],
   "source": [
    "# For each run:\n",
    "for i in range(number_runs):\n",
    "    # Let us shuffle the combined list\n",
    "    # Note that shuffle works in place!\n",
    "    rng.shuffle(combined)\n",
    "    # Now, split the list into A and B, maintaining their original sizes\n",
    "    # Notice the slice syntax!\n",
    "    new_A = combined[0:length_A]\n",
    "    new_B = combined[length_A:len(combined)]\n",
    "    # Calculate and store a difference of means\n",
    "    array_of_diffs[i] = np.mean(new_A) - np.mean(new_B)"
   ]
  },
  {
   "cell_type": "code",
   "execution_count": 241,
   "metadata": {},
   "outputs": [
    {
     "data": {
      "image/png": "[encoded data removed]",
      "text/plain": [
       "<Figure size 640x480 with 1 Axes>"
      ]
     },
     "metadata": {},
     "output_type": "display_data"
    }
   ],
   "source": [
    "# Plot up the array of diffs\n",
    "plt.hist(array_of_diffs, color='black')\n",
    "\n",
    "# Given an alpha of 0.05, can we accept or reject the null hypothesis of no difference in means?\n",
    "\n",
    "alpha = 0.05\n",
    "lower_critical_value = np.quantile(array_of_diffs, alpha/2)\n",
    "upper_critical_value = np.quantile(array_of_diffs, 1-(alpha/2))\n",
    "\n",
    "# Plot the critical values and the observed value\n",
    "plt.axvline(x = diff_means, color='r')\n",
    "plt.axvline(x = lower_critical_value, color='g')\n",
    "plt.axvline(x = upper_critical_value, color='b')\n",
    "plt.xlabel('Difference of means')\n",
    "plt.ylabel('Count')\n",
    "plt.legend(['Observed difference of means', 'Lower critical value', 'Upper critical value'], loc='center left', bbox_to_anchor=(1, 0.5))\n",
    "# Show your plot\n",
    "plt.show()"
   ]
  },
  {
   "cell_type": "markdown",
   "metadata": {},
   "source": [
    "### 1.2 Bootstrapping\n",
    "\n",
    "When bootstrapping, you repeatedly draw observations, **with replacement**, from a dataset. Since you are drawing with replacement, your newly resampled dataset likely will contain duplicate observations from the original sample.\n",
    "\n",
    "Bootstrapping does not make strong assumptions about the underlying distribution of the dataset. \n",
    "\n",
    "We will first create correlated data using the numpy function ``random.multivariate_normal`` ([docs here](https://numpy.org/doc/stable/reference/random/generated/numpy.random.multivariate_normal.html)). The mean of both data will be zero and their covariance is -0.75. \n"
   ]
  },
  {
   "cell_type": "code",
   "execution_count": 242,
   "metadata": {},
   "outputs": [],
   "source": [
    "# We begin with a dataset where two variables are strongly correlated\n",
    "correlated_data= np.random.multivariate_normal([0, 0], [[1, -.75], [-.75, 1]], 1000)"
   ]
  },
  {
   "cell_type": "markdown",
   "metadata": {},
   "source": [
    "First, we check that the data is indeed anticorrelated by plotting one against the other"
   ]
  },
  {
   "cell_type": "code",
   "execution_count": 243,
   "metadata": {},
   "outputs": [
    {
     "data": {
      "image/png": "[encoded data removed]",
      "text/plain": [
       "<Figure size 640x480 with 1 Axes>"
      ]
     },
     "metadata": {},
     "output_type": "display_data"
    }
   ],
   "source": [
    "plt.scatter(correlated_data[:, 0], correlated_data[:, 1], marker='x', c='black')\n",
    "plt.xlabel('X')\n",
    "plt.ylabel('Y')\n",
    "plt.legend(['Observation'])\n",
    "plt.show()"
   ]
  },
  {
   "cell_type": "markdown",
   "metadata": {},
   "source": [
    "We can verify that the Pearson [correlation coefficient](https://en.wikipedia.org/wiki/Correlation_coefficient) is close to our target using the numpy function ``corrcoef``."
   ]
  },
  {
   "cell_type": "code",
   "execution_count": 244,
   "metadata": {},
   "outputs": [],
   "source": [
    "# The correlation matrix of the first and second columns of correlated_data\n",
    "correlation_matrix = np.corrcoef(correlated_data[:, 0], correlated_data[:, 1])\n",
    "\n"
   ]
  },
  {
   "cell_type": "code",
   "execution_count": 245,
   "metadata": {},
   "outputs": [
    {
     "data": {
      "text/plain": [
       "array([[ 1.        , -0.72540304],\n",
       "       [-0.72540304,  1.        ]])"
      ]
     },
     "execution_count": 245,
     "metadata": {},
     "output_type": "execute_result"
    }
   ],
   "source": [
    "correlation_matrix"
   ]
  },
  {
   "cell_type": "code",
   "execution_count": 246,
   "metadata": {},
   "outputs": [
    {
     "name": "stdout",
     "output_type": "stream",
     "text": [
      "The correlation coefficient is: -0.7254030411293304.\n"
     ]
    }
   ],
   "source": [
    "\n",
    "# Check the correlation coefficient\n",
    "print('The correlation coefficient is: ' + str(correlation_matrix[0,1]) + '.')"
   ]
  },
  {
   "cell_type": "markdown",
   "metadata": {},
   "source": [
    "We now take a subset of the data --- think of the subset as a *sample of the true population*."
   ]
  },
  {
   "cell_type": "code",
   "execution_count": 247,
   "metadata": {},
   "outputs": [],
   "source": [
    "nsubset=10\n",
    "subset = rng.choice(correlated_data, size=nsubset, replace=True)"
   ]
  },
  {
   "cell_type": "code",
   "execution_count": 248,
   "metadata": {},
   "outputs": [
    {
     "data": {
      "text/plain": [
       "array([[ 1.08149552, -0.75473902],\n",
       "       [-0.15064708, -0.88421426],\n",
       "       [ 0.03331803,  0.51951422],\n",
       "       [ 0.58669726,  0.51967288],\n",
       "       [ 0.42511267,  0.47888931],\n",
       "       [-0.05371048,  0.15998988],\n",
       "       [ 0.13428352,  0.24026582],\n",
       "       [-0.13976786,  0.57151718],\n",
       "       [-0.74081486,  0.22763649],\n",
       "       [ 0.02037839, -0.36898269]])"
      ]
     },
     "execution_count": 248,
     "metadata": {},
     "output_type": "execute_result"
    }
   ],
   "source": [
    "subset"
   ]
  },
  {
   "cell_type": "markdown",
   "metadata": {},
   "source": [
    "We can calculate the correlation coefficent of this sample."
   ]
  },
  {
   "cell_type": "code",
   "execution_count": 249,
   "metadata": {},
   "outputs": [
    {
     "name": "stdout",
     "output_type": "stream",
     "text": [
      "The correlation coefficient of our sample is: -0.19742697173045337.\n"
     ]
    },
    {
     "data": {
      "image/png": "[encoded data removed]",
      "text/plain": [
       "<Figure size 640x480 with 1 Axes>"
      ]
     },
     "metadata": {},
     "output_type": "display_data"
    }
   ],
   "source": [
    "# Report the correlation coefficient of the subset\n",
    "print('The correlation coefficient of our sample is: ' + str(np.corrcoef(subset[:,0], subset[:, 1])[0,1]) + '.')\n",
    "\n",
    "# Plot up both the original data and our sample\n",
    "plt.scatter(correlated_data[:, 0], correlated_data[:, 1], marker='x', c='black')\n",
    "plt.scatter(subset[:,0], subset[:, 1], c='red')\n",
    "plt.xlabel('X')\n",
    "plt.ylabel('Y')\n",
    "plt.legend(['True population', 'Subset'])\n",
    "plt.show()"
   ]
  },
  {
   "cell_type": "markdown",
   "metadata": {},
   "source": [
    "Now, we will bootstrap. Once again, we define a number of runs. "
   ]
  },
  {
   "cell_type": "code",
   "execution_count": 250,
   "metadata": {},
   "outputs": [],
   "source": [
    "number_runs =1000"
   ]
  },
  {
   "cell_type": "markdown",
   "metadata": {},
   "source": [
    "Each time we resample, we will calculate and store the correlation coefficent of the resampled data."
   ]
  },
  {
   "cell_type": "code",
   "execution_count": 251,
   "metadata": {},
   "outputs": [],
   "source": [
    "# Create an array that will keep track of the outputs of our resampling loop. In this case, we just want to record the correlation coefficient of each new sample. \n",
    "corr_coef_collector = np.zeros([number_runs, 1])\n",
    "\n",
    "# Let's also get the length of the subset\n",
    "# When bootstrapping, the size of your resampled dataset should match the size of your original sample!\n",
    "length_sub = len(subset)\n",
    "length_sub = 100\n"
   ]
  },
  {
   "cell_type": "code",
   "execution_count": 252,
   "metadata": {},
   "outputs": [
    {
     "data": {
      "text/plain": [
       "array([[ 1.08149552, -0.75473902],\n",
       "       [-0.15064708, -0.88421426],\n",
       "       [ 0.03331803,  0.51951422],\n",
       "       [ 0.58669726,  0.51967288],\n",
       "       [ 0.42511267,  0.47888931],\n",
       "       [-0.05371048,  0.15998988],\n",
       "       [ 0.13428352,  0.24026582],\n",
       "       [-0.13976786,  0.57151718],\n",
       "       [-0.74081486,  0.22763649],\n",
       "       [ 0.02037839, -0.36898269]])"
      ]
     },
     "execution_count": 252,
     "metadata": {},
     "output_type": "execute_result"
    }
   ],
   "source": [
    "subset "
   ]
  },
  {
   "cell_type": "code",
   "execution_count": 253,
   "metadata": {},
   "outputs": [
    {
     "data": {
      "text/plain": [
       "array([[ 1.08149552, -0.75473902],\n",
       "       [-0.15064708, -0.88421426],\n",
       "       [ 0.03331803,  0.51951422],\n",
       "       [ 0.58669726,  0.51967288],\n",
       "       [ 0.42511267,  0.47888931],\n",
       "       [-0.05371048,  0.15998988],\n",
       "       [ 0.13428352,  0.24026582],\n",
       "       [-0.13976786,  0.57151718],\n",
       "       [-0.74081486,  0.22763649],\n",
       "       [ 0.02037839, -0.36898269]])"
      ]
     },
     "execution_count": 253,
     "metadata": {},
     "output_type": "execute_result"
    }
   ],
   "source": [
    "nsubset=10\n",
    "\n",
    "subset"
   ]
  },
  {
   "cell_type": "code",
   "execution_count": 254,
   "metadata": {},
   "outputs": [
    {
     "data": {
      "image/png": "[encoded data removed]",
      "text/plain": [
       "<Figure size 640x480 with 1 Axes>"
      ]
     },
     "metadata": {},
     "output_type": "display_data"
    }
   ],
   "source": [
    "nsubset=500\n",
    "# Now, for each run\n",
    "for i in range(number_runs):\n",
    "    # We want to draw length_sub samples WITH REPLACEMENT\n",
    "    new_pairs = rng.choice(correlated_data, size=nsubset, replace=True)\n",
    "    # Calculate and store the correlation coefficient\n",
    "    corr_coef_collector[i] = np.corrcoef(new_pairs[:, 0], new_pairs[:, 1])[0,1]\n",
    "\n",
    "# Plot up the corr_coef_collector values\n",
    "plt.hist(corr_coef_collector, color='black')\n",
    "plt.xlabel('Correlation coefficient')\n",
    "plt.ylabel('Count')\n",
    "\n",
    "# Show the true correlation coefficient\n",
    "plt.axvline(x=correlation_matrix[0,1], color='red')\n",
    "plt.axvline(x=np.median(corr_coef_collector), color='blue')\n",
    "plt.legend(['True correlation coefficient', 'Median correlation coefficient'])\n",
    "plt.show()"
   ]
  },
  {
   "cell_type": "markdown",
   "metadata": {},
   "source": [
    "We see that the median Pearson coefficient is not exactly the true Pearson coefficient. Why is that?\n",
    "\n",
    "What happens if you increase the size of the subset (e.g., your sample of the true population)?"
   ]
  },
  {
   "cell_type": "markdown",
   "metadata": {},
   "source": [
    "### 1.3 Monte Carlo\n",
    "\n",
    "Named after the casino in Monaco, Monte Carlo methods involve *simulating new data* based on a known (or assumed!) statistical model. Unlike the previous two examples, we do not take draws from an existing sample. \n",
    "\n",
    "Monte Carlo techniques have many applications. For example, you might see Monte Carlo methods used for probabilistic risk assessment, uncertainty propagation in models, and evaluating complex systems' performance. It is especially valuable when dealing with complex geospatial, environmental, or engineering models, where the relationships among variables are not easily captured by simple parametric methods."
   ]
  },
  {
   "cell_type": "markdown",
   "metadata": {},
   "source": [
    "Here, we demonstrate Monte Carlo sampling by trying to estimate $\\pi$.\n",
    "\n",
    "We begin with a central conceit: that the ratio of the area of a circle to the area of the square is $\\pi/4$.\n",
    "\n",
    "We then imagine a circle of radius 1 that is inscribed within a square with sides going from -1 to 1. "
   ]
  },
  {
   "cell_type": "code",
   "execution_count": 255,
   "metadata": {},
   "outputs": [],
   "source": [
    "# We're going to draw a (x,y) point from a *uniform* distribution and then determine whether that point sits within the circle. If it does, we append it to two lists: points within the circle and points within the square. If not, we append it only to a list of points inside the square\n",
    "in_circle = np.empty([0,2])\n",
    "in_square = np.empty([0,2])\n",
    "\n",
    "# Now, let's generate many samples\n",
    "# Here, we redefine number_runs for efficiency's sake\n",
    "number_runs = 50\n",
    "\n",
    "for _ in range(number_runs): # note that _ allows to avoid creating a variable\n",
    "    # Okay, get an x point and a y point\n",
    "    x = rng.uniform(low=-1, high=1)\n",
    "    y = rng.uniform(low=-1, high=1)\n",
    "    # How far is this point from the origin?\n",
    "    origin_dist = x**2 + y**2\n",
    "    # If origin_dist is less than 1, then this point is inside the circle\n",
    "    if origin_dist <= 1:\n",
    "        in_circle = np.append(in_circle, [[x, y]], axis=0)\n",
    "    in_square = np.append(in_square, [[x, y]], axis=0)"
   ]
  },
  {
   "cell_type": "code",
   "execution_count": 256,
   "metadata": {},
   "outputs": [
    {
     "data": {
      "image/png": "[encoded data removed]",
      "text/plain": [
       "<Figure size 640x480 with 1 Axes>"
      ]
     },
     "metadata": {},
     "output_type": "display_data"
    }
   ],
   "source": [
    "# We can visualize what we just did\n",
    "plt.scatter(in_square[:,0], in_square[:,1], marker='x', c='black')\n",
    "plt.scatter(in_circle[:,0], in_circle[:,1], marker='o', c='red')\n",
    "plt.xlabel('X coordinate')\n",
    "plt.ylabel('Y coordinate')\n",
    "plt.legend(['Points in square', 'Points in circle'], loc='center left', bbox_to_anchor=(1, 0.5))\n",
    "ax = plt.gca()\n",
    "ax.set_aspect('equal', adjustable='box')\n",
    "plt.show()"
   ]
  },
  {
   "cell_type": "markdown",
   "metadata": {},
   "source": [
    "We now estimate $\\pi$ by using the length of the number points in the circle and in the quarter as approximation to their area."
   ]
  },
  {
   "cell_type": "code",
   "execution_count": 257,
   "metadata": {},
   "outputs": [
    {
     "name": "stdout",
     "output_type": "stream",
     "text": [
      "We estimate the value of pi to be: 3.28.\n"
     ]
    }
   ],
   "source": [
    "# Let us estimate pi\n",
    "\n",
    "pi_est = 4 * (len(in_circle) / len(in_square))\n",
    "              \n",
    "print('We estimate the value of pi to be: ' + str(pi_est) + '.')"
   ]
  },
  {
   "cell_type": "markdown",
   "metadata": {},
   "source": [
    "Now with a few runs, we do not get a good answer. \n",
    "\n",
    "In fact, a Monte Carlo approach needs more runs to **converge**. \n",
    "\n",
    "You should explore how changing the number of runs changes your estimate of $\\pi$ (and how your calculation converges)."
   ]
  },
  {
   "cell_type": "markdown",
   "metadata": {},
   "source": []
  },
  {
   "cell_type": "markdown",
   "metadata": {},
   "source": [
    "## Using resampling for robust model inference (Level 2)\n",
    "\n",
    "### 2.1 Plate Motion - Geodetic Data\n",
    "\n",
    "For this tutorial, we use a GPS time series in the Pacific Northwest and explore the long term motions that are due to the Cascadia subduction zone. \n",
    "\n",
    "We will download GPS time series from the University of Nevada - Reno [data center](!http://geodesy.unr.edu/NGLStationPages/gpsnetmap/GPSNetMap.html).\n"
   ]
  },
  {
   "cell_type": "code",
   "execution_count": 258,
   "metadata": {},
   "outputs": [
    {
     "name": "stdout",
     "output_type": "stream",
     "text": [
      "http://geodesy.unr.edu/gps_timeseries/tenv/IGS14/P395.tenv\n",
      "P395 06JAN25 2006.0671 53760 1359 3 -123.9  3347.67917   4987420.31375   53.03678  0.0083 0.00069 0.00105 0.00327 -0.04832  0.01695 -0.31816\n"
     ]
    },
    {
     "data": {
      "text/html": [
       "<div>\n",
       "<style scoped>\n",
       "    .dataframe tbody tr th:only-of-type {\n",
       "        vertical-align: middle;\n",
       "    }\n",
       "\n",
       "    .dataframe tbody tr th {\n",
       "        vertical-align: top;\n",
       "    }\n",
       "\n",
       "    .dataframe thead th {\n",
       "        text-align: right;\n",
       "    }\n",
       "</style>\n",
       "<table border=\"1\" class=\"dataframe\">\n",
       "  <thead>\n",
       "    <tr style=\"text-align: right;\">\n",
       "      <th></th>\n",
       "      <th>station ID (SSSS)</th>\n",
       "      <th>date (yymmmdd)</th>\n",
       "      <th>decimal year</th>\n",
       "      <th>modified Julian day</th>\n",
       "      <th>GPS week</th>\n",
       "      <th>day of GPS week</th>\n",
       "      <th>longitude (degrees) of reference meridian</th>\n",
       "      <th>delta e (m)</th>\n",
       "      <th>delta n (m)</th>\n",
       "      <th>delta v (m)</th>\n",
       "      <th>antenna height (m)</th>\n",
       "      <th>sigma e (m)</th>\n",
       "      <th>sigma n (m)</th>\n",
       "      <th>sigma v (m)</th>\n",
       "      <th>correlation en</th>\n",
       "      <th>correlation ev</th>\n",
       "      <th>correlation nv</th>\n",
       "    </tr>\n",
       "  </thead>\n",
       "  <tbody>\n",
       "    <tr>\n",
       "      <th>0</th>\n",
       "      <td>P395</td>\n",
       "      <td>06JAN25</td>\n",
       "      <td>2006.0671</td>\n",
       "      <td>53760.0</td>\n",
       "      <td>1359.0</td>\n",
       "      <td>3.0</td>\n",
       "      <td>-123.9</td>\n",
       "      <td>3347.67917</td>\n",
       "      <td>4.987420e+06</td>\n",
       "      <td>53.03678</td>\n",
       "      <td>0.0083</td>\n",
       "      <td>0.00069</td>\n",
       "      <td>0.00105</td>\n",
       "      <td>0.00327</td>\n",
       "      <td>-0.04832</td>\n",
       "      <td>0.01695</td>\n",
       "      <td>-0.31816</td>\n",
       "    </tr>\n",
       "    <tr>\n",
       "      <th>1</th>\n",
       "      <td>P395</td>\n",
       "      <td>06JAN26</td>\n",
       "      <td>2006.0698</td>\n",
       "      <td>53761.0</td>\n",
       "      <td>1359.0</td>\n",
       "      <td>4.0</td>\n",
       "      <td>-123.9</td>\n",
       "      <td>3347.68086</td>\n",
       "      <td>4.987420e+06</td>\n",
       "      <td>53.03003</td>\n",
       "      <td>0.0083</td>\n",
       "      <td>0.00069</td>\n",
       "      <td>0.00104</td>\n",
       "      <td>0.00321</td>\n",
       "      <td>-0.04648</td>\n",
       "      <td>0.00271</td>\n",
       "      <td>-0.30970</td>\n",
       "    </tr>\n",
       "    <tr>\n",
       "      <th>2</th>\n",
       "      <td>P395</td>\n",
       "      <td>06JAN27</td>\n",
       "      <td>2006.0726</td>\n",
       "      <td>53762.0</td>\n",
       "      <td>1359.0</td>\n",
       "      <td>5.0</td>\n",
       "      <td>-123.9</td>\n",
       "      <td>3347.68072</td>\n",
       "      <td>4.987420e+06</td>\n",
       "      <td>53.03906</td>\n",
       "      <td>0.0083</td>\n",
       "      <td>0.00069</td>\n",
       "      <td>0.00105</td>\n",
       "      <td>0.00326</td>\n",
       "      <td>-0.02367</td>\n",
       "      <td>0.00817</td>\n",
       "      <td>-0.31941</td>\n",
       "    </tr>\n",
       "    <tr>\n",
       "      <th>3</th>\n",
       "      <td>P395</td>\n",
       "      <td>06JAN28</td>\n",
       "      <td>2006.0753</td>\n",
       "      <td>53763.0</td>\n",
       "      <td>1359.0</td>\n",
       "      <td>6.0</td>\n",
       "      <td>-123.9</td>\n",
       "      <td>3347.67938</td>\n",
       "      <td>4.987420e+06</td>\n",
       "      <td>53.04382</td>\n",
       "      <td>0.0083</td>\n",
       "      <td>0.00069</td>\n",
       "      <td>0.00105</td>\n",
       "      <td>0.00324</td>\n",
       "      <td>-0.03681</td>\n",
       "      <td>0.00908</td>\n",
       "      <td>-0.30515</td>\n",
       "    </tr>\n",
       "    <tr>\n",
       "      <th>4</th>\n",
       "      <td>P395</td>\n",
       "      <td>06JAN29</td>\n",
       "      <td>2006.0780</td>\n",
       "      <td>53764.0</td>\n",
       "      <td>1360.0</td>\n",
       "      <td>0.0</td>\n",
       "      <td>-123.9</td>\n",
       "      <td>3347.68042</td>\n",
       "      <td>4.987420e+06</td>\n",
       "      <td>53.03513</td>\n",
       "      <td>0.0083</td>\n",
       "      <td>0.00068</td>\n",
       "      <td>0.00105</td>\n",
       "      <td>0.00328</td>\n",
       "      <td>-0.04815</td>\n",
       "      <td>0.00619</td>\n",
       "      <td>-0.33029</td>\n",
       "    </tr>\n",
       "  </tbody>\n",
       "</table>\n",
       "</div>"
      ],
      "text/plain": [
       "  station ID (SSSS) date (yymmmdd)  decimal year  modified Julian day  \\\n",
       "0              P395        06JAN25     2006.0671              53760.0   \n",
       "1              P395        06JAN26     2006.0698              53761.0   \n",
       "2              P395        06JAN27     2006.0726              53762.0   \n",
       "3              P395        06JAN28     2006.0753              53763.0   \n",
       "4              P395        06JAN29     2006.0780              53764.0   \n",
       "\n",
       "   GPS week  day of GPS week  longitude (degrees) of reference meridian  \\\n",
       "0    1359.0              3.0                                     -123.9   \n",
       "1    1359.0              4.0                                     -123.9   \n",
       "2    1359.0              5.0                                     -123.9   \n",
       "3    1359.0              6.0                                     -123.9   \n",
       "4    1360.0              0.0                                     -123.9   \n",
       "\n",
       "   delta e (m)   delta n (m)  delta v (m)  antenna height (m)  sigma e (m)  \\\n",
       "0   3347.67917  4.987420e+06     53.03678              0.0083      0.00069   \n",
       "1   3347.68086  4.987420e+06     53.03003              0.0083      0.00069   \n",
       "2   3347.68072  4.987420e+06     53.03906              0.0083      0.00069   \n",
       "3   3347.67938  4.987420e+06     53.04382              0.0083      0.00069   \n",
       "4   3347.68042  4.987420e+06     53.03513              0.0083      0.00068   \n",
       "\n",
       "   sigma n (m)  sigma v (m)  correlation en  correlation ev  correlation nv  \n",
       "0      0.00105      0.00327        -0.04832         0.01695        -0.31816  \n",
       "1      0.00104      0.00321        -0.04648         0.00271        -0.30970  \n",
       "2      0.00105      0.00326        -0.02367         0.00817        -0.31941  \n",
       "3      0.00105      0.00324        -0.03681         0.00908        -0.30515  \n",
       "4      0.00105      0.00328        -0.04815         0.00619        -0.33029  "
      ]
     },
     "execution_count": 258,
     "metadata": {},
     "output_type": "execute_result"
    }
   ],
   "source": [
    "# The station designation\n",
    "sta=\"P395\"\n",
    "\n",
    "print(\"http://geodesy.unr.edu/gps_timeseries/tenv/IGS14/\" + sta + \".tenv\")\n",
    "zip_file_url=\"http://geodesy.unr.edu/gps_timeseries/tenv/IGS14/\"+ sta + \".tenv\"\n",
    "r = requests.get(zip_file_url)\n",
    "\n",
    "\n",
    "# create a list of strings with itemized list above\n",
    "ll = ['station ID (SSSS)','date (yymmmdd)',\n",
    "'decimal year','modified Julian day','GPS week','day of GPS week',\n",
    "'longitude (degrees) of reference meridian','delta e (m)',\n",
    "'delta n (m)','delta v (m)','antenna height (m)',\n",
    "'sigma e (m)','sigma n (m)','sigma v (m)',\n",
    "'correlation en','correlation ev','correlation nv']\n",
    "      \n",
    "\n",
    "# transform r.content into a pandas dataframe\n",
    "# first split r.content with \\n separator\n",
    "# Decode the content if it's in bytes\n",
    "content_str = r.content.decode('utf-8')\n",
    "\n",
    "# Split the content by the newline character\n",
    "lines = content_str.split('\\n')\n",
    "\n",
    "# Now `lines` is a list of strings, each representing a line from the content\n",
    "print(lines[0])\n",
    "\n",
    "# then transform lines into a pandas dataframe\n",
    "df = pd.DataFrame([x.split() for x in lines])\n",
    "# assign column names to df a\n",
    "df.columns = ll\n",
    "\n",
    "#convert columns to numeric\n",
    "df = df.apply(pd.to_numeric, errors='ignore')\n",
    "\n",
    "df.dropna()\n",
    "df.head()"
   ]
  },
  {
   "cell_type": "code",
   "execution_count": 259,
   "metadata": {},
   "outputs": [],
   "source": [
    "# remove first value for delta e, delta n, delta v to make relative position with respect to the first time. Add these as new columns\n",
    "df['new delta e (m)'] = df['delta e (m)'] - df['delta e (m)'].values[0]\n",
    "df['new delta n (m)'] = df['delta n (m)'] - df['delta n (m)'].values[0]\n",
    "df['new delta v (m)'] = df['delta v (m)'] - df['delta v (m)'].values[0]"
   ]
  },
  {
   "cell_type": "code",
   "execution_count": 260,
   "metadata": {},
   "outputs": [
    {
     "data": {
      "text/html": [
       "<div>\n",
       "<style scoped>\n",
       "    .dataframe tbody tr th:only-of-type {\n",
       "        vertical-align: middle;\n",
       "    }\n",
       "\n",
       "    .dataframe tbody tr th {\n",
       "        vertical-align: top;\n",
       "    }\n",
       "\n",
       "    .dataframe thead th {\n",
       "        text-align: right;\n",
       "    }\n",
       "</style>\n",
       "<table border=\"1\" class=\"dataframe\">\n",
       "  <thead>\n",
       "    <tr style=\"text-align: right;\">\n",
       "      <th></th>\n",
       "      <th>station ID (SSSS)</th>\n",
       "      <th>date (yymmmdd)</th>\n",
       "      <th>decimal year</th>\n",
       "      <th>modified Julian day</th>\n",
       "      <th>GPS week</th>\n",
       "      <th>day of GPS week</th>\n",
       "      <th>longitude (degrees) of reference meridian</th>\n",
       "      <th>delta e (m)</th>\n",
       "      <th>delta n (m)</th>\n",
       "      <th>delta v (m)</th>\n",
       "      <th>antenna height (m)</th>\n",
       "      <th>sigma e (m)</th>\n",
       "      <th>sigma n (m)</th>\n",
       "      <th>sigma v (m)</th>\n",
       "      <th>correlation en</th>\n",
       "      <th>correlation ev</th>\n",
       "      <th>correlation nv</th>\n",
       "      <th>new delta e (m)</th>\n",
       "      <th>new delta n (m)</th>\n",
       "      <th>new delta v (m)</th>\n",
       "    </tr>\n",
       "  </thead>\n",
       "  <tbody>\n",
       "    <tr>\n",
       "      <th>0</th>\n",
       "      <td>P395</td>\n",
       "      <td>06JAN25</td>\n",
       "      <td>2006.0671</td>\n",
       "      <td>53760.0</td>\n",
       "      <td>1359.0</td>\n",
       "      <td>3.0</td>\n",
       "      <td>-123.9</td>\n",
       "      <td>3347.67917</td>\n",
       "      <td>4.987420e+06</td>\n",
       "      <td>53.03678</td>\n",
       "      <td>0.0083</td>\n",
       "      <td>0.00069</td>\n",
       "      <td>0.00105</td>\n",
       "      <td>0.00327</td>\n",
       "      <td>-0.04832</td>\n",
       "      <td>0.01695</td>\n",
       "      <td>-0.31816</td>\n",
       "      <td>0.00000</td>\n",
       "      <td>0.00000</td>\n",
       "      <td>0.00000</td>\n",
       "    </tr>\n",
       "    <tr>\n",
       "      <th>1</th>\n",
       "      <td>P395</td>\n",
       "      <td>06JAN26</td>\n",
       "      <td>2006.0698</td>\n",
       "      <td>53761.0</td>\n",
       "      <td>1359.0</td>\n",
       "      <td>4.0</td>\n",
       "      <td>-123.9</td>\n",
       "      <td>3347.68086</td>\n",
       "      <td>4.987420e+06</td>\n",
       "      <td>53.03003</td>\n",
       "      <td>0.0083</td>\n",
       "      <td>0.00069</td>\n",
       "      <td>0.00104</td>\n",
       "      <td>0.00321</td>\n",
       "      <td>-0.04648</td>\n",
       "      <td>0.00271</td>\n",
       "      <td>-0.30970</td>\n",
       "      <td>0.00169</td>\n",
       "      <td>-0.00067</td>\n",
       "      <td>-0.00675</td>\n",
       "    </tr>\n",
       "    <tr>\n",
       "      <th>2</th>\n",
       "      <td>P395</td>\n",
       "      <td>06JAN27</td>\n",
       "      <td>2006.0726</td>\n",
       "      <td>53762.0</td>\n",
       "      <td>1359.0</td>\n",
       "      <td>5.0</td>\n",
       "      <td>-123.9</td>\n",
       "      <td>3347.68072</td>\n",
       "      <td>4.987420e+06</td>\n",
       "      <td>53.03906</td>\n",
       "      <td>0.0083</td>\n",
       "      <td>0.00069</td>\n",
       "      <td>0.00105</td>\n",
       "      <td>0.00326</td>\n",
       "      <td>-0.02367</td>\n",
       "      <td>0.00817</td>\n",
       "      <td>-0.31941</td>\n",
       "      <td>0.00155</td>\n",
       "      <td>0.00101</td>\n",
       "      <td>0.00228</td>\n",
       "    </tr>\n",
       "    <tr>\n",
       "      <th>3</th>\n",
       "      <td>P395</td>\n",
       "      <td>06JAN28</td>\n",
       "      <td>2006.0753</td>\n",
       "      <td>53763.0</td>\n",
       "      <td>1359.0</td>\n",
       "      <td>6.0</td>\n",
       "      <td>-123.9</td>\n",
       "      <td>3347.67938</td>\n",
       "      <td>4.987420e+06</td>\n",
       "      <td>53.04382</td>\n",
       "      <td>0.0083</td>\n",
       "      <td>0.00069</td>\n",
       "      <td>0.00105</td>\n",
       "      <td>0.00324</td>\n",
       "      <td>-0.03681</td>\n",
       "      <td>0.00908</td>\n",
       "      <td>-0.30515</td>\n",
       "      <td>0.00021</td>\n",
       "      <td>-0.00150</td>\n",
       "      <td>0.00704</td>\n",
       "    </tr>\n",
       "    <tr>\n",
       "      <th>4</th>\n",
       "      <td>P395</td>\n",
       "      <td>06JAN29</td>\n",
       "      <td>2006.0780</td>\n",
       "      <td>53764.0</td>\n",
       "      <td>1360.0</td>\n",
       "      <td>0.0</td>\n",
       "      <td>-123.9</td>\n",
       "      <td>3347.68042</td>\n",
       "      <td>4.987420e+06</td>\n",
       "      <td>53.03513</td>\n",
       "      <td>0.0083</td>\n",
       "      <td>0.00068</td>\n",
       "      <td>0.00105</td>\n",
       "      <td>0.00328</td>\n",
       "      <td>-0.04815</td>\n",
       "      <td>0.00619</td>\n",
       "      <td>-0.33029</td>\n",
       "      <td>0.00125</td>\n",
       "      <td>-0.00162</td>\n",
       "      <td>-0.00165</td>\n",
       "    </tr>\n",
       "  </tbody>\n",
       "</table>\n",
       "</div>"
      ],
      "text/plain": [
       "  station ID (SSSS) date (yymmmdd)  decimal year  modified Julian day  \\\n",
       "0              P395        06JAN25     2006.0671              53760.0   \n",
       "1              P395        06JAN26     2006.0698              53761.0   \n",
       "2              P395        06JAN27     2006.0726              53762.0   \n",
       "3              P395        06JAN28     2006.0753              53763.0   \n",
       "4              P395        06JAN29     2006.0780              53764.0   \n",
       "\n",
       "   GPS week  day of GPS week  longitude (degrees) of reference meridian  \\\n",
       "0    1359.0              3.0                                     -123.9   \n",
       "1    1359.0              4.0                                     -123.9   \n",
       "2    1359.0              5.0                                     -123.9   \n",
       "3    1359.0              6.0                                     -123.9   \n",
       "4    1360.0              0.0                                     -123.9   \n",
       "\n",
       "   delta e (m)   delta n (m)  delta v (m)  antenna height (m)  sigma e (m)  \\\n",
       "0   3347.67917  4.987420e+06     53.03678              0.0083      0.00069   \n",
       "1   3347.68086  4.987420e+06     53.03003              0.0083      0.00069   \n",
       "2   3347.68072  4.987420e+06     53.03906              0.0083      0.00069   \n",
       "3   3347.67938  4.987420e+06     53.04382              0.0083      0.00069   \n",
       "4   3347.68042  4.987420e+06     53.03513              0.0083      0.00068   \n",
       "\n",
       "   sigma n (m)  sigma v (m)  correlation en  correlation ev  correlation nv  \\\n",
       "0      0.00105      0.00327        -0.04832         0.01695        -0.31816   \n",
       "1      0.00104      0.00321        -0.04648         0.00271        -0.30970   \n",
       "2      0.00105      0.00326        -0.02367         0.00817        -0.31941   \n",
       "3      0.00105      0.00324        -0.03681         0.00908        -0.30515   \n",
       "4      0.00105      0.00328        -0.04815         0.00619        -0.33029   \n",
       "\n",
       "   new delta e (m)  new delta n (m)  new delta v (m)  \n",
       "0          0.00000          0.00000          0.00000  \n",
       "1          0.00169         -0.00067         -0.00675  \n",
       "2          0.00155          0.00101          0.00228  \n",
       "3          0.00021         -0.00150          0.00704  \n",
       "4          0.00125         -0.00162         -0.00165  "
      ]
     },
     "execution_count": 260,
     "metadata": {},
     "output_type": "execute_result"
    }
   ],
   "source": [
    "df.head()"
   ]
  },
  {
   "cell_type": "code",
   "execution_count": 261,
   "metadata": {},
   "outputs": [
    {
     "data": {
      "text/plain": [
       "[<matplotlib.lines.Line2D at 0x319394a90>]"
      ]
     },
     "execution_count": 261,
     "metadata": {},
     "output_type": "execute_result"
    },
    {
     "data": {
      "image/png": "[encoded data removed]",
      "text/plain": [
       "<Figure size 640x480 with 1 Axes>"
      ]
     },
     "metadata": {},
     "output_type": "display_data"
    }
   ],
   "source": [
    "plt.plot(df['decimal year'], df['new delta e (m)'], label='East displacement')"
   ]
  },
  {
   "attachments": {},
   "cell_type": "markdown",
   "metadata": {},
   "source": [
    "## 2.2 Linear regression\n",
    "\n",
    "There is a clean **linear trend** in the horizontal position data over the course of the past 16 years. We can fit the data using:\n",
    "\n",
    "$E(t) = V_e t + u_e,$\\\n",
    "$N(t) = V_n t + u_n,$\n",
    "\n",
    "where $t$ is time. We want to regress the data to find the coefficients $V_e$, $u_e$, $V_n$, $u_n$. The displacements are mostly westward, so we will just focus on the East $E(t)$ component for this exercise. The coefficients $u_e$ and $u_n$ are the intercept at $t=0$. They are not zero in this case because $t$ starts in 2006. The coefficients $V_e$ and $V_n$ have the dimension of velocities:\n",
    "\n",
    "$V_e \\sim E(t) / t$ , $V_n \\sim N(t) / t$ ,\n",
    "\n",
    "therefore, we will use this example to discuss a simple **linear regression** and resampling method. We will use both a Scipy function and a Scikit-learn function.\n",
    "\n",
    "To measure a fit performance, we will measure how well the variance is reduced by fitting the data (scatter points) against the model. The variance is:\n",
    "\n",
    "$\\text{Var}(x) = 1/n \\sum_{i=1}^n (x_i-\\hat{x})^2$, \n",
    "\n",
    "where $\\hat{x}$ is the mean of $x$.  When fitting the regression, we predict the values $x_{pred}$. The residuals are the differences between the data and the predicted values: $e = x - x_{pred} $. $R^2$ or <i> coefficient of determination</i> is:\n",
    "\n",
    "$R^2 = 1 - \\text{Var}(x-x_{pred}) /\\text{Var}(x)  = 1 - \\text{Var}(e) /\\text{Var}(x) $\n",
    "\n",
    "The smaller the error, the \"better\" the fit (we will discuss later that a fit can be too good!), the closer $R^2$ is to one."
   ]
  },
  {
   "cell_type": "code",
   "execution_count": 262,
   "metadata": {},
   "outputs": [],
   "source": [
    "# remove nans with dropna for the specific delta e column and replace df with the new dataframe\n",
    "df = df.dropna(subset=['delta e (m)'])"
   ]
  },
  {
   "cell_type": "code",
   "execution_count": 263,
   "metadata": {},
   "outputs": [
    {
     "data": {
      "text/html": [
       "<div>\n",
       "<style scoped>\n",
       "    .dataframe tbody tr th:only-of-type {\n",
       "        vertical-align: middle;\n",
       "    }\n",
       "\n",
       "    .dataframe tbody tr th {\n",
       "        vertical-align: top;\n",
       "    }\n",
       "\n",
       "    .dataframe thead th {\n",
       "        text-align: right;\n",
       "    }\n",
       "</style>\n",
       "<table border=\"1\" class=\"dataframe\">\n",
       "  <thead>\n",
       "    <tr style=\"text-align: right;\">\n",
       "      <th></th>\n",
       "      <th>station ID (SSSS)</th>\n",
       "      <th>date (yymmmdd)</th>\n",
       "      <th>decimal year</th>\n",
       "      <th>modified Julian day</th>\n",
       "      <th>GPS week</th>\n",
       "      <th>day of GPS week</th>\n",
       "      <th>longitude (degrees) of reference meridian</th>\n",
       "      <th>delta e (m)</th>\n",
       "      <th>delta n (m)</th>\n",
       "      <th>delta v (m)</th>\n",
       "      <th>antenna height (m)</th>\n",
       "      <th>sigma e (m)</th>\n",
       "      <th>sigma n (m)</th>\n",
       "      <th>sigma v (m)</th>\n",
       "      <th>correlation en</th>\n",
       "      <th>correlation ev</th>\n",
       "      <th>correlation nv</th>\n",
       "      <th>new delta e (m)</th>\n",
       "      <th>new delta n (m)</th>\n",
       "      <th>new delta v (m)</th>\n",
       "    </tr>\n",
       "  </thead>\n",
       "  <tbody>\n",
       "    <tr>\n",
       "      <th>0</th>\n",
       "      <td>P395</td>\n",
       "      <td>06JAN25</td>\n",
       "      <td>2006.0671</td>\n",
       "      <td>53760.0</td>\n",
       "      <td>1359.0</td>\n",
       "      <td>3.0</td>\n",
       "      <td>-123.9</td>\n",
       "      <td>3347.67917</td>\n",
       "      <td>4.987420e+06</td>\n",
       "      <td>53.03678</td>\n",
       "      <td>0.0083</td>\n",
       "      <td>0.00069</td>\n",
       "      <td>0.00105</td>\n",
       "      <td>0.00327</td>\n",
       "      <td>-0.04832</td>\n",
       "      <td>0.01695</td>\n",
       "      <td>-0.31816</td>\n",
       "      <td>0.00000</td>\n",
       "      <td>0.00000</td>\n",
       "      <td>0.00000</td>\n",
       "    </tr>\n",
       "    <tr>\n",
       "      <th>1</th>\n",
       "      <td>P395</td>\n",
       "      <td>06JAN26</td>\n",
       "      <td>2006.0698</td>\n",
       "      <td>53761.0</td>\n",
       "      <td>1359.0</td>\n",
       "      <td>4.0</td>\n",
       "      <td>-123.9</td>\n",
       "      <td>3347.68086</td>\n",
       "      <td>4.987420e+06</td>\n",
       "      <td>53.03003</td>\n",
       "      <td>0.0083</td>\n",
       "      <td>0.00069</td>\n",
       "      <td>0.00104</td>\n",
       "      <td>0.00321</td>\n",
       "      <td>-0.04648</td>\n",
       "      <td>0.00271</td>\n",
       "      <td>-0.30970</td>\n",
       "      <td>0.00169</td>\n",
       "      <td>-0.00067</td>\n",
       "      <td>-0.00675</td>\n",
       "    </tr>\n",
       "    <tr>\n",
       "      <th>2</th>\n",
       "      <td>P395</td>\n",
       "      <td>06JAN27</td>\n",
       "      <td>2006.0726</td>\n",
       "      <td>53762.0</td>\n",
       "      <td>1359.0</td>\n",
       "      <td>5.0</td>\n",
       "      <td>-123.9</td>\n",
       "      <td>3347.68072</td>\n",
       "      <td>4.987420e+06</td>\n",
       "      <td>53.03906</td>\n",
       "      <td>0.0083</td>\n",
       "      <td>0.00069</td>\n",
       "      <td>0.00105</td>\n",
       "      <td>0.00326</td>\n",
       "      <td>-0.02367</td>\n",
       "      <td>0.00817</td>\n",
       "      <td>-0.31941</td>\n",
       "      <td>0.00155</td>\n",
       "      <td>0.00101</td>\n",
       "      <td>0.00228</td>\n",
       "    </tr>\n",
       "    <tr>\n",
       "      <th>3</th>\n",
       "      <td>P395</td>\n",
       "      <td>06JAN28</td>\n",
       "      <td>2006.0753</td>\n",
       "      <td>53763.0</td>\n",
       "      <td>1359.0</td>\n",
       "      <td>6.0</td>\n",
       "      <td>-123.9</td>\n",
       "      <td>3347.67938</td>\n",
       "      <td>4.987420e+06</td>\n",
       "      <td>53.04382</td>\n",
       "      <td>0.0083</td>\n",
       "      <td>0.00069</td>\n",
       "      <td>0.00105</td>\n",
       "      <td>0.00324</td>\n",
       "      <td>-0.03681</td>\n",
       "      <td>0.00908</td>\n",
       "      <td>-0.30515</td>\n",
       "      <td>0.00021</td>\n",
       "      <td>-0.00150</td>\n",
       "      <td>0.00704</td>\n",
       "    </tr>\n",
       "    <tr>\n",
       "      <th>4</th>\n",
       "      <td>P395</td>\n",
       "      <td>06JAN29</td>\n",
       "      <td>2006.0780</td>\n",
       "      <td>53764.0</td>\n",
       "      <td>1360.0</td>\n",
       "      <td>0.0</td>\n",
       "      <td>-123.9</td>\n",
       "      <td>3347.68042</td>\n",
       "      <td>4.987420e+06</td>\n",
       "      <td>53.03513</td>\n",
       "      <td>0.0083</td>\n",
       "      <td>0.00068</td>\n",
       "      <td>0.00105</td>\n",
       "      <td>0.00328</td>\n",
       "      <td>-0.04815</td>\n",
       "      <td>0.00619</td>\n",
       "      <td>-0.33029</td>\n",
       "      <td>0.00125</td>\n",
       "      <td>-0.00162</td>\n",
       "      <td>-0.00165</td>\n",
       "    </tr>\n",
       "  </tbody>\n",
       "</table>\n",
       "</div>"
      ],
      "text/plain": [
       "  station ID (SSSS) date (yymmmdd)  decimal year  modified Julian day  \\\n",
       "0              P395        06JAN25     2006.0671              53760.0   \n",
       "1              P395        06JAN26     2006.0698              53761.0   \n",
       "2              P395        06JAN27     2006.0726              53762.0   \n",
       "3              P395        06JAN28     2006.0753              53763.0   \n",
       "4              P395        06JAN29     2006.0780              53764.0   \n",
       "\n",
       "   GPS week  day of GPS week  longitude (degrees) of reference meridian  \\\n",
       "0    1359.0              3.0                                     -123.9   \n",
       "1    1359.0              4.0                                     -123.9   \n",
       "2    1359.0              5.0                                     -123.9   \n",
       "3    1359.0              6.0                                     -123.9   \n",
       "4    1360.0              0.0                                     -123.9   \n",
       "\n",
       "   delta e (m)   delta n (m)  delta v (m)  antenna height (m)  sigma e (m)  \\\n",
       "0   3347.67917  4.987420e+06     53.03678              0.0083      0.00069   \n",
       "1   3347.68086  4.987420e+06     53.03003              0.0083      0.00069   \n",
       "2   3347.68072  4.987420e+06     53.03906              0.0083      0.00069   \n",
       "3   3347.67938  4.987420e+06     53.04382              0.0083      0.00069   \n",
       "4   3347.68042  4.987420e+06     53.03513              0.0083      0.00068   \n",
       "\n",
       "   sigma n (m)  sigma v (m)  correlation en  correlation ev  correlation nv  \\\n",
       "0      0.00105      0.00327        -0.04832         0.01695        -0.31816   \n",
       "1      0.00104      0.00321        -0.04648         0.00271        -0.30970   \n",
       "2      0.00105      0.00326        -0.02367         0.00817        -0.31941   \n",
       "3      0.00105      0.00324        -0.03681         0.00908        -0.30515   \n",
       "4      0.00105      0.00328        -0.04815         0.00619        -0.33029   \n",
       "\n",
       "   new delta e (m)  new delta n (m)  new delta v (m)  \n",
       "0          0.00000          0.00000          0.00000  \n",
       "1          0.00169         -0.00067         -0.00675  \n",
       "2          0.00155          0.00101          0.00228  \n",
       "3          0.00021         -0.00150          0.00704  \n",
       "4          0.00125         -0.00162         -0.00165  "
      ]
     },
     "execution_count": 263,
     "metadata": {},
     "output_type": "execute_result"
    }
   ],
   "source": [
    "df.head()"
   ]
  },
  {
   "cell_type": "code",
   "execution_count": 264,
   "metadata": {},
   "outputs": [
    {
     "data": {
      "text/plain": [
       "[<matplotlib.lines.Line2D at 0x3195279a0>]"
      ]
     },
     "execution_count": 264,
     "metadata": {},
     "output_type": "execute_result"
    },
    {
     "data": {
      "image/png": "[encoded data removed]",
      "text/plain": [
       "<Figure size 640x480 with 1 Axes>"
      ]
     },
     "metadata": {},
     "output_type": "display_data"
    }
   ],
   "source": [
    "plt.plot(df['decimal year'], df['new delta e (m)'], label='East displacement')"
   ]
  },
  {
   "cell_type": "code",
   "execution_count": 265,
   "metadata": {},
   "outputs": [
    {
     "data": {
      "text/html": [
       "<div>\n",
       "<style scoped>\n",
       "    .dataframe tbody tr th:only-of-type {\n",
       "        vertical-align: middle;\n",
       "    }\n",
       "\n",
       "    .dataframe tbody tr th {\n",
       "        vertical-align: top;\n",
       "    }\n",
       "\n",
       "    .dataframe thead th {\n",
       "        text-align: right;\n",
       "    }\n",
       "</style>\n",
       "<table border=\"1\" class=\"dataframe\">\n",
       "  <thead>\n",
       "    <tr style=\"text-align: right;\">\n",
       "      <th></th>\n",
       "      <th>station ID (SSSS)</th>\n",
       "      <th>date (yymmmdd)</th>\n",
       "      <th>decimal year</th>\n",
       "      <th>modified Julian day</th>\n",
       "      <th>GPS week</th>\n",
       "      <th>day of GPS week</th>\n",
       "      <th>longitude (degrees) of reference meridian</th>\n",
       "      <th>delta e (m)</th>\n",
       "      <th>delta n (m)</th>\n",
       "      <th>delta v (m)</th>\n",
       "      <th>antenna height (m)</th>\n",
       "      <th>sigma e (m)</th>\n",
       "      <th>sigma n (m)</th>\n",
       "      <th>sigma v (m)</th>\n",
       "      <th>correlation en</th>\n",
       "      <th>correlation ev</th>\n",
       "      <th>correlation nv</th>\n",
       "      <th>new delta e (m)</th>\n",
       "      <th>new delta n (m)</th>\n",
       "      <th>new delta v (m)</th>\n",
       "    </tr>\n",
       "  </thead>\n",
       "  <tbody>\n",
       "    <tr>\n",
       "      <th>0</th>\n",
       "      <td>P395</td>\n",
       "      <td>06JAN25</td>\n",
       "      <td>2006.0671</td>\n",
       "      <td>53760.0</td>\n",
       "      <td>1359.0</td>\n",
       "      <td>3.0</td>\n",
       "      <td>-123.9</td>\n",
       "      <td>3347.67917</td>\n",
       "      <td>4.987420e+06</td>\n",
       "      <td>53.03678</td>\n",
       "      <td>0.0083</td>\n",
       "      <td>0.00069</td>\n",
       "      <td>0.00105</td>\n",
       "      <td>0.00327</td>\n",
       "      <td>-0.04832</td>\n",
       "      <td>0.01695</td>\n",
       "      <td>-0.31816</td>\n",
       "      <td>0.00000</td>\n",
       "      <td>0.00000</td>\n",
       "      <td>0.00000</td>\n",
       "    </tr>\n",
       "    <tr>\n",
       "      <th>1</th>\n",
       "      <td>P395</td>\n",
       "      <td>06JAN26</td>\n",
       "      <td>2006.0698</td>\n",
       "      <td>53761.0</td>\n",
       "      <td>1359.0</td>\n",
       "      <td>4.0</td>\n",
       "      <td>-123.9</td>\n",
       "      <td>3347.68086</td>\n",
       "      <td>4.987420e+06</td>\n",
       "      <td>53.03003</td>\n",
       "      <td>0.0083</td>\n",
       "      <td>0.00069</td>\n",
       "      <td>0.00104</td>\n",
       "      <td>0.00321</td>\n",
       "      <td>-0.04648</td>\n",
       "      <td>0.00271</td>\n",
       "      <td>-0.30970</td>\n",
       "      <td>0.00169</td>\n",
       "      <td>-0.00067</td>\n",
       "      <td>-0.00675</td>\n",
       "    </tr>\n",
       "    <tr>\n",
       "      <th>2</th>\n",
       "      <td>P395</td>\n",
       "      <td>06JAN27</td>\n",
       "      <td>2006.0726</td>\n",
       "      <td>53762.0</td>\n",
       "      <td>1359.0</td>\n",
       "      <td>5.0</td>\n",
       "      <td>-123.9</td>\n",
       "      <td>3347.68072</td>\n",
       "      <td>4.987420e+06</td>\n",
       "      <td>53.03906</td>\n",
       "      <td>0.0083</td>\n",
       "      <td>0.00069</td>\n",
       "      <td>0.00105</td>\n",
       "      <td>0.00326</td>\n",
       "      <td>-0.02367</td>\n",
       "      <td>0.00817</td>\n",
       "      <td>-0.31941</td>\n",
       "      <td>0.00155</td>\n",
       "      <td>0.00101</td>\n",
       "      <td>0.00228</td>\n",
       "    </tr>\n",
       "    <tr>\n",
       "      <th>3</th>\n",
       "      <td>P395</td>\n",
       "      <td>06JAN28</td>\n",
       "      <td>2006.0753</td>\n",
       "      <td>53763.0</td>\n",
       "      <td>1359.0</td>\n",
       "      <td>6.0</td>\n",
       "      <td>-123.9</td>\n",
       "      <td>3347.67938</td>\n",
       "      <td>4.987420e+06</td>\n",
       "      <td>53.04382</td>\n",
       "      <td>0.0083</td>\n",
       "      <td>0.00069</td>\n",
       "      <td>0.00105</td>\n",
       "      <td>0.00324</td>\n",
       "      <td>-0.03681</td>\n",
       "      <td>0.00908</td>\n",
       "      <td>-0.30515</td>\n",
       "      <td>0.00021</td>\n",
       "      <td>-0.00150</td>\n",
       "      <td>0.00704</td>\n",
       "    </tr>\n",
       "    <tr>\n",
       "      <th>4</th>\n",
       "      <td>P395</td>\n",
       "      <td>06JAN29</td>\n",
       "      <td>2006.0780</td>\n",
       "      <td>53764.0</td>\n",
       "      <td>1360.0</td>\n",
       "      <td>0.0</td>\n",
       "      <td>-123.9</td>\n",
       "      <td>3347.68042</td>\n",
       "      <td>4.987420e+06</td>\n",
       "      <td>53.03513</td>\n",
       "      <td>0.0083</td>\n",
       "      <td>0.00068</td>\n",
       "      <td>0.00105</td>\n",
       "      <td>0.00328</td>\n",
       "      <td>-0.04815</td>\n",
       "      <td>0.00619</td>\n",
       "      <td>-0.33029</td>\n",
       "      <td>0.00125</td>\n",
       "      <td>-0.00162</td>\n",
       "      <td>-0.00165</td>\n",
       "    </tr>\n",
       "  </tbody>\n",
       "</table>\n",
       "</div>"
      ],
      "text/plain": [
       "  station ID (SSSS) date (yymmmdd)  decimal year  modified Julian day  \\\n",
       "0              P395        06JAN25     2006.0671              53760.0   \n",
       "1              P395        06JAN26     2006.0698              53761.0   \n",
       "2              P395        06JAN27     2006.0726              53762.0   \n",
       "3              P395        06JAN28     2006.0753              53763.0   \n",
       "4              P395        06JAN29     2006.0780              53764.0   \n",
       "\n",
       "   GPS week  day of GPS week  longitude (degrees) of reference meridian  \\\n",
       "0    1359.0              3.0                                     -123.9   \n",
       "1    1359.0              4.0                                     -123.9   \n",
       "2    1359.0              5.0                                     -123.9   \n",
       "3    1359.0              6.0                                     -123.9   \n",
       "4    1360.0              0.0                                     -123.9   \n",
       "\n",
       "   delta e (m)   delta n (m)  delta v (m)  antenna height (m)  sigma e (m)  \\\n",
       "0   3347.67917  4.987420e+06     53.03678              0.0083      0.00069   \n",
       "1   3347.68086  4.987420e+06     53.03003              0.0083      0.00069   \n",
       "2   3347.68072  4.987420e+06     53.03906              0.0083      0.00069   \n",
       "3   3347.67938  4.987420e+06     53.04382              0.0083      0.00069   \n",
       "4   3347.68042  4.987420e+06     53.03513              0.0083      0.00068   \n",
       "\n",
       "   sigma n (m)  sigma v (m)  correlation en  correlation ev  correlation nv  \\\n",
       "0      0.00105      0.00327        -0.04832         0.01695        -0.31816   \n",
       "1      0.00104      0.00321        -0.04648         0.00271        -0.30970   \n",
       "2      0.00105      0.00326        -0.02367         0.00817        -0.31941   \n",
       "3      0.00105      0.00324        -0.03681         0.00908        -0.30515   \n",
       "4      0.00105      0.00328        -0.04815         0.00619        -0.33029   \n",
       "\n",
       "   new delta e (m)  new delta n (m)  new delta v (m)  \n",
       "0          0.00000          0.00000          0.00000  \n",
       "1          0.00169         -0.00067         -0.00675  \n",
       "2          0.00155          0.00101          0.00228  \n",
       "3          0.00021         -0.00150          0.00704  \n",
       "4          0.00125         -0.00162         -0.00165  "
      ]
     },
     "execution_count": 265,
     "metadata": {},
     "output_type": "execute_result"
    }
   ],
   "source": [
    "df.head()"
   ]
  },
  {
   "cell_type": "code",
   "execution_count": 266,
   "metadata": {},
   "outputs": [
    {
     "name": "stdout",
     "output_type": "stream",
     "text": [
      "P395 overall plate motion there -0.0064397312911273945 m/year\n",
      "parameters: Coefficient of determination -0.9970084.2, P-value 0.0000004.2, standard deviation of errors 0.0000064.2\n"
     ]
    }
   ],
   "source": [
    "# now let's find the trends and detrend the data.\n",
    "from scipy import stats\n",
    "# linear regression such that: displacement = Velocity * time\n",
    "# velocity in the East component.\n",
    "\n",
    "Ve, intercept, r_value, p_value, std_err = stats.linregress(df['decimal year'],df['new delta e (m)'])\n",
    "# horizontal plate motion:\n",
    "print(sta,\"overall plate motion there\",Ve,'m/year')\n",
    "print(\"parameters: Coefficient of determination %f4.2, P-value %f4.2, standard deviation of errors %f4.2\"\\\n",
    "      %(r_value,p_value,std_err))\n"
   ]
  },
  {
   "cell_type": "code",
   "execution_count": 267,
   "metadata": {},
   "outputs": [
    {
     "data": {
      "text/plain": [
       "False"
      ]
     },
     "execution_count": 267,
     "metadata": {},
     "output_type": "execute_result"
    }
   ],
   "source": [
    "np.isnan(df['new delta e (m)']).any()"
   ]
  },
  {
   "cell_type": "markdown",
   "metadata": {},
   "source": [
    "We can also use the ``scikit-learn`` package:"
   ]
  },
  {
   "cell_type": "code",
   "execution_count": 268,
   "metadata": {},
   "outputs": [
    {
     "name": "stdout",
     "output_type": "stream",
     "text": [
      "Coefficient / Velocity eastward (mm/year):  -0.006439731291127403\n"
     ]
    },
    {
     "data": {
      "text/plain": [
       "[<matplotlib.lines.Line2D at 0x318690940>]"
      ]
     },
     "execution_count": 268,
     "metadata": {},
     "output_type": "execute_result"
    },
    {
     "data": {
      "image/png": "[encoded data removed]",
      "text/plain": [
       "<Figure size 640x480 with 1 Axes>"
      ]
     },
     "metadata": {},
     "output_type": "display_data"
    }
   ],
   "source": [
    "from sklearn.linear_model import LinearRegression\n",
    "# convert the data into numpy arrays.\n",
    "E = np.asarray(df['new delta e (m)']).reshape(-1, 1)# reshaping was necessary to be an argument of Linear regress\n",
    "# E = np.asarray(df['east'][df['station']==sta]).reshape(-1, 1)# reshaping was necessary to be an argument of Linear regress\n",
    "# make a new time array\n",
    "t = np.asarray(df['decimal year']).reshape(-1, 1)\n",
    "tt = np.linspace(np.min(t),np.max(t),1000)\n",
    "\n",
    "# perform the linear regression. First we will use the entire available data\n",
    "regr = LinearRegression()\n",
    "# we will first perform the fit:\n",
    "regr.fit(t,E)\n",
    "# We will first predict the fit:\n",
    "Epred=regr.predict(t) \n",
    "\n",
    "# The coefficients\n",
    "print('Coefficient / Velocity eastward (mm/year): ', regr.coef_[0][0])\n",
    "# plot the data\n",
    "plt.plot(t,E,'b',label='data')"
   ]
  },
  {
   "cell_type": "markdown",
   "metadata": {},
   "source": [
    "To evaluate the errors of the model fit using the module ``sklearn``, we will use the following function"
   ]
  },
  {
   "cell_type": "code",
   "execution_count": 269,
   "metadata": {},
   "outputs": [
    {
     "name": "stdout",
     "output_type": "stream",
     "text": [
      "Mean squared error (mm): 0.00\n",
      "Coefficient of determination: 0.99\n"
     ]
    }
   ],
   "source": [
    "from sklearn.metrics import mean_squared_error, r2_score\n",
    "# The mean squared error\n",
    "print('Mean squared error (mm): %.2f'\n",
    "      % mean_squared_error(E, Epred))\n",
    "# The coefficient of determination: 1 is the perfect prediction\n",
    "print('Coefficient of determination: %.2f'\n",
    "      % r2_score(E, Epred))"
   ]
  },
  {
   "attachments": {},
   "cell_type": "markdown",
   "metadata": {},
   "source": [
    "### 2.3 Bootstrapping\n",
    "\n",
    "\n",
    "Now we will use again bootstrapping to estimate the slope of the regression over many resampled data.\n",
    "\n",
    "\n",
    "Scikit-learn seems to have deprecated the bootstrap function, but we can find ``resample`` in the ``utils`` module. Make sure you use ``replace=True``.\n",
    "For reproducible results, you can select a fixed ``random_state=int`` to be kept in the workflow. Usually bootstrapping is done over many times (unlike K-fold cross validation)."
   ]
  },
  {
   "cell_type": "code",
   "execution_count": 270,
   "metadata": {},
   "outputs": [
    {
     "name": "stdout",
     "output_type": "stream",
     "text": [
      "mean of the velocity estimates -0.0064404.2 and the standard deviation 0.0000064.2\n"
     ]
    },
    {
     "data": {
      "image/png": "[encoded data removed]",
      "text/plain": [
       "<Figure size 640x480 with 1 Axes>"
      ]
     },
     "metadata": {},
     "output_type": "display_data"
    }
   ],
   "source": [
    "from sklearn.utils import resample\n",
    "k=1000\n",
    "vel = np.zeros(k) # initalize a vector to store the regression values\n",
    "mse = np.zeros(k)\n",
    "r2s = np.zeros(k)\n",
    "i=0\n",
    "for iik in range(k):    \n",
    "    ii = resample(np.arange(len(E)),replace=True,n_samples=len(E))# new indices\n",
    "    E_b, t_b = E[ii], t[ii]\n",
    "    # now fit the data on the training set.\n",
    "    regr = LinearRegression()\n",
    "    # Fit on training data:\n",
    "    regr.fit(t_b,E_b)\n",
    "    Epred_val=regr.predict(t) # test on the validation set.\n",
    "\n",
    "    # The coefficients\n",
    "    vel[i]= regr.coef_[0][0]\n",
    "    i+=1\n",
    "\n",
    "# the data shows clearly a trend, so the predictions of the trends are close to each other:\n",
    "print(\"mean of the velocity estimates %f4.2 and the standard deviation %f4.2\"%(np.mean(vel),np.std(vel)))\n",
    "\n",
    "plt.hist(vel,10);plt.title('Distribution of eastward velocities (mm/year)');plt.grid(True)\n",
    "# only show a few values in the x-axis\n",
    "\n",
    "plt.show()"
   ]
  }
 ],
 "metadata": {
  "kernelspec": {
   "display_name": "mlgeo",
   "language": "python",
   "name": "python3"
  },
  "language_info": {
   "codemirror_mode": {
    "name": "ipython",
    "version": 3
   },
   "file_extension": ".py",
   "mimetype": "text/x-python",
   "name": "python",
   "nbconvert_exporter": "python",
   "pygments_lexer": "ipython3",
   "version": "3.9.18"
  },
  "orig_nbformat": 4
 },
 "nbformat": 4,
 "nbformat_minor": 2
}
