{
 "cells": [
  {
   "attachments": {},
   "cell_type": "markdown",
   "metadata": {},
   "source": [
    "## 2.9 Feature engineering\n",
    "\n",
    "\n",
    "The process of feature engineering is of manipulating, transforming, and selecting raw data into features that can be used in statistical analysis of prediction.\n",
    "\n",
    "* statistical features\n",
    "* temporal features\n",
    "* spectral features (Fourier and Wavelet transforms)\n",
    "\n",
    "This lecture will demonstrate how to automatically extract features from a popular (but simple) Python package ``tsfel`` to extract common features of time series. We will take the example of seismic waveforms recorded in the Pacific Northwest. The Pacific Northwest data detect and labels seismic waveforms for event of various origins: earthquake, explosions (mostly quarry blasts), and surface events (usually avalanches and landslides), but also seismic noise (ambient Earth vibrations in between).\n",
    "\n",
    "We will explore how these features vary among the four categories, or classes of seismic events.\n",
    "\n",
    "[Level 1]"
   ]
  },
  {
   "cell_type": "code",
   "execution_count": 1,
   "metadata": {},
   "outputs": [],
   "source": [
    "# Import modules for seismic data and feature extraction\n",
    "\n",
    "import numpy as np\n",
    "import matplotlib.pyplot as plt\n",
    "import pandas as pd\n",
    "import scipy\n",
    "import scipy.stats as st\n",
    "import os\n",
    "import h5py # for reading .h5 files"
   ]
  },
  {
   "cell_type": "code",
   "execution_count": 2,
   "metadata": {},
   "outputs": [
    {
     "name": "stdout",
     "output_type": "stream",
     "text": [
      "Collecting wget\n",
      "  Using cached wget-3.2-py3-none-any.whl\n",
      "Installing collected packages: wget\n",
      "Successfully installed wget-3.2\n"
     ]
    }
   ],
   "source": [
    "#make sure to install wget\n",
    "!pip install wget\n",
    "import wget"
   ]
  },
  {
   "cell_type": "markdown",
   "metadata": {},
   "source": [
    "We download 2 files from the class storage: a CSV file with the waveforms themselves as an HDF5 file and their associated metadata as a CSV file:"
   ]
  },
  {
   "cell_type": "code",
   "execution_count": 3,
   "metadata": {},
   "outputs": [
    {
     "data": {
      "text/plain": [
       "'miniPNW_waveforms (1).hdf5'"
      ]
     },
     "execution_count": 3,
     "metadata": {},
     "output_type": "execute_result"
    }
   ],
   "source": [
    "wget.download(\"https://www.dropbox.com/s/f0e1ywupdbuv3l3/miniPNW_metadata.csv?dl=1\")\n",
    "wget.download(\"https://www.dropbox.com/s/0ffh4r23mitn2dz/miniPNW_waveforms.hdf5?dl=1\")"
   ]
  },
  {
   "cell_type": "markdown",
   "metadata": {},
   "source": [
    "## Metadata\n",
    "\n",
    "We first read the metadata and arange them into a Pandas Data frame"
   ]
  },
  {
   "cell_type": "code",
   "execution_count": 4,
   "metadata": {},
   "outputs": [
    {
     "data": {
      "text/html": [
       "<div>\n",
       "<style scoped>\n",
       "    .dataframe tbody tr th:only-of-type {\n",
       "        vertical-align: middle;\n",
       "    }\n",
       "\n",
       "    .dataframe tbody tr th {\n",
       "        vertical-align: top;\n",
       "    }\n",
       "\n",
       "    .dataframe thead th {\n",
       "        text-align: right;\n",
       "    }\n",
       "</style>\n",
       "<table border=\"1\" class=\"dataframe\">\n",
       "  <thead>\n",
       "    <tr style=\"text-align: right;\">\n",
       "      <th></th>\n",
       "      <th>Unnamed: 0</th>\n",
       "      <th>event_id</th>\n",
       "      <th>source_origin_time</th>\n",
       "      <th>source_latitude_deg</th>\n",
       "      <th>source_longitude_deg</th>\n",
       "      <th>source_type</th>\n",
       "      <th>source_depth_km</th>\n",
       "      <th>preferred_source_magnitude</th>\n",
       "      <th>preferred_source_magnitude_type</th>\n",
       "      <th>preferred_source_magnitude_uncertainty</th>\n",
       "      <th>...</th>\n",
       "      <th>trace_S_onset</th>\n",
       "      <th>trace_P_onset</th>\n",
       "      <th>trace_snr_db</th>\n",
       "      <th>year</th>\n",
       "      <th>source_type_pnsn_label</th>\n",
       "      <th>source_local_magnitude</th>\n",
       "      <th>source_local_magnitude_uncertainty</th>\n",
       "      <th>source_duration_magnitude</th>\n",
       "      <th>source_duration_magnitude_uncertainty</th>\n",
       "      <th>source_hand_magnitude</th>\n",
       "    </tr>\n",
       "  </thead>\n",
       "  <tbody>\n",
       "    <tr>\n",
       "      <th>0</th>\n",
       "      <td>0</td>\n",
       "      <td>uw61669232</td>\n",
       "      <td>2020-09-07T03:44:14.690000Z</td>\n",
       "      <td>46.560</td>\n",
       "      <td>-119.797</td>\n",
       "      <td>earthquake</td>\n",
       "      <td>23.300</td>\n",
       "      <td>1.30</td>\n",
       "      <td>ml</td>\n",
       "      <td>0.241000</td>\n",
       "      <td>...</td>\n",
       "      <td>impulsive</td>\n",
       "      <td>impulsive</td>\n",
       "      <td>-1.444|2.612|9.921</td>\n",
       "      <td>2020.0</td>\n",
       "      <td>eq</td>\n",
       "      <td>1.30</td>\n",
       "      <td>0.241273</td>\n",
       "      <td>1.17</td>\n",
       "      <td>0.187840</td>\n",
       "      <td>NaN</td>\n",
       "    </tr>\n",
       "    <tr>\n",
       "      <th>1</th>\n",
       "      <td>1</td>\n",
       "      <td>uw60888282</td>\n",
       "      <td>2014-10-08T15:39:31.330000Z</td>\n",
       "      <td>45.371</td>\n",
       "      <td>-121.708</td>\n",
       "      <td>earthquake</td>\n",
       "      <td>-0.947</td>\n",
       "      <td>1.67</td>\n",
       "      <td>ml</td>\n",
       "      <td>0.128000</td>\n",
       "      <td>...</td>\n",
       "      <td>impulsive</td>\n",
       "      <td>impulsive</td>\n",
       "      <td>0.368|3.526|5.981</td>\n",
       "      <td>2014.0</td>\n",
       "      <td>eq</td>\n",
       "      <td>1.67</td>\n",
       "      <td>0.128000</td>\n",
       "      <td>1.63</td>\n",
       "      <td>0.099000</td>\n",
       "      <td>NaN</td>\n",
       "    </tr>\n",
       "    <tr>\n",
       "      <th>2</th>\n",
       "      <td>2</td>\n",
       "      <td>uw61361706</td>\n",
       "      <td>2017-12-30T04:37:46.870000Z</td>\n",
       "      <td>46.165</td>\n",
       "      <td>-120.543</td>\n",
       "      <td>earthquake</td>\n",
       "      <td>13.520</td>\n",
       "      <td>2.46</td>\n",
       "      <td>ml</td>\n",
       "      <td>0.158000</td>\n",
       "      <td>...</td>\n",
       "      <td>impulsive</td>\n",
       "      <td>emergent</td>\n",
       "      <td>11.274|13.32|15.828</td>\n",
       "      <td>2017.0</td>\n",
       "      <td>eq</td>\n",
       "      <td>2.46</td>\n",
       "      <td>0.158000</td>\n",
       "      <td>3.37</td>\n",
       "      <td>0.389000</td>\n",
       "      <td>NaN</td>\n",
       "    </tr>\n",
       "    <tr>\n",
       "      <th>3</th>\n",
       "      <td>3</td>\n",
       "      <td>uw61639436</td>\n",
       "      <td>2020-06-09T23:37:10.420000Z</td>\n",
       "      <td>46.542</td>\n",
       "      <td>-119.589</td>\n",
       "      <td>earthquake</td>\n",
       "      <td>16.370</td>\n",
       "      <td>1.59</td>\n",
       "      <td>ml</td>\n",
       "      <td>0.157000</td>\n",
       "      <td>...</td>\n",
       "      <td>impulsive</td>\n",
       "      <td>emergent</td>\n",
       "      <td>27.007|20.797|19.252</td>\n",
       "      <td>2020.0</td>\n",
       "      <td>eq</td>\n",
       "      <td>1.59</td>\n",
       "      <td>0.156750</td>\n",
       "      <td>1.69</td>\n",
       "      <td>0.354773</td>\n",
       "      <td>NaN</td>\n",
       "    </tr>\n",
       "    <tr>\n",
       "      <th>4</th>\n",
       "      <td>4</td>\n",
       "      <td>uw61735446</td>\n",
       "      <td>2021-05-24T10:42:37.810000Z</td>\n",
       "      <td>46.857</td>\n",
       "      <td>-121.941</td>\n",
       "      <td>earthquake</td>\n",
       "      <td>12.380</td>\n",
       "      <td>0.83</td>\n",
       "      <td>ml</td>\n",
       "      <td>0.082983</td>\n",
       "      <td>...</td>\n",
       "      <td>impulsive</td>\n",
       "      <td>emergent</td>\n",
       "      <td>18.579|18.912|7.609</td>\n",
       "      <td>2021.0</td>\n",
       "      <td>eq</td>\n",
       "      <td>0.83</td>\n",
       "      <td>0.082983</td>\n",
       "      <td>0.50</td>\n",
       "      <td>0.381880</td>\n",
       "      <td>NaN</td>\n",
       "    </tr>\n",
       "  </tbody>\n",
       "</table>\n",
       "<p>5 rows × 37 columns</p>\n",
       "</div>"
      ],
      "text/plain": [
       "   Unnamed: 0    event_id           source_origin_time  source_latitude_deg  \\\n",
       "0           0  uw61669232  2020-09-07T03:44:14.690000Z               46.560   \n",
       "1           1  uw60888282  2014-10-08T15:39:31.330000Z               45.371   \n",
       "2           2  uw61361706  2017-12-30T04:37:46.870000Z               46.165   \n",
       "3           3  uw61639436  2020-06-09T23:37:10.420000Z               46.542   \n",
       "4           4  uw61735446  2021-05-24T10:42:37.810000Z               46.857   \n",
       "\n",
       "   source_longitude_deg source_type  source_depth_km  \\\n",
       "0              -119.797  earthquake           23.300   \n",
       "1              -121.708  earthquake           -0.947   \n",
       "2              -120.543  earthquake           13.520   \n",
       "3              -119.589  earthquake           16.370   \n",
       "4              -121.941  earthquake           12.380   \n",
       "\n",
       "   preferred_source_magnitude preferred_source_magnitude_type  \\\n",
       "0                        1.30                              ml   \n",
       "1                        1.67                              ml   \n",
       "2                        2.46                              ml   \n",
       "3                        1.59                              ml   \n",
       "4                        0.83                              ml   \n",
       "\n",
       "   preferred_source_magnitude_uncertainty  ...  trace_S_onset  trace_P_onset  \\\n",
       "0                                0.241000  ...      impulsive      impulsive   \n",
       "1                                0.128000  ...      impulsive      impulsive   \n",
       "2                                0.158000  ...      impulsive       emergent   \n",
       "3                                0.157000  ...      impulsive       emergent   \n",
       "4                                0.082983  ...      impulsive       emergent   \n",
       "\n",
       "           trace_snr_db    year source_type_pnsn_label source_local_magnitude  \\\n",
       "0    -1.444|2.612|9.921  2020.0                     eq                   1.30   \n",
       "1     0.368|3.526|5.981  2014.0                     eq                   1.67   \n",
       "2   11.274|13.32|15.828  2017.0                     eq                   2.46   \n",
       "3  27.007|20.797|19.252  2020.0                     eq                   1.59   \n",
       "4   18.579|18.912|7.609  2021.0                     eq                   0.83   \n",
       "\n",
       "   source_local_magnitude_uncertainty  source_duration_magnitude  \\\n",
       "0                            0.241273                       1.17   \n",
       "1                            0.128000                       1.63   \n",
       "2                            0.158000                       3.37   \n",
       "3                            0.156750                       1.69   \n",
       "4                            0.082983                       0.50   \n",
       "\n",
       "   source_duration_magnitude_uncertainty source_hand_magnitude  \n",
       "0                               0.187840                   NaN  \n",
       "1                               0.099000                   NaN  \n",
       "2                               0.389000                   NaN  \n",
       "3                               0.354773                   NaN  \n",
       "4                               0.381880                   NaN  \n",
       "\n",
       "[5 rows x 37 columns]"
      ]
     },
     "execution_count": 4,
     "metadata": {},
     "output_type": "execute_result"
    }
   ],
   "source": [
    "# plot the time series\n",
    "df = pd.read_csv(\"miniPNW_metadata.csv\")\n",
    "df.head()\n"
   ]
  },
  {
   "cell_type": "markdown",
   "metadata": {},
   "source": [
    "The nature of the event source is located in one of the metadata attributes"
   ]
  },
  {
   "cell_type": "code",
   "execution_count": 5,
   "metadata": {},
   "outputs": [
    {
     "data": {
      "text/plain": [
       "array(['earthquake', 'explosion', 'sonic_boom', 'thunder',\n",
       "       'surface_event'], dtype=object)"
      ]
     },
     "execution_count": 5,
     "metadata": {},
     "output_type": "execute_result"
    }
   ],
   "source": [
    "df['source_type'].unique()"
   ]
  },
  {
   "cell_type": "markdown",
   "metadata": {},
   "source": [
    "Let's assume that we are exploring features to classify the waveforms into the categories of the event types. We will attribute the **labels* as the ``source_type`` attribute."
   ]
  },
  {
   "cell_type": "code",
   "execution_count": 6,
   "metadata": {},
   "outputs": [],
   "source": [
    "labels=df['source_type']"
   ]
  },
  {
   "cell_type": "markdown",
   "metadata": {},
   "source": [
    "How many seismic waveforms are there in each of the category?"
   ]
  },
  {
   "cell_type": "code",
   "execution_count": null,
   "metadata": {},
   "outputs": [],
   "source": [
    "##"
   ]
  },
  {
   "cell_type": "markdown",
   "metadata": {},
   "source": [
    "Would you say that this is a balanced data set with respect to the four classes of interest?"
   ]
  },
  {
   "cell_type": "markdown",
   "metadata": {},
   "source": [
    "Now we will look at the seismic data, taking a random waveform from each of the categories"
   ]
  },
  {
   "cell_type": "code",
   "execution_count": 7,
   "metadata": {},
   "outputs": [
    {
     "data": {
      "text/plain": [
       "(array([500.,   0., 500.,   0.,   0., 126.,   0.,  94.,   0., 500.]),\n",
       " array([0. , 0.4, 0.8, 1.2, 1.6, 2. , 2.4, 2.8, 3.2, 3.6, 4. ]),\n",
       " <BarContainer object of 10 artists>)"
      ]
     },
     "execution_count": 7,
     "metadata": {},
     "output_type": "execute_result"
    },
    {
     "data": {
      "image/png": "[encoded data removed]",
      "text/plain": [
       "<Figure size 640x480 with 1 Axes>"
      ]
     },
     "metadata": {},
     "output_type": "display_data"
    }
   ],
   "source": [
    "plt.hist(labels)"
   ]
  },
  {
   "cell_type": "markdown",
   "metadata": {},
   "source": [
    "Now are read the data. It is stored in an HDF5 files under a finite number of groups. Each groups has an array of datasets that correspond to the waveforms. To link the metadata to the waveform files, the key trace_name has the dataset ID. The address is labeled as follows:\n",
    "```\n",
    "bucketX$i,:3,:n\n",
    "```\n",
    "\n",
    "where ``X`` is the HDF5 group number, ``i`` is the index. The file has typically 3 waveforms from each direction of ground motions N, E, Z. In the following exercise, we will focus on the vertical waveforms."
   ]
  },
  {
   "cell_type": "code",
   "execution_count": 8,
   "metadata": {},
   "outputs": [],
   "source": [
    "f = h5py.File(\"miniPNW_waveforms.hdf5\", \"r\")"
   ]
  },
  {
   "cell_type": "markdown",
   "metadata": {},
   "source": [
    "Below a function to read the file in the data"
   ]
  },
  {
   "cell_type": "code",
   "execution_count": 9,
   "metadata": {},
   "outputs": [],
   "source": [
    "def read_data(tn,f):\n",
    "    bucket, narray = tn.split('$')  # split the string of trace_name into bucket and narray\n",
    "    x, y, z = iter([int(i) for i in narray.split(',:')]) # split thenarray into x, y, z\n",
    "    data = f['/data/%s' % bucket][x, :y, :z] # read the data as a 3D array\n",
    "    return data"
   ]
  },
  {
   "cell_type": "markdown",
   "metadata": {},
   "source": [
    "The trace name is stored as data attriobute in the metadata."
   ]
  },
  {
   "cell_type": "code",
   "execution_count": 10,
   "metadata": {},
   "outputs": [],
   "source": [
    "ldata=list(df['trace_name'])"
   ]
  },
  {
   "cell_type": "code",
   "execution_count": 11,
   "metadata": {},
   "outputs": [
    {
     "name": "stdout",
     "output_type": "stream",
     "text": [
      "(3, 15001)\n"
     ]
    },
    {
     "data": {
      "text/plain": [
       "[<matplotlib.lines.Line2D at 0x1c90d4820>]"
      ]
     },
     "execution_count": 11,
     "metadata": {},
     "output_type": "execute_result"
    },
    {
     "data": {
      "image/png": "[encoded data removed]",
      "text/plain": [
       "<Figure size 640x480 with 1 Axes>"
      ]
     },
     "metadata": {},
     "output_type": "display_data"
    }
   ],
   "source": [
    "crap=read_data(ldata[400],f)\n",
    "print(crap.shape)\n",
    "plt.plot(crap[1,:])"
   ]
  },
  {
   "cell_type": "markdown",
   "metadata": {},
   "source": [
    "We will just extract the Z component and reshape them into a single array."
   ]
  },
  {
   "cell_type": "code",
   "execution_count": 12,
   "metadata": {},
   "outputs": [],
   "source": [
    "nt=crap.shape[-1]\n",
    "ndata=len(labels)\n",
    "Z=np.zeros(shape=(ndata,nt))\n",
    "for i in range(ndata-1):\n",
    "    Z[i,:]=read_data(df.iloc[i][\"trace_name\"],f)[2,:nt]"
   ]
  },
  {
   "cell_type": "markdown",
   "metadata": {},
   "source": [
    "Now we have data and its attributes, in particular the label as source type.\n",
    "\n",
    "We are going to extract features automatically from tsfel and explore how varied the"
   ]
  },
  {
   "cell_type": "code",
   "execution_count": 13,
   "metadata": {},
   "outputs": [
    {
     "name": "stdout",
     "output_type": "stream",
     "text": [
      "Requirement already satisfied: tsfel in /Users/marinedenolle/opt/miniconda3/envs/mlgeo/lib/python3.9/site-packages (0.1.6)\n",
      "Requirement already satisfied: setuptools>=47.1.1 in /Users/marinedenolle/opt/miniconda3/envs/mlgeo/lib/python3.9/site-packages (from tsfel) (65.5.1)\n",
      "Requirement already satisfied: ipython>=7.4.0 in /Users/marinedenolle/opt/miniconda3/envs/mlgeo/lib/python3.9/site-packages (from tsfel) (8.6.0)\n",
      "Requirement already satisfied: scipy>=1.7.3 in /Users/marinedenolle/opt/miniconda3/envs/mlgeo/lib/python3.9/site-packages (from tsfel) (1.9.3)\n",
      "Requirement already satisfied: pandas>=1.5.3 in /Users/marinedenolle/opt/miniconda3/envs/mlgeo/lib/python3.9/site-packages (from tsfel) (2.1.1)\n",
      "Requirement already satisfied: numpy>=1.18.5 in /Users/marinedenolle/opt/miniconda3/envs/mlgeo/lib/python3.9/site-packages (from tsfel) (1.23.5)\n",
      "Requirement already satisfied: prompt-toolkit<3.1.0,>3.0.1 in /Users/marinedenolle/opt/miniconda3/envs/mlgeo/lib/python3.9/site-packages (from ipython>=7.4.0->tsfel) (3.0.33)\n",
      "Requirement already satisfied: jedi>=0.16 in /Users/marinedenolle/opt/miniconda3/envs/mlgeo/lib/python3.9/site-packages (from ipython>=7.4.0->tsfel) (0.18.2)\n",
      "Requirement already satisfied: pickleshare in /Users/marinedenolle/opt/miniconda3/envs/mlgeo/lib/python3.9/site-packages (from ipython>=7.4.0->tsfel) (0.7.5)\n",
      "Requirement already satisfied: stack-data in /Users/marinedenolle/opt/miniconda3/envs/mlgeo/lib/python3.9/site-packages (from ipython>=7.4.0->tsfel) (0.6.2)\n",
      "Requirement already satisfied: pexpect>4.3 in /Users/marinedenolle/opt/miniconda3/envs/mlgeo/lib/python3.9/site-packages (from ipython>=7.4.0->tsfel) (4.8.0)\n",
      "Requirement already satisfied: appnope in /Users/marinedenolle/opt/miniconda3/envs/mlgeo/lib/python3.9/site-packages (from ipython>=7.4.0->tsfel) (0.1.3)\n",
      "Requirement already satisfied: backcall in /Users/marinedenolle/opt/miniconda3/envs/mlgeo/lib/python3.9/site-packages (from ipython>=7.4.0->tsfel) (0.2.0)\n",
      "Requirement already satisfied: traitlets>=5 in /Users/marinedenolle/opt/miniconda3/envs/mlgeo/lib/python3.9/site-packages (from ipython>=7.4.0->tsfel) (5.5.0)\n",
      "Requirement already satisfied: pygments>=2.4.0 in /Users/marinedenolle/opt/miniconda3/envs/mlgeo/lib/python3.9/site-packages (from ipython>=7.4.0->tsfel) (2.13.0)\n",
      "Requirement already satisfied: decorator in /Users/marinedenolle/opt/miniconda3/envs/mlgeo/lib/python3.9/site-packages (from ipython>=7.4.0->tsfel) (5.1.1)\n",
      "Requirement already satisfied: matplotlib-inline in /Users/marinedenolle/opt/miniconda3/envs/mlgeo/lib/python3.9/site-packages (from ipython>=7.4.0->tsfel) (0.1.6)\n",
      "Requirement already satisfied: parso<0.9.0,>=0.8.0 in /Users/marinedenolle/opt/miniconda3/envs/mlgeo/lib/python3.9/site-packages (from jedi>=0.16->ipython>=7.4.0->tsfel) (0.8.3)\n",
      "Requirement already satisfied: tzdata>=2022.1 in /Users/marinedenolle/opt/miniconda3/envs/mlgeo/lib/python3.9/site-packages (from pandas>=1.5.3->tsfel) (2023.3)\n",
      "Requirement already satisfied: python-dateutil>=2.8.2 in /Users/marinedenolle/opt/miniconda3/envs/mlgeo/lib/python3.9/site-packages (from pandas>=1.5.3->tsfel) (2.8.2)\n",
      "Requirement already satisfied: pytz>=2020.1 in /Users/marinedenolle/opt/miniconda3/envs/mlgeo/lib/python3.9/site-packages (from pandas>=1.5.3->tsfel) (2022.6)\n",
      "Requirement already satisfied: ptyprocess>=0.5 in /Users/marinedenolle/opt/miniconda3/envs/mlgeo/lib/python3.9/site-packages (from pexpect>4.3->ipython>=7.4.0->tsfel) (0.7.0)\n",
      "Requirement already satisfied: wcwidth in /Users/marinedenolle/opt/miniconda3/envs/mlgeo/lib/python3.9/site-packages (from prompt-toolkit<3.1.0,>3.0.1->ipython>=7.4.0->tsfel) (0.2.5)\n",
      "Requirement already satisfied: six>=1.5 in /Users/marinedenolle/opt/miniconda3/envs/mlgeo/lib/python3.9/site-packages (from python-dateutil>=2.8.2->pandas>=1.5.3->tsfel) (1.16.0)\n",
      "Requirement already satisfied: asttokens>=2.1.0 in /Users/marinedenolle/opt/miniconda3/envs/mlgeo/lib/python3.9/site-packages (from stack-data->ipython>=7.4.0->tsfel) (2.1.0)\n",
      "Requirement already satisfied: executing>=1.2.0 in /Users/marinedenolle/opt/miniconda3/envs/mlgeo/lib/python3.9/site-packages (from stack-data->ipython>=7.4.0->tsfel) (1.2.0)\n",
      "Requirement already satisfied: pure-eval in /Users/marinedenolle/opt/miniconda3/envs/mlgeo/lib/python3.9/site-packages (from stack-data->ipython>=7.4.0->tsfel) (0.2.2)\n"
     ]
    }
   ],
   "source": [
    "!pip install tsfel\n",
    "import tsfel"
   ]
  },
  {
   "cell_type": "markdown",
   "metadata": {},
   "source": [
    "We need to format for input into tsfresh. It needs 1 column with the ``id`` (or label), one column for the time stamps (``sort``)"
   ]
  },
  {
   "cell_type": "code",
   "execution_count": 14,
   "metadata": {},
   "outputs": [],
   "source": [
    "cfg = tsfel.get_features_by_domain()     "
   ]
  },
  {
   "cell_type": "code",
   "execution_count": 15,
   "metadata": {},
   "outputs": [
    {
     "data": {
      "text/plain": [
       "(1720, 15001)"
      ]
     },
     "execution_count": 15,
     "metadata": {},
     "output_type": "execute_result"
    }
   ],
   "source": [
    "Z.shape"
   ]
  },
  {
   "cell_type": "code",
   "execution_count": null,
   "metadata": {},
   "outputs": [],
   "source": [
    "for i in range(Z.shape[0]):\n",
    "    print(i/Z.shape[0])\n",
    "    if i==0:\n",
    "        X=tsfel.time_series_features_extractor(cfg, Z[i,:],fs=100.,)\n",
    "        X['source_type']=df.iloc[i]['source_type']\n",
    "    else:\n",
    "        XX = tsfel.time_series_features_extractor(cfg, Z[i,:],fs=100.,)\n",
    "        XX['source_type']=df.iloc[i]['source_type']\n",
    "        X=pd.concat([XX,X],axis=0,ignore_index=True)\n"
   ]
  },
  {
   "cell_type": "code",
   "execution_count": null,
   "metadata": {},
   "outputs": [],
   "source": [
    "X.head()"
   ]
  },
  {
   "cell_type": "markdown",
   "metadata": {},
   "source": [
    "## Exploring the feature space\n",
    "\n",
    "Here we will plot distributions of features among the four classes. And we will explore what features are most correlated with each others in each of the categories.\n"
   ]
  },
  {
   "cell_type": "code",
   "execution_count": null,
   "metadata": {},
   "outputs": [],
   "source": [
    "plt.hist(np.log10(X['0_Wavelet variance_1']));"
   ]
  },
  {
   "cell_type": "code",
   "execution_count": null,
   "metadata": {},
   "outputs": [],
   "source": [
    "plt.matshow(X.drop('source_type',axis=1).corr(),cmap='seismic',vmin=-1,vmax=1)"
   ]
  },
  {
   "cell_type": "markdown",
   "metadata": {},
   "source": [
    "Now calculate features for 100 events of each category and find features that differ from each other.\n",
    "\n",
    "You may 1) calculate all features, 2) plot histograms/distributions of each feature and overlay each source-specific feature, 3) report on the ones that look different between each class and propose a workflow to classify between event types."
   ]
  }
 ],
 "metadata": {
  "kernelspec": {
   "display_name": "mlgeo",
   "language": "python",
   "name": "python3"
  },
  "language_info": {
   "codemirror_mode": {
    "name": "ipython",
    "version": 3
   },
   "file_extension": ".py",
   "mimetype": "text/x-python",
   "name": "python",
   "nbconvert_exporter": "python",
   "pygments_lexer": "ipython3",
   "version": "3.9.18"
  },
  "orig_nbformat": 4
 },
 "nbformat": 4,
 "nbformat_minor": 2
}
