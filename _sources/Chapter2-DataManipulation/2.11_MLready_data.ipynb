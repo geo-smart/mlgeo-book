{
 "cells": [
  {
   "attachments": {},
   "cell_type": "markdown",
   "metadata": {},
   "source": [
    "# 2.11 ML-ready data\n",
    "\n",
    "\n",
    "Preparing and pre-processing data to integrate in machine learning workflow is fundamental towards a good machine learning project.\n",
    "\n",
    "- Organize the data in machine-readable formats and data structures that can be manipulated automatically in the ML workflow:\n",
    "    * arrange data in numpy arrays, Xarrays, or pandas. \n",
    "    * save data and its attributes in Zarr, H5, CSV.\n",
    "- extract feature from the data as a first step toward dimensionality reduction:\n",
    "    * extract statistical, temporal, or spectral features (use tsfresh, tsfel, ...)\n",
    "    * transform the data into Fourier or Wavelet space (use scipy fft or cwt module)\n",
    "    * reduce dimension by taking the PCA or ICA of the data. Save these features into file or metadata (use scikit-learn PCA or FastICA module). \n",
    "    * explore the dimensionality of the remaining feature space. Find correlations among features (use plotly interactive plotting, seaborn scatterplot visualization, or the pandas.corr matrix)\n",
    "    * Further reduce the dimension using:\n",
    "        + Feature *selection* finds the dimensions that explain the data without loss of information and ends with a smaller dimensionality of the input data.  A *forward selection* approach starts with one variable that decreases the error the most and add one by one.  A *backward selection* starts with all variables and removes them one by one.\n",
    "        + Feature *extraction* finds a new set of dimension as a combination of the original dimensions. They can be supervised or unsupervised depending on the output information. \n",
    "\n",
    "\n",
    "\n",
    "- Save the data processing workflow from raw data to feature data. \n",
    "    * Use the scitkit-learn [Pipeline](!https://scikit-learn.org/stable/modules/generated/sklearn.pipeline.Pipeline.html) module. \n",
    "    * Write a python script to reproduce the pre-processing.\n"
   ]
  }
 ],
 "metadata": {
  "kernelspec": {
   "display_name": "Python 3.9.6 ('madrona')",
   "language": "python",
   "name": "python3"
  },
  "language_info": {
   "name": "python",
   "version": "3.9.6"
  },
  "orig_nbformat": 4,
  "vscode": {
   "interpreter": {
    "hash": "1c2df93b363d800c8a9b94963221f1be1d8deaf6a76f83b6b9a486ad05d69583"
   }
  }
 },
 "nbformat": 4,
 "nbformat_minor": 2
}
