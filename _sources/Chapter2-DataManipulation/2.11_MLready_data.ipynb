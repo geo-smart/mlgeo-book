{
 "cells": [
  {
   "attachments": {},
   "cell_type": "markdown",
   "metadata": {},
   "source": [
    "# 2.11 ML-ready data\n",
    "\n",
    "\n",
    "Preparing and pre-processing data to integrate in machine learning workflow is fundamental towards a good machine learning project.\n",
    "\n",
    "Click [<img src=\"../img/teaching.png.png\" width=\"200\" >](../slides/MLReadyDatasets.pdf \"lecture slides\") to get the slides.\n",
    "\n",
    "1. **Consider the problem** \n",
    "\n",
    "    Before jumping to a specific algorithm, define the problem in the *most general terms*. Formulate to oneself and others what the question is. Is it about transform $A$ into $B$? Predicting $Y$ from $X$? Determining how one variable is related to another?  If the problem is computable, then it likely can be addressed using some ML method.\n",
    "\n",
    "2. **What is realistically possible?** \n",
    "    * Review existing literature (*not* necessarily ML-specific literature!). \n",
    "    * If experts can only achieve $x$ accuracy for some task, that should be your first benchmark. If $x$ accuracy is “good enough”, then the ML solution may not need to do better!\n",
    "\n",
    "3. **Look into general approaches** \n",
    "    * If the problem involves recognizing textures in images, read papers that describe both the history and state-of-the-art solutions to that general problem. \n",
    "    * Likewise, if the project involves dividing data into classes on the basis of several variables, read papers on classification methos.\n",
    "    * Like in the previous step, get a sense for what is possible for your general question. \n",
    "    * Determine whether the final approach will be *narrow* or *general* (and to what extent). \n",
    "\n",
    "4. **Compile the data**\n",
    "    * Get your data into one location (e.g., your home folder). \n",
    "    * This process can take some time, so do it early.\n",
    "    * However you assemble your data, you should document every step!\n",
    "\n",
    "5. **Organize the data** in machine-readable formats and data structures that can be manipulated automatically in the ML workflow:\n",
    "    * arrange data in numpy arrays, Xarrays, or pandas. \n",
    "    * save data and its attributes in Zarr, H5, CSV.\n",
    "    * store in a single folder\n",
    "    * do not transform and overwrite the raw data\n",
    "\n",
    "6.  **Characterize the data**\n",
    "    * Explore data statistical properties (draw histograms, distributions, cross-plots, plot correlation matrices). Save the scripts of all data exploration.\n",
    "    * What will be the actual data input.\n",
    "    * What are the output/labels.\n",
    "\n",
    "\n",
    "7. **Consider data manipulations** extract feature from the data as a first step toward dimensionality reduction:\n",
    "    * extract statistical, temporal, or spectral features (use tsfresh, tsfel, ...)\n",
    "    * transform the data into Fourier or Wavelet space (use scipy fft or cwt module)\n",
    "    * reduce dimension by taking the PCA or ICA of the data. Save these features into file or metadata (use scikit-learn PCA or FastICA module). Additional feature reduction might be:\n",
    "        + Feature *selection* finds the dimensions that explain the data without loss of information and ends with a smaller dimensionality of the input data.  A *forward selection* approach starts with one variable that decreases the error the most and add one by one.  A *backward selection* starts with all variables and removes them one by one.\n",
    "\n",
    "8. **Consider data augmentation**\n",
    "    * Say you have a small[^1] dataset. One thing you might do to address this issue is augment your data (e.g., create modified copies of your data).\n",
    "\n",
    "    * Bootstrap your data. Or use Monte Carlo methods to propagate uncertainties. If you have images, skew, stretch, rotate, and mirror them. \n",
    "\n",
    "9. **Towards reproducible workflows** Save the data processing workflow from raw data to feature data. \n",
    "    * Use the scitkit-learn [Pipeline](!https://scikit-learn.org/stable/modules/generated/sklearn.pipeline.Pipeline.html) module. \n",
    "    * Write a python script to reproduce the pre-processing.\n",
    "\n",
    "\n",
    "[^1]: The definition of “small” is problem dependent. 1000 observations may be more than enough for simple regression analyses. The same number of observations may not be adequate for image segmentation tasks. Consider the extent of your problem space. \n"
   ]
  }
 ],
 "metadata": {
  "kernelspec": {
   "display_name": "Python 3.9.6 ('madrona')",
   "language": "python",
   "name": "python3"
  },
  "language_info": {
   "name": "python",
   "version": "3.9.6"
  },
  "orig_nbformat": 4,
  "vscode": {
   "interpreter": {
    "hash": "1c2df93b363d800c8a9b94963221f1be1d8deaf6a76f83b6b9a486ad05d69583"
   }
  }
 },
 "nbformat": 4,
 "nbformat_minor": 2
}
