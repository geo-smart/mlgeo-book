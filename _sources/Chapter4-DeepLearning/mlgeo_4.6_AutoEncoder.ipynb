{
 "cells": [
  {
   "attachments": {},
   "cell_type": "markdown",
   "id": "59d306b5-6f4d-478a-9728-c6dec54200a1",
   "metadata": {},
   "source": [
    "# 4.5 Auto-encoders\n",
    "\n",
    "Autoencoders are neural networks that learn to efficiently compress and encode data then learn to reconstruct the data back from the reduced encoded representation to a representation that is as close to the original input as possible. Therefore, autoencoders reduce the dimensionality of the input data i.e. reducing the number of features that describe input data.\n",
    "\n",
    "They are popular for data denoising, data compression, feature extraction, image reconstruction and segmentation.\n",
    "\n",
    "![Auto-encoder](../img/autoen_architecture.png)\n",
    "<!-- <center><img src=\"figures/autoen_architecture.png\" alt=\"cnn\" style=\"width: 800px;\"/></center> -->\n",
    "The architecture of auto-encoders are typically symmetrical: \n",
    "* the encoder: branch of the network that encodes the data (feature extraction). The branch may contain blocks of neural networks such as linear layers, convolutional layers, \n",
    "* the bottleneck: smallest layer of the network that contains the smallest number of features, the lowest dimension of the data representation.\n",
    "* The decoder: branch of the network that takes the features and reconstruct the original data.\n",
    "\n",
    "\n",
    "\n",
    "Find interesting overview of several canonical architectures of auto-encoders:\n",
    "https://lilianweng.github.io/lil-log/2018/08/12/from-autoencoder-to-beta-vae.html"
   ]
  },
  {
   "cell_type": "code",
   "execution_count": 20,
   "id": "fd035ac6-55ed-4cb2-aa54-4c42ded3b602",
   "metadata": {},
   "outputs": [],
   "source": [
    "import numpy as np\n",
    "import matplotlib.pyplot as plt\n",
    "import pandas as pd\n",
    "import h5py\n",
    "import sklearn\n",
    "from sklearn.model_selection import train_test_split\n",
    "from torchinfo import summary\n",
    "import torch\n",
    "from torch.utils.data import Dataset, DataLoader\n",
    "from sklearn.datasets import load_digits,fetch_openml\n",
    "from sklearn.preprocessing import StandardScaler\n",
    "from torch.utils.data.sampler import SubsetRandomSampler\n",
    "from torchvision.transforms import transforms, ToTensor, Compose,Normalize\n",
    "from sklearn.model_selection import train_test_split\n",
    "from torchvision import datasets\n",
    "import torch\n",
    "import torch.nn as nn\n",
    "import numpy as np\n",
    "import os"
   ]
  },
  {
   "cell_type": "code",
   "execution_count": 99,
   "id": "bb21fc37-6e62-41bb-820a-4ff575e8e1c5",
   "metadata": {},
   "outputs": [],
   "source": [
    "dataset = datasets.FashionMNIST(root=\"./\",download=True,\n",
    "transform=Compose([ToTensor(),Normalize([0.5],[0.5])]))\n",
    "L=len(dataset)\n",
    "# Training set\n",
    "Lt = int(0.8*L)\n",
    "\n",
    "train_data, val_data = torch.utils.data.random_split(dataset, [Lt,L-Lt])"
   ]
  },
  {
   "cell_type": "code",
   "execution_count": 103,
   "id": "6dc978de",
   "metadata": {},
   "outputs": [
    {
     "name": "stdout",
     "output_type": "stream",
     "text": [
      "<torch.utils.data.dataset.Subset object at 0x2af90f8b0>\n",
      "torch.Size([50, 1, 28, 28])\n"
     ]
    }
   ],
   "source": [
    "print(train_set)\n",
    "loaded_train = DataLoader(train_data, batch_size=50,shuffle=True)\n",
    "loaded_test = DataLoader(val_data, batch_size=50,shuffle=True)\n",
    "X, y = next(iter(loaded_train))\n",
    "print(X.shape)"
   ]
  },
  {
   "cell_type": "markdown",
   "id": "a61def2e",
   "metadata": {},
   "source": [
    "Here is the example of an auto-encoder that only has fully connected layers."
   ]
  },
  {
   "cell_type": "code",
   "execution_count": 111,
   "id": "26d4fa44-54b2-4e74-973a-65631213306d",
   "metadata": {},
   "outputs": [
    {
     "data": {
      "text/plain": [
       "==========================================================================================\n",
       "Layer (type:depth-idx)                   Output Shape              Param #\n",
       "==========================================================================================\n",
       "StackedAE                                [1000, 1, 28, 28]         --\n",
       "├─StackedEncoder: 1-1                    [1000, 30]                --\n",
       "│    └─Flatten: 2-1                      [1000, 784]               --\n",
       "│    └─Linear: 2-2                       [1000, 100]               78,500\n",
       "│    └─SELU: 2-3                         [1000, 100]               --\n",
       "│    └─Linear: 2-4                       [1000, 30]                3,030\n",
       "│    └─SELU: 2-5                         [1000, 30]                --\n",
       "├─StackedDecoder: 1-2                    [1000, 784]               --\n",
       "│    └─Linear: 2-6                       [1000, 100]               3,100\n",
       "│    └─SELU: 2-7                         [1000, 100]               --\n",
       "│    └─Linear: 2-8                       [1000, 784]               79,184\n",
       "│    └─Sigmoid: 2-9                      [1000, 784]               --\n",
       "==========================================================================================\n",
       "Total params: 163,814\n",
       "Trainable params: 163,814\n",
       "Non-trainable params: 0\n",
       "Total mult-adds (M): 163.81\n",
       "==========================================================================================\n",
       "Input size (MB): 3.14\n",
       "Forward/backward pass size (MB): 8.11\n",
       "Params size (MB): 0.66\n",
       "Estimated Total Size (MB): 11.90\n",
       "=========================================================================================="
      ]
     },
     "execution_count": 111,
     "metadata": {},
     "output_type": "execute_result"
    }
   ],
   "source": [
    "class StackedEncoder(nn.Module):\n",
    "    def __init__(self):\n",
    "        super(StackedEncoder, self).__init__() # inherit from parent class\n",
    "        self.flatten = nn.Flatten() # flatten the input\n",
    "        self.fc1 = nn.Linear(28*28, 100) # 28*28 input features, 100 output features\n",
    "        self.fc2 = nn.Linear(100, 30) # 100 input features, 30 output features\n",
    "        self.activation = nn.SELU() # activation function\n",
    "\n",
    "    def forward(self, x):\n",
    "        x = self.flatten(x)\n",
    "        x = self.activation(self.fc1(x))\n",
    "        x = self.activation(self.fc2(x)) # bottleneck layer\n",
    "        return x\n",
    "\n",
    "class StackedDecoder(nn.Module):\n",
    "    def __init__(self): \n",
    "        super(StackedDecoder, self).__init__() # inherit from parent class\n",
    "        self.fc1 = nn.Linear(30, 100) # 30 input features, 100 output features\n",
    "        self.fc2 = nn.Linear(100, 28*28) # 100 input features, 28*28 output features\n",
    "        self.activation = nn.SELU() # activation function\n",
    "        self.sigmoid = nn.Sigmoid() # sigmoid function\n",
    "\n",
    "    def forward(self, x):\n",
    "        x = self.activation(self.fc1(x))\n",
    "        x = self.sigmoid(self.fc2(x))\n",
    "        return x\n",
    "\n",
    "class StackedAE(nn.Module): # general  stacked autoencoder\n",
    "    def __init__(self, encoder, decoder):\n",
    "        super(StackedAE, self).__init__() # inherit from parent class\n",
    "        self.encoder = encoder # encoder: it could be any encoder branch\n",
    "        self.decoder = decoder # decoder: it could be any decoder branc\n",
    "\n",
    "    def forward(self, x):\n",
    "        x = self.encoder(x)\n",
    "        x = self.decoder(x).view(-1, 1, 28, 28) # reshape the output\n",
    "        return x\n",
    "\n",
    "# Instantiate the models\n",
    "stacked_encoder = StackedEncoder()\n",
    "stacked_decoder = StackedDecoder()\n",
    "stacked_ae = StackedAE(stacked_encoder, stacked_decoder)\n",
    "\n",
    "# Print model summary\n",
    "summary(stacked_ae, input_size=(1000, 28, 28))\n"
   ]
  },
  {
   "cell_type": "markdown",
   "id": "e2afaf89",
   "metadata": {},
   "source": [
    "Function to train the model"
   ]
  },
  {
   "cell_type": "code",
   "execution_count": 114,
   "id": "869b2658",
   "metadata": {},
   "outputs": [],
   "source": [
    "def train(model, n_epochs, trainloader, testloader=None,learning_rate=0.001 ):\n",
    "\n",
    "    # Create directory for saving model\n",
    "    dir1 = './stacked_ae_checkpoint'\n",
    "    os.makedirs(dir1,exist_ok=True)\n",
    "    # Define loss and optimization method\n",
    "    criterion = nn.MSELoss()\n",
    "    optimizer = torch.optim.Adam(model.parameters(), lr=learning_rate)\n",
    "    \n",
    "    # # Save loss and error for plotting\n",
    "    loss_time = np.zeros(n_epochs)\n",
    "    loss_val_time = np.zeros(n_epochs)\n",
    "\n",
    "    # # Loop on number of epochs\n",
    "    for epoch in range(n_epochs):\n",
    "        # Initialize the loss\n",
    "        running_loss = 0\n",
    "        # Loop on samples in train set\n",
    "        for data in trainloader:\n",
    "            # Get the sample and modify the format for PyTorch\n",
    "            inputs= data[0]\n",
    "            inputs = inputs.float()\n",
    "            # Set the parameter gradients to zero\n",
    "            optimizer.zero_grad()\n",
    "            outputs = model(inputs)\n",
    "            loss = criterion(outputs, inputs) # the loss is the difference between the input and the reconstructed input\n",
    "            # Propagate the loss backward\n",
    "            loss.backward()\n",
    "            # Update the gradients\n",
    "            optimizer.step()\n",
    "            # Add the value of the loss for this sample\n",
    "            running_loss += loss.item()\n",
    "        # Save loss at the end of each epoch\n",
    "        loss_time[epoch] = running_loss/len(trainloader)\n",
    "\n",
    "        \n",
    "\n",
    "        checkpoint = {\n",
    "            'epoch': epoch + 1,\n",
    "            'state_dict': model.state_dict(),\n",
    "            'optimizer': optimizer.state_dict()\n",
    "                        }\n",
    "        \n",
    "        f_path = dir1+'/checkpoint.pt'\n",
    "        torch.save(checkpoint, f_path)\n",
    "        \n",
    "\n",
    "        \n",
    "        # After each epoch, evaluate the performance on the test set\n",
    "        if testloader is not None:\n",
    "\n",
    "            running_val_loss = 0\n",
    "            # We evaluate the model, so we do not need the gradient\n",
    "            with torch.no_grad(): # Context-manager that disabled gradient calculation.\n",
    "                # Loop on samples in test set\n",
    "                for data in testloader:\n",
    "                    # Get the sample and modify the format for PyTorch\n",
    "                    inputs = data[0]\n",
    "                    inputs = inputs.float() \n",
    "                    # Use model for sample in the test set\n",
    "                    outputs = model(inputs)\n",
    "                    # Compare predicted label and true label\n",
    "                    loss = criterion(outputs, inputs) # the loss is the difference between the input and the reconstructed input\n",
    "                    # _, predicted = torch.max(outputs.data, 1)\n",
    "                    \n",
    "                    running_val_loss += loss.item()\n",
    "        \n",
    "        loss_val_time[epoch] = running_val_loss/len(testloader)\n",
    "        # Print intermediate results on screen\n",
    "        if testloader is not None:\n",
    "            print('[Epoch %d] train loss: %.3f - val loss: %.3f' %\n",
    "              (epoch + 1, running_loss/len(trainloader), running_val_loss/len(testloader)))\n",
    "        else:\n",
    "            print('[Epoch %d] loss: %.3f' %\n",
    "              (epoch + 1, running_loss/len(trainloader)))\n",
    "\n",
    "    # Save history of loss and test error\n",
    "    if testloader is not None:\n",
    "        return (loss_time, loss_val_time)\n",
    "    else:\n",
    "        return (loss_time)\n",
    "        "
   ]
  },
  {
   "attachments": {},
   "cell_type": "markdown",
   "id": "cd4fd7d6-e07c-4892-8ef3-f230a4605260",
   "metadata": {},
   "source": [
    "The loss function in this case is not a MSE but instead a multilabel binary classifier on the probability of the pixel. "
   ]
  },
  {
   "cell_type": "code",
   "execution_count": 116,
   "id": "e6277b83",
   "metadata": {},
   "outputs": [
    {
     "name": "stdout",
     "output_type": "stream",
     "text": [
      "[Epoch 1] train loss: 0.597 - val loss: 0.595\n"
     ]
    }
   ],
   "source": [
    "(loss, loss_val) = train(stacked_ae, 30,loaded_train, loaded_test)"
   ]
  },
  {
   "cell_type": "markdown",
   "id": "189c0d93",
   "metadata": {},
   "source": [
    "Plot the loss curve"
   ]
  },
  {
   "cell_type": "code",
   "execution_count": null,
   "id": "adced269",
   "metadata": {},
   "outputs": [],
   "source": [
    "plt.plot(loss  , label='Training loss')\n",
    "plt.plot(loss_vl  , label='Validation loss')"
   ]
  },
  {
   "cell_type": "markdown",
   "id": "db75c321-c41d-4b6a-97b0-d4c9b0806729",
   "metadata": {},
   "source": [
    "We can visualize the reconstruction images."
   ]
  },
  {
   "cell_type": "code",
   "execution_count": 115,
   "id": "19e8d636-2c7f-445d-9f49-b23ffe4f0edb",
   "metadata": {},
   "outputs": [],
   "source": [
    "def plot_image(image):\n",
    "    plt.imshow(image,cmap=\"binary\")\n",
    "    plt.axis(\"off\")\n",
    "    \n",
    "def show_reconstruction(model,n_images=5):\n",
    "    reconstruction=model.predict(X_val[:n_images])\n",
    "    for image_index in range(n_images):\n",
    "        plt.subplot(2,n_images,1+image_index)\n",
    "        plot_image(X_val[image_index])\n",
    "        plt.subplot(2,n_images,1+n_images+image_index)\n",
    "        plot_image(reconstruction[image_index])"
   ]
  },
  {
   "cell_type": "code",
   "execution_count": 89,
   "id": "39cb28fe-5a60-490b-9af8-20f08a0af970",
   "metadata": {},
   "outputs": [
    {
     "ename": "AttributeError",
     "evalue": "'StackedAE' object has no attribute 'predict'",
     "output_type": "error",
     "traceback": [
      "\u001b[0;31m---------------------------------------------------------------------------\u001b[0m",
      "\u001b[0;31mAttributeError\u001b[0m                            Traceback (most recent call last)",
      "\u001b[1;32m/Users/marinedenolle/Dropbox/CLASSES/ESS490/curriculum-book/book/Chapter4-DeepLearning/mlgeo_4.6_AutoEncoder.ipynb Cell 16\u001b[0m line \u001b[0;36m1\n\u001b[0;32m----> <a href='vscode-notebook-cell:/Users/marinedenolle/Dropbox/CLASSES/ESS490/curriculum-book/book/Chapter4-DeepLearning/mlgeo_4.6_AutoEncoder.ipynb#X13sZmlsZQ%3D%3D?line=0'>1</a>\u001b[0m show_reconstruction(stacked_ae)\n",
      "\u001b[1;32m/Users/marinedenolle/Dropbox/CLASSES/ESS490/curriculum-book/book/Chapter4-DeepLearning/mlgeo_4.6_AutoEncoder.ipynb Cell 16\u001b[0m line \u001b[0;36m6\n\u001b[1;32m      <a href='vscode-notebook-cell:/Users/marinedenolle/Dropbox/CLASSES/ESS490/curriculum-book/book/Chapter4-DeepLearning/mlgeo_4.6_AutoEncoder.ipynb#X13sZmlsZQ%3D%3D?line=4'>5</a>\u001b[0m \u001b[39mdef\u001b[39;00m \u001b[39mshow_reconstruction\u001b[39m(model,n_images\u001b[39m=\u001b[39m\u001b[39m5\u001b[39m):\n\u001b[0;32m----> <a href='vscode-notebook-cell:/Users/marinedenolle/Dropbox/CLASSES/ESS490/curriculum-book/book/Chapter4-DeepLearning/mlgeo_4.6_AutoEncoder.ipynb#X13sZmlsZQ%3D%3D?line=5'>6</a>\u001b[0m     reconstruction\u001b[39m=\u001b[39mmodel\u001b[39m.\u001b[39;49mpredict(X_val[:n_images])\n\u001b[1;32m      <a href='vscode-notebook-cell:/Users/marinedenolle/Dropbox/CLASSES/ESS490/curriculum-book/book/Chapter4-DeepLearning/mlgeo_4.6_AutoEncoder.ipynb#X13sZmlsZQ%3D%3D?line=6'>7</a>\u001b[0m     \u001b[39mfor\u001b[39;00m image_index \u001b[39min\u001b[39;00m \u001b[39mrange\u001b[39m(n_images):\n\u001b[1;32m      <a href='vscode-notebook-cell:/Users/marinedenolle/Dropbox/CLASSES/ESS490/curriculum-book/book/Chapter4-DeepLearning/mlgeo_4.6_AutoEncoder.ipynb#X13sZmlsZQ%3D%3D?line=7'>8</a>\u001b[0m         plt\u001b[39m.\u001b[39msubplot(\u001b[39m2\u001b[39m,n_images,\u001b[39m1\u001b[39m\u001b[39m+\u001b[39mimage_index)\n",
      "File \u001b[0;32m~/opt/miniconda3/envs/mlgeo/lib/python3.9/site-packages/torch/nn/modules/module.py:1614\u001b[0m, in \u001b[0;36mModule.__getattr__\u001b[0;34m(self, name)\u001b[0m\n\u001b[1;32m   1612\u001b[0m     \u001b[39mif\u001b[39;00m name \u001b[39min\u001b[39;00m modules:\n\u001b[1;32m   1613\u001b[0m         \u001b[39mreturn\u001b[39;00m modules[name]\n\u001b[0;32m-> 1614\u001b[0m \u001b[39mraise\u001b[39;00m \u001b[39mAttributeError\u001b[39;00m(\u001b[39m\"\u001b[39m\u001b[39m'\u001b[39m\u001b[39m{}\u001b[39;00m\u001b[39m'\u001b[39m\u001b[39m object has no attribute \u001b[39m\u001b[39m'\u001b[39m\u001b[39m{}\u001b[39;00m\u001b[39m'\u001b[39m\u001b[39m\"\u001b[39m\u001b[39m.\u001b[39mformat(\n\u001b[1;32m   1615\u001b[0m     \u001b[39mtype\u001b[39m(\u001b[39mself\u001b[39m)\u001b[39m.\u001b[39m\u001b[39m__name__\u001b[39m, name))\n",
      "\u001b[0;31mAttributeError\u001b[0m: 'StackedAE' object has no attribute 'predict'"
     ]
    }
   ],
   "source": [
    "show_reconstruction(stacked_ae)"
   ]
  },
  {
   "cell_type": "markdown",
   "id": "08c4372f-0ea5-45d7-b81a-3d3d564fd818",
   "metadata": {},
   "source": [
    "This is not bad, but not great either. One could imagine training for longer or changing the architecture to include more layers or convolutional layers.\n"
   ]
  },
  {
   "cell_type": "markdown",
   "id": "855e271c-3fb4-4fb4-960d-8612749d30aa",
   "metadata": {},
   "source": [
    "# Convolutional autoencoder\n",
    "\n",
    "Auto-encoders that have convolutional layers\n"
   ]
  },
  {
   "cell_type": "code",
   "execution_count": 9,
   "id": "8e15e282-cc89-47b2-83b4-78b2ad7a4a4b",
   "metadata": {},
   "outputs": [
    {
     "name": "stdout",
     "output_type": "stream",
     "text": [
      "Model: \"sequential_1\"\n",
      "_________________________________________________________________\n",
      " Layer (type)                Output Shape              Param #   \n",
      "=================================================================\n",
      " encoder_cnn (Sequential)    (None, 3, 3, 64)          23296     \n",
      "                                                                 \n",
      " decoder_cnn (Sequential)    (None, 28, 28)            23233     \n",
      "                                                                 \n",
      "=================================================================\n",
      "Total params: 46,529\n",
      "Trainable params: 46,529\n",
      "Non-trainable params: 0\n",
      "_________________________________________________________________\n"
     ]
    }
   ],
   "source": [
    "conv_encoder = keras.models.Sequential([\n",
    "    keras.layers.Reshape([28,28,1],input_shape=[28,28]),\n",
    "    keras.layers.Conv2D(16,kernel_size=3,padding=\"same\",activation=\"selu\"),\n",
    "    keras.layers.MaxPool2D(pool_size=2),\n",
    "    keras.layers.Conv2D(32,kernel_size=3,padding=\"same\",activation=\"selu\"),\n",
    "    keras.layers.MaxPool2D(pool_size=2),\n",
    "    keras.layers.Conv2D(64,kernel_size=3,padding=\"same\",activation=\"selu\"),\n",
    "    keras.layers.MaxPool2D(pool_size=2)\n",
    "],name='encoder_cnn')\n",
    "conv_decoder = keras.models.Sequential([\n",
    "    keras.layers.Conv2DTranspose(32,kernel_size=3,padding=\"valid\",strides=2,activation=\"selu\",input_shape=[3,3,64]),\n",
    "    keras.layers.Conv2DTranspose(16,kernel_size=3,padding=\"same\",strides=2,activation=\"selu\"),\n",
    "    keras.layers.Conv2DTranspose(1,kernel_size=3,padding=\"same\",strides=2,activation=\"sigmoid\"),\n",
    "    keras.layers.Reshape([28,28])\n",
    "],name='decoder_cnn')\n",
    "\n",
    "stacked_ae_cnn = keras.models.Sequential([conv_encoder,conv_decoder])\n",
    "stacked_ae_cnn.summary()"
   ]
  },
  {
   "cell_type": "code",
   "execution_count": 10,
   "id": "4d419897-d25d-4e6e-9fe2-26fe0328cca8",
   "metadata": {},
   "outputs": [
    {
     "name": "stderr",
     "output_type": "stream",
     "text": [
      "/Users/marinedenolle/opt/miniconda3/envs/mlgeo/lib/python3.9/site-packages/keras/optimizers/optimizer_v2/gradient_descent.py:111: UserWarning: The `lr` argument is deprecated, use `learning_rate` instead.\n",
      "  super().__init__(name, **kwargs)\n"
     ]
    }
   ],
   "source": [
    "stacked_ae_cnn.compile(loss=\"binary_crossentropy\",optimizer=keras.optimizers.SGD(lr=1.5))"
   ]
  },
  {
   "cell_type": "code",
   "execution_count": 11,
   "id": "071e200a-2423-47c0-a7ed-8340b1bab7ed",
   "metadata": {},
   "outputs": [
    {
     "name": "stdout",
     "output_type": "stream",
     "text": [
      "Epoch 1/20\n",
      "1719/1719 [==============================] - 36s 21ms/step - loss: 0.3023 - val_loss: 0.2733\n",
      "Epoch 2/20\n",
      "1719/1719 [==============================] - 47s 27ms/step - loss: 0.2742 - val_loss: 0.2730\n",
      "Epoch 3/20\n",
      "1719/1719 [==============================] - 54s 31ms/step - loss: 0.2698 - val_loss: 0.2639\n",
      "Epoch 4/20\n",
      "1719/1719 [==============================] - 71s 42ms/step - loss: 0.2673 - val_loss: 0.2632\n",
      "Epoch 5/20\n",
      "1719/1719 [==============================] - 86s 50ms/step - loss: 0.2657 - val_loss: 0.2651\n",
      "Epoch 6/20\n",
      " 167/1719 [=>............................] - ETA: 1:09 - loss: 0.2680"
     ]
    }
   ],
   "source": [
    "history = stacked_ae_cnn.fit(X_train,X_train,epochs=20,validation_data=(X_val,X_val))"
   ]
  },
  {
   "cell_type": "code",
   "execution_count": null,
   "id": "7bc48a2c-cecf-437b-964c-41143fddbc6a",
   "metadata": {},
   "outputs": [
    {
     "data": {
      "image/png": "[encoded data removed]",
      "text/plain": [
       "<Figure size 432x288 with 10 Axes>"
      ]
     },
     "metadata": {
      "needs_background": "light"
     },
     "output_type": "display_data"
    }
   ],
   "source": [
    "show_reconstruction(stacked_ae_cnn)"
   ]
  },
  {
   "attachments": {},
   "cell_type": "markdown",
   "id": "51810bd9-b37f-4454-a682-372be3661a9d",
   "metadata": {},
   "source": [
    "#  Denoising auto-encoder\n",
    "\n",
    "Instead of training on the same input and output data, we can train a noisy data to represent a clean data.\n",
    "\n",
    "![Denoiser](../img/denoising-autoencoder-architecture.png)\n",
    "<!-- <center><img src=\"figures/denoising-autoencoder-architecture.png\" alt=\"cnn\" style=\"width: 800px;\"/></center> -->\n",
    "\n",
    "When starting with noise-free data, there are two ways to implement a denoising algorithm. First, one add noise to the data. Keras has a built in layer called GaussianNoise, but it would be easily implemented by adding a more structured noise to the data (use domain-knowledge). Second, one can use DropOut layer."
   ]
  },
  {
   "cell_type": "code",
   "execution_count": null,
   "id": "2e412be4-9164-47ac-8e10-df57f9073391",
   "metadata": {},
   "outputs": [
    {
     "name": "stdout",
     "output_type": "stream",
     "text": [
      "Model: \"sequential_15\"\n",
      "_________________________________________________________________\n",
      "Layer (type)                 Output Shape              Param #   \n",
      "=================================================================\n",
      "encoder_cnn (Sequential)     (None, 3, 3, 64)          23296     \n",
      "_________________________________________________________________\n",
      "decoder_cnn (Sequential)     (None, 28, 28)            23233     \n",
      "=================================================================\n",
      "Total params: 46,529\n",
      "Trainable params: 46,529\n",
      "Non-trainable params: 0\n",
      "_________________________________________________________________\n"
     ]
    }
   ],
   "source": [
    "denoise_encoder = keras.models.Sequential([\n",
    "    keras.layers.Reshape([28,28,1],input_shape=[28,28]),\n",
    "    keras.layers.Dropout(0.5),\n",
    "    keras.layers.Conv2D(16,kernel_size=3,padding=\"same\",activation=\"selu\"),\n",
    "    keras.layers.MaxPool2D(pool_size=2),\n",
    "    keras.layers.Conv2D(32,kernel_size=3,padding=\"same\",activation=\"selu\"),\n",
    "    keras.layers.MaxPool2D(pool_size=2),\n",
    "    keras.layers.Conv2D(64,kernel_size=3,padding=\"same\",activation=\"selu\"),\n",
    "    keras.layers.MaxPool2D(pool_size=2)\n",
    "],name='encoder_cnn')\n",
    "denoise_decoder = keras.models.Sequential([\n",
    "    keras.layers.Conv2DTranspose(32,kernel_size=3,padding=\"valid\",strides=2,activation=\"selu\",input_shape=[3,3,64]),\n",
    "    keras.layers.Conv2DTranspose(16,kernel_size=3,padding=\"same\",strides=2,activation=\"selu\"),\n",
    "    keras.layers.Conv2DTranspose(1,kernel_size=3,padding=\"same\",strides=2,activation=\"sigmoid\"),\n",
    "    keras.layers.Reshape([28,28])\n",
    "],name='decoder_cnn')\n",
    "\n",
    "denoise_ae_cnn = keras.models.Sequential([conv_encoder,conv_decoder])\n",
    "denoise_ae_cnn.summary()"
   ]
  },
  {
   "cell_type": "code",
   "execution_count": null,
   "id": "fab3f4bf-fb30-4535-afd5-00b3d9c4bb29",
   "metadata": {},
   "outputs": [
    {
     "name": "stdout",
     "output_type": "stream",
     "text": [
      "Epoch 1/20\n",
      "1719/1719 [==============================] - 25s 14ms/step - loss: 0.2551 - val_loss: 0.2533\n",
      "Epoch 2/20\n",
      "1719/1719 [==============================] - 26s 15ms/step - loss: 0.2565 - val_loss: 0.2543\n",
      "Epoch 3/20\n",
      "1719/1719 [==============================] - 26s 15ms/step - loss: 0.2554 - val_loss: 0.2525\n",
      "Epoch 4/20\n",
      "1719/1719 [==============================] - 25s 14ms/step - loss: 0.2551 - val_loss: 0.2531\n",
      "Epoch 5/20\n",
      "1719/1719 [==============================] - 26s 15ms/step - loss: 0.2557 - val_loss: 0.2524\n",
      "Epoch 6/20\n",
      "1719/1719 [==============================] - 27s 16ms/step - loss: 0.2550 - val_loss: 0.2526\n",
      "Epoch 7/20\n",
      "1719/1719 [==============================] - 26s 15ms/step - loss: 0.2552 - val_loss: 0.2539\n",
      "Epoch 8/20\n",
      "1719/1719 [==============================] - 26s 15ms/step - loss: 0.2549 - val_loss: 0.2521\n",
      "Epoch 9/20\n",
      "1719/1719 [==============================] - 26s 15ms/step - loss: 0.2558 - val_loss: 0.2527\n",
      "Epoch 10/20\n",
      "1719/1719 [==============================] - 25s 15ms/step - loss: 0.2552 - val_loss: 0.2524\n",
      "Epoch 11/20\n",
      "1719/1719 [==============================] - 25s 15ms/step - loss: 0.2548 - val_loss: 0.2525\n",
      "Epoch 12/20\n",
      "1719/1719 [==============================] - 25s 15ms/step - loss: 0.2564 - val_loss: 0.2523\n",
      "Epoch 13/20\n",
      "1719/1719 [==============================] - 23s 13ms/step - loss: 0.2556 - val_loss: 0.2522\n",
      "Epoch 14/20\n",
      "1719/1719 [==============================] - 23s 13ms/step - loss: 0.2550 - val_loss: 0.2520\n",
      "Epoch 15/20\n",
      "1719/1719 [==============================] - 23s 13ms/step - loss: 0.2550 - val_loss: 0.2524\n",
      "Epoch 16/20\n",
      "1719/1719 [==============================] - 23s 13ms/step - loss: 0.2553 - val_loss: 0.2526\n",
      "Epoch 17/20\n",
      "1719/1719 [==============================] - 23s 13ms/step - loss: 0.2541 - val_loss: 0.2533\n",
      "Epoch 18/20\n",
      "1719/1719 [==============================] - 23s 14ms/step - loss: 0.2550 - val_loss: 0.2520\n",
      "Epoch 19/20\n",
      "1719/1719 [==============================] - 22s 13ms/step - loss: 0.2555 - val_loss: 0.2519\n",
      "Epoch 20/20\n",
      "1719/1719 [==============================] - 23s 13ms/step - loss: 0.2550 - val_loss: 0.2540\n"
     ]
    }
   ],
   "source": [
    "denoise_ae_cnn.compile(loss=\"binary_crossentropy\",optimizer=keras.optimizers.SGD(lr=1.5))\n",
    "history = denoise_ae_cnn.fit(X_train,X_train,epochs=20,validation_data=(X_val,X_val))"
   ]
  },
  {
   "cell_type": "code",
   "execution_count": null,
   "id": "305d6242-f4aa-4c7d-8eb5-3ac27170ac6a",
   "metadata": {},
   "outputs": [
    {
     "data": {
      "image/png": "[encoded data removed]",
      "text/plain": [
       "<Figure size 432x288 with 10 Axes>"
      ]
     },
     "metadata": {
      "needs_background": "light"
     },
     "output_type": "display_data"
    }
   ],
   "source": [
    "show_reconstruction(denoise_ae_cnn)"
   ]
  },
  {
   "attachments": {},
   "cell_type": "markdown",
   "id": "ffd92b60",
   "metadata": {},
   "source": [
    "# U-Net\n",
    "\n",
    "These examples illustrates one of the limitations of auto-encoders. They cannot reconstruct high-fidelity data. The reconstructed image is **low resolution** because indeed, we reconstruct from a low-dimension feature space.\n",
    "\n",
    "A strategy to recover high-resolution feature is to introduce ***skip connections***: feed the output of the initial layers from the encoder branch as inputs to the layers of the decoder branch. This concept was also introduced in the *ResNet*, which is a deep sequential neural network with added skip (residual) connections. A **residual block** is one that takes the output of a layer, and sum with the output of an earlier layer.\n",
    "\n",
    "**U-nets** are encoder-decoders with skip connections introduced in the biomedical field.\n",
    "\n",
    "![Unet](../img/Unet.png)\n",
    "\n"
   ]
  },
  {
   "attachments": {},
   "cell_type": "markdown",
   "id": "428b23cc-35bd-4ec4-a9b5-74d1463944ce",
   "metadata": {},
   "source": [
    "# Examples in seismology \n",
    "\n",
    "The DeepDenoiser is a [Zhu et al., 2019](https://ieeexplore.ieee.org/abstract/document/8802278) is an interesting architecture to remove noise from seismograms\n",
    "![DeepDenoiser](../img/DeepDenoiser_architecture.png)\n",
    "<!-- <center><img src=\"figures/DeepDenoiser_architecture.png\" alt=\"cnn\" style=\"width: 800px;\"/></center> -->\n",
    "<center>Architecture of the DeepDenoiser Zhu et al, 2019: </center>\n",
    "The input is 2 images of the real and imaginary part of the short time Fourier transform of a seismogram. The outputs are 2 masks to apply on the data to extract the noise and the clean signal time series.\n",
    "\n",
    "You will note that the auto-encoder has skip connections. These have shown to improve training convergence and performance. They break the sequence of the neural networks, therefore we need to introduce wide neural networks! Stay tuned as I update this tutorial.\n",
    "\n",
    "Example of denoising seismogram is shown below.\n",
    "\n",
    "![DeepDenoiser](../img/DeepDenoiser_example.png)\n",
    "<!-- <center><img src=\"figures/DeepDenoiser_example.png\" alt=\"cnn\" style=\"width: 800px;\"/></center> -->\n",
    "Example of the DeepDenoiser Zhu et al, 2019"
   ]
  },
  {
   "attachments": {},
   "cell_type": "markdown",
   "id": "52e55898-cdb3-4755-885f-e05b024db5e8",
   "metadata": {},
   "source": [
    "# Encoder-Decoders: Multi-task models\n",
    "\n",
    "From the bottleneck, it is possible to decode several data types. In seismology, there are several models that propose a multi-task algorithm. \n",
    "\n",
    "\n",
    "One of such examples is that of the \"Earthquake Transformer\" from [Mousavi et al., 2020](https://www.nature.com/articles/s41467-020-17591-w) that takes on 3-component seismograms and predicts 3 probabilities: that of the presence of waveforms (detection branch), the probability of a P wave, the probability of an S wave.\n",
    "\n",
    "![Earthquake Transformer](../img/EqT.png)\n",
    "\n",
    "From [Mousavi et al., 2020](https://www.nature.com/articles/s41467-020-17591-w)\n",
    "\n",
    "\n",
    "Another example is that of [Yin et al., 2022](https://academic.oup.com/gji/article/231/3/1806/6651381), the \"WaveDecompNet\" that separate Earthquake signals from Noise signals. The noise signals may contain interesting, rather stationary or diffuse wavefield properties that can be used for seismological research. The idea of the model is to **decompose** the signals to output **2** useful time series from a noisy waveform.\n",
    "\n",
    "\n",
    "![WaveDecompNet](../img/wavedecompnet.jpeg)\n",
    "\n",
    "From [Yin et al., 2022](https://academic.oup.com/gji/article/231/3/1806/6651381), the WaveDecompNet has two bottlenecks to extract the low dimensionality of earthquake (transient) signals and of noise (diffuse, stationary) signals.\n"
   ]
  },
  {
   "attachments": {},
   "cell_type": "markdown",
   "id": "d1d92f0a",
   "metadata": {},
   "source": [
    "## Latent Space: the low dimensionality of the data\n",
    "The number of features in the bottleneck is a lower dimension representation of the input data. It is common practice to attempt to visualize the features at this stage. Visualization may require further dimensionality reduction such as PCA."
   ]
  },
  {
   "cell_type": "code",
   "execution_count": null,
   "id": "d3c95fb4-c82f-4d1d-ac56-28febbe0da24",
   "metadata": {},
   "outputs": [],
   "source": [
    "from sklearn.manifold import TSNE\n",
    "X_val_compressed = stacked_encoder.predict(X_val)\n",
    "tsne=TSNE()\n",
    "X_val_2d=tsne.fit_transform(X_val_compressed)\n",
    "plt.scatter(X_val_2d[:,0],X_val_2d[:,1],c=y_val,s=10,cmap=\"tab10\")"
   ]
  }
 ],
 "metadata": {
  "kernelspec": {
   "display_name": "Python 3.9.15",
   "language": "python",
   "name": "python3"
  },
  "language_info": {
   "codemirror_mode": {
    "name": "ipython",
    "version": 3
   },
   "file_extension": ".py",
   "mimetype": "text/x-python",
   "name": "python",
   "nbconvert_exporter": "python",
   "pygments_lexer": "ipython3",
   "version": "3.9.18"
  },
  "vscode": {
   "interpreter": {
    "hash": "d704ae355b7b8087bfbc9049b1d8fa775d26ffeddc871ef347ad01a53969e3aa"
   }
  }
 },
 "nbformat": 4,
 "nbformat_minor": 5
}
