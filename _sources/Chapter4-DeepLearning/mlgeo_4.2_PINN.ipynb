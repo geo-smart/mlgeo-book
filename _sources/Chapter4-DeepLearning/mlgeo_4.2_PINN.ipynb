{
 "cells": [
  {
   "cell_type": "markdown",
   "metadata": {},
   "source": [
    "# 4.2 Physics-Informed Neural Networks\n",
    "\n",
    "In the physical sciences, we may already have physical models to explain observations. The fundamental principle in PINNs trains a neural network that is physis-agnostic at initial design, but constraining the predictions to obey physical law by crafting the loss function accordingly.\n",
    "\n",
    "We will take the simple example of the heat diffusion in 1D. The tutorial below is inspired by https://github.com/TheodoreWolf/pinns."
   ]
  },
  {
   "cell_type": "code",
   "execution_count": 3,
   "metadata": {},
   "outputs": [],
   "source": [
    "import functools\n",
    "import matplotlib.pyplot as plt\n",
    "import numpy as np\n",
    "import torch\n",
    "\n",
    "DEVICE = torch.device('cuda' if torch.cuda.is_available() else 'cpu')\n",
    "\n",
    "torch.manual_seed(42)\n",
    "np.random.seed(10)"
   ]
  },
  {
   "cell_type": "markdown",
   "metadata": {},
   "source": [
    "The heat equation is a diffusion equation:\n",
    "\n",
    "$\\frac{\\partial T}{\\partial t} = k \\frac{\\partial^2 T}{\\partial x^2} $,\n",
    "\n",
    "where $k$ is the diffusivity. "
   ]
  },
  {
   "cell_type": "code",
   "execution_count": null,
   "metadata": {},
   "outputs": [],
   "source": [
    "Tenv = 25\n",
    "T0 = 100\n",
    "R = 0.005\n",
    "times = np.linspace(0, 1000, 1000)\n",
    "eq = functools.partial(cooling_law, Tenv=Tenv, T0=T0, R=R)\n",
    "temps = eq(times)\n",
    "\n",
    "# Make training data\n",
    "t = np.linspace(0, 300, 10)\n",
    "T = eq(t) +  2 * np.random.randn(10)\n",
    "\n",
    "plt.plot(times, temps)\n",
    "plt.plot(t, T, 'o')\n",
    "plt.legend(['Equation', 'Training data'])\n",
    "plt.ylabel('Temperature (C)')\n",
    "plt.xlabel('Time (s)')"
   ]
  }
 ],
 "metadata": {
  "kernelspec": {
   "display_name": "mlgeo",
   "language": "python",
   "name": "python3"
  },
  "language_info": {
   "codemirror_mode": {
    "name": "ipython",
    "version": 3
   },
   "file_extension": ".py",
   "mimetype": "text/x-python",
   "name": "python",
   "nbconvert_exporter": "python",
   "pygments_lexer": "ipython3",
   "version": "3.9.18"
  },
  "orig_nbformat": 4
 },
 "nbformat": 4,
 "nbformat_minor": 2
}
