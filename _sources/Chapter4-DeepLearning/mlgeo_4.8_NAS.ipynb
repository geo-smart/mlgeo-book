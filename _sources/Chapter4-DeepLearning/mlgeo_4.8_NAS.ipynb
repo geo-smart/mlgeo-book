{
 "cells": [
  {
   "attachments": {},
   "cell_type": "markdown",
   "metadata": {},
   "source": [
    "# 4.8 NAS: Network Architecture Search\n",
    "\n",
    "The best model is one that fits the data best and can generalize the best to new examples. Provided these two metrics, ML practitioners experiment on model architectures that best satisfy these conditions. This can lead to a time-consuming effort to find the best model architecture.\n",
    "\n",
    "A more systematic approach to finding the optimal model is to perform a **Network Architecture Search**, which is basically a consistent method to explore the \"model space\", as in the \"model architecture space\".\n",
    "\n",
    "\n",
    "The field of NAS yields several packages to automate the searches.\n",
    "\n",
    "In keras, this is the \"https://keras.io/keras_tuner/\" or \"auto keras\"\n",
    "\n",
    "For pytorch, this is auto-pytorch."
   ]
  },
  {
   "cell_type": "code",
   "execution_count": null,
   "metadata": {},
   "outputs": [],
   "source": []
  }
 ],
 "metadata": {
  "kernelspec": {
   "display_name": "Python 3.8.5",
   "language": "python",
   "name": "python3"
  },
  "language_info": {
   "name": "python",
   "version": "3.8.5"
  },
  "orig_nbformat": 4,
  "vscode": {
   "interpreter": {
    "hash": "bf1c1ab31e530e60b58e3d6ad0457a0c579c03efa8f6c28b6cdd125835b5a825"
   }
  }
 },
 "nbformat": 4,
 "nbformat_minor": 2
}
